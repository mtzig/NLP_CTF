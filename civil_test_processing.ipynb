{
 "cells": [
  {
   "cell_type": "code",
   "execution_count": 1,
   "metadata": {},
   "outputs": [],
   "source": [
    "import pandas as pd\n",
    "import numpy as np\n",
    "from tqdm import tqdm\n",
    "from pathlib import Path\n",
    "import random"
   ]
  },
  {
   "cell_type": "code",
   "execution_count": 3,
   "metadata": {},
   "outputs": [],
   "source": [
    "civil_df_data = pd.read_csv(\"./data/all_data_with_identities.csv\")\n",
    "train_identities_df = pd.read_csv(\"./data/train_identities.txt\", header=None)\n",
    "train_identities_lists = train_identities_df.values.tolist()\n",
    "test_identities_df = pd.read_csv(\"./data/test_identities.txt\", header=None)\n",
    "test_identities_lists = test_identities_df.values.tolist()"
   ]
  },
  {
   "cell_type": "code",
   "execution_count": 4,
   "metadata": {},
   "outputs": [],
   "source": [
    "test_identities = []\n",
    "for ident in test_identities_lists:\n",
    "    test_identities.append(ident[0])"
   ]
  },
  {
   "cell_type": "code",
   "execution_count": 5,
   "metadata": {},
   "outputs": [],
   "source": [
    "df_non_toxic = civil_df_data[civil_df_data['toxicity']<0.5]"
   ]
  },
  {
   "cell_type": "code",
   "execution_count": 7,
   "metadata": {},
   "outputs": [
    {
     "name": "stderr",
     "output_type": "stream",
     "text": [
      "100%|██████████| 448000/448000 [02:11<00:00, 3411.90it/s]\n"
     ]
    }
   ],
   "source": [
    "sentences = []\n",
    "a = []\n",
    "toxicity = []\n",
    "\n",
    "for row_index in tqdm(range(len(civil_df_data))):\n",
    "    comment_text = civil_df_data.iloc[row_index]['comment_text'].split()\n",
    "    if civil_df_data.iloc[row_index]['toxicity'] < 0.5 and len(comment_text) <= 10 and len(set(test_identities).intersection(comment_text)) != 0:\n",
    "        identity = str(set(test_identities).intersection(comment_text).pop())\n",
    "        sentences.append(civil_df_data.iloc[row_index]['comment_text'])\n",
    "        toxicity.append(0)\n",
    "        cur_a = []\n",
    "        \n",
    "        for diff_identity in test_identities:\n",
    "            cur_a.append(civil_df_data.at[row_index, \"comment_text\"].replace(identity, diff_identity))\n",
    "        a.append(cur_a)"
   ]
  },
  {
   "cell_type": "code",
   "execution_count": 8,
   "metadata": {},
   "outputs": [],
   "source": [
    "civil_df_raw_test = pd.DataFrame(list(zip(*a)))\n",
    "civil_df_test = civil_df_raw_test.T\n",
    "\n",
    "civil_df_test.insert(0, column='comment_text', value=sentences)"
   ]
  },
  {
   "cell_type": "code",
   "execution_count": 9,
   "metadata": {},
   "outputs": [],
   "source": [
    "civil_df_test.to_csv(Path(\"./data/civil_folder/civil_test_data.csv\"))"
   ]
  },
  {
   "cell_type": "code",
   "execution_count": null,
   "metadata": {},
   "outputs": [],
   "source": []
  }
 ],
 "metadata": {
  "kernelspec": {
   "display_name": "Python 3",
   "language": "python",
   "name": "python3"
  },
  "language_info": {
   "codemirror_mode": {
    "name": "ipython",
    "version": 3
   },
   "file_extension": ".py",
   "mimetype": "text/x-python",
   "name": "python",
   "nbconvert_exporter": "python",
   "pygments_lexer": "ipython3",
   "version": "3.8.3"
  }
 },
 "nbformat": 4,
 "nbformat_minor": 4
}
