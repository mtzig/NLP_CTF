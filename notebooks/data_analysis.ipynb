{
 "cells": [
  {
   "cell_type": "code",
   "execution_count": 1,
   "metadata": {},
   "outputs": [],
   "source": [
    "%load_ext autoreload\n",
    "%autoreload 2"
   ]
  },
  {
   "cell_type": "code",
   "execution_count": 2,
   "metadata": {},
   "outputs": [],
   "source": [
    "import pandas as pd\n",
    "import matplotlib.pyplot as plt"
   ]
  },
  {
   "cell_type": "code",
   "execution_count": 3,
   "metadata": {},
   "outputs": [],
   "source": [
    "def get_result(experiment):\n",
    "    return pd.read_csv(f'../results/{experiment}_experiment_new.csv')"
   ]
  },
  {
   "cell_type": "code",
   "execution_count": 4,
   "metadata": {},
   "outputs": [],
   "source": [
    "experiments = ('baseline', 'blind', 'augment', 'CLP1nt', 'CLP005', 'CLP1', 'CLP5')\n",
    "dfs = [get_result(e) for e in experiments]"
   ]
  },
  {
   "cell_type": "code",
   "execution_count": 5,
   "metadata": {},
   "outputs": [],
   "source": [
    "tab_1_results = []\n",
    "tab_1_cols = ['ctf_cc_train', 'ctf_synth_nontoxic', 'ctf_synth_toxic']\n",
    "for e, df  in zip(experiments, dfs):\n",
    "    row = [e] + list(df.mean()[tab_1_cols])\n",
    "    tab_1_results.append(row)\n",
    "df_tab_1 = pd.DataFrame(tab_1_results, columns=['experiment'] + tab_1_cols)"
   ]
  },
  {
   "cell_type": "code",
   "execution_count": 6,
   "metadata": {},
   "outputs": [
    {
     "data": {
      "text/html": [
       "<div>\n",
       "<style scoped>\n",
       "    .dataframe tbody tr th:only-of-type {\n",
       "        vertical-align: middle;\n",
       "    }\n",
       "\n",
       "    .dataframe tbody tr th {\n",
       "        vertical-align: top;\n",
       "    }\n",
       "\n",
       "    .dataframe thead th {\n",
       "        text-align: right;\n",
       "    }\n",
       "</style>\n",
       "<table border=\"1\" class=\"dataframe\">\n",
       "  <thead>\n",
       "    <tr style=\"text-align: right;\">\n",
       "      <th></th>\n",
       "      <th>experiment</th>\n",
       "      <th>ctf_cc_train</th>\n",
       "      <th>ctf_synth_nontoxic</th>\n",
       "      <th>ctf_synth_toxic</th>\n",
       "    </tr>\n",
       "  </thead>\n",
       "  <tbody>\n",
       "    <tr>\n",
       "      <th>0</th>\n",
       "      <td>baseline</td>\n",
       "      <td>0.064107</td>\n",
       "      <td>0.238501</td>\n",
       "      <td>0.105522</td>\n",
       "    </tr>\n",
       "    <tr>\n",
       "      <th>1</th>\n",
       "      <td>blind</td>\n",
       "      <td>0.065053</td>\n",
       "      <td>0.239071</td>\n",
       "      <td>0.096958</td>\n",
       "    </tr>\n",
       "    <tr>\n",
       "      <th>2</th>\n",
       "      <td>augment</td>\n",
       "      <td>0.023551</td>\n",
       "      <td>0.163673</td>\n",
       "      <td>0.097592</td>\n",
       "    </tr>\n",
       "    <tr>\n",
       "      <th>3</th>\n",
       "      <td>CLP1nt</td>\n",
       "      <td>0.051819</td>\n",
       "      <td>0.116098</td>\n",
       "      <td>0.094981</td>\n",
       "    </tr>\n",
       "    <tr>\n",
       "      <th>4</th>\n",
       "      <td>CLP005</td>\n",
       "      <td>0.033749</td>\n",
       "      <td>0.170533</td>\n",
       "      <td>0.084571</td>\n",
       "    </tr>\n",
       "    <tr>\n",
       "      <th>5</th>\n",
       "      <td>CLP1</td>\n",
       "      <td>0.037937</td>\n",
       "      <td>0.102444</td>\n",
       "      <td>0.065004</td>\n",
       "    </tr>\n",
       "    <tr>\n",
       "      <th>6</th>\n",
       "      <td>CLP5</td>\n",
       "      <td>0.020378</td>\n",
       "      <td>0.041436</td>\n",
       "      <td>0.022552</td>\n",
       "    </tr>\n",
       "  </tbody>\n",
       "</table>\n",
       "</div>"
      ],
      "text/plain": [
       "  experiment  ctf_cc_train  ctf_synth_nontoxic  ctf_synth_toxic\n",
       "0   baseline      0.064107            0.238501         0.105522\n",
       "1      blind      0.065053            0.239071         0.096958\n",
       "2    augment      0.023551            0.163673         0.097592\n",
       "3     CLP1nt      0.051819            0.116098         0.094981\n",
       "4     CLP005      0.033749            0.170533         0.084571\n",
       "5       CLP1      0.037937            0.102444         0.065004\n",
       "6       CLP5      0.020378            0.041436         0.022552"
      ]
     },
     "execution_count": 6,
     "metadata": {},
     "output_type": "execute_result"
    }
   ],
   "source": [
    "df_tab_1"
   ]
  },
  {
   "cell_type": "code",
   "execution_count": 7,
   "metadata": {},
   "outputs": [],
   "source": [
    "tab_2_results = []\n",
    "tab_2_cols = ['ctf_cc_eval']\n",
    "for e, df  in zip(experiments, dfs):\n",
    "    row = [e] + list(df.mean()[tab_2_cols])\n",
    "    tab_2_results.append(row)\n",
    "df_tab_2 = pd.DataFrame(tab_2_results, columns=['experiment'] + tab_2_cols)"
   ]
  },
  {
   "cell_type": "code",
   "execution_count": 8,
   "metadata": {},
   "outputs": [
    {
     "data": {
      "text/html": [
       "<div>\n",
       "<style scoped>\n",
       "    .dataframe tbody tr th:only-of-type {\n",
       "        vertical-align: middle;\n",
       "    }\n",
       "\n",
       "    .dataframe tbody tr th {\n",
       "        vertical-align: top;\n",
       "    }\n",
       "\n",
       "    .dataframe thead th {\n",
       "        text-align: right;\n",
       "    }\n",
       "</style>\n",
       "<table border=\"1\" class=\"dataframe\">\n",
       "  <thead>\n",
       "    <tr style=\"text-align: right;\">\n",
       "      <th></th>\n",
       "      <th>experiment</th>\n",
       "      <th>ctf_cc_eval</th>\n",
       "    </tr>\n",
       "  </thead>\n",
       "  <tbody>\n",
       "    <tr>\n",
       "      <th>0</th>\n",
       "      <td>baseline</td>\n",
       "      <td>0.175104</td>\n",
       "    </tr>\n",
       "    <tr>\n",
       "      <th>1</th>\n",
       "      <td>blind</td>\n",
       "      <td>0.178915</td>\n",
       "    </tr>\n",
       "    <tr>\n",
       "      <th>2</th>\n",
       "      <td>augment</td>\n",
       "      <td>0.125573</td>\n",
       "    </tr>\n",
       "    <tr>\n",
       "      <th>3</th>\n",
       "      <td>CLP1nt</td>\n",
       "      <td>0.125371</td>\n",
       "    </tr>\n",
       "    <tr>\n",
       "      <th>4</th>\n",
       "      <td>CLP005</td>\n",
       "      <td>0.140673</td>\n",
       "    </tr>\n",
       "    <tr>\n",
       "      <th>5</th>\n",
       "      <td>CLP1</td>\n",
       "      <td>0.103945</td>\n",
       "    </tr>\n",
       "    <tr>\n",
       "      <th>6</th>\n",
       "      <td>CLP5</td>\n",
       "      <td>0.035123</td>\n",
       "    </tr>\n",
       "  </tbody>\n",
       "</table>\n",
       "</div>"
      ],
      "text/plain": [
       "  experiment  ctf_cc_eval\n",
       "0   baseline     0.175104\n",
       "1      blind     0.178915\n",
       "2    augment     0.125573\n",
       "3     CLP1nt     0.125371\n",
       "4     CLP005     0.140673\n",
       "5       CLP1     0.103945\n",
       "6       CLP5     0.035123"
      ]
     },
     "execution_count": 8,
     "metadata": {},
     "output_type": "execute_result"
    }
   ],
   "source": [
    "df_tab_2"
   ]
  },
  {
   "cell_type": "code",
   "execution_count": 9,
   "metadata": {},
   "outputs": [],
   "source": [
    "fig_1_TNR = {}\n",
    "fig_1_TPR = {}\n",
    "fig_1_CTF = {}\n",
    "fig_1_res = ['cci_tn', 'cci_tp', 'ctf_cc_train']\n",
    "\n",
    "for e, df  in zip(experiments, dfs):\n",
    "    res = list(df.mean()[fig_1_res])\n",
    "    fig_1_TNR[e] = res[0]\n",
    "    fig_1_TPR[e] = res[1]\n",
    "    fig_1_CTF[e] = res[2]"
   ]
  },
  {
   "cell_type": "code",
   "execution_count": 10,
   "metadata": {},
   "outputs": [
    {
     "data": {
      "text/plain": [
       "Text(0.5, 1.0, 'TNR')"
      ]
     },
     "execution_count": 10,
     "metadata": {},
     "output_type": "execute_result"
    },
    {
     "data": {
      "image/png": "[encoded data removed]",
      "text/plain": [
       "<Figure size 640x480 with 1 Axes>"
      ]
     },
     "metadata": {},
     "output_type": "display_data"
    }
   ],
   "source": [
    "plt.bar(fig_1_TNR.keys(),fig_1_TNR.values())\n",
    "plt.ylim(0.85,1)\n",
    "plt.title('TNR')"
   ]
  },
  {
   "cell_type": "code",
   "execution_count": 11,
   "metadata": {},
   "outputs": [
    {
     "data": {
      "text/plain": [
       "Text(0.5, 1.0, 'TPR')"
      ]
     },
     "execution_count": 11,
     "metadata": {},
     "output_type": "execute_result"
    },
    {
     "data": {
      "image/png": "[encoded data removed]",
      "text/plain": [
       "<Figure size 640x480 with 1 Axes>"
      ]
     },
     "metadata": {},
     "output_type": "display_data"
    }
   ],
   "source": [
    "plt.bar(fig_1_TPR.keys(),fig_1_TPR.values())\n",
    "plt.ylim(0.0,0.5)\n",
    "plt.title('TPR')"
   ]
  },
  {
   "cell_type": "code",
   "execution_count": 12,
   "metadata": {},
   "outputs": [
    {
     "data": {
      "text/plain": [
       "Text(0.5, 1.0, 'CTF')"
      ]
     },
     "execution_count": 12,
     "metadata": {},
     "output_type": "execute_result"
    },
    {
     "data": {
      "image/png": "[encoded data removed]",
      "text/plain": [
       "<Figure size 640x480 with 1 Axes>"
      ]
     },
     "metadata": {},
     "output_type": "display_data"
    }
   ],
   "source": [
    "plt.bar(fig_1_CTF.keys(),fig_1_CTF.values())\n",
    "plt.ylim(0.0,0.1)\n",
    "plt.title('CTF')"
   ]
  }
 ],
 "metadata": {
  "kernelspec": {
   "display_name": "Python 3.10.4 ('DL')",
   "language": "python",
   "name": "python3"
  },
  "language_info": {
   "codemirror_mode": {
    "name": "ipython",
    "version": 3
   },
   "file_extension": ".py",
   "mimetype": "text/x-python",
   "name": "python",
   "nbconvert_exporter": "python",
   "pygments_lexer": "ipython3",
   "version": "3.10.4"
  },
  "orig_nbformat": 4,
  "vscode": {
   "interpreter": {
    "hash": "3b5da4dccc5d959110f70bd428b51197bb0688003461a0e87be372a9c01e32ac"
   }
  }
 },
 "nbformat": 4,
 "nbformat_minor": 2
}
