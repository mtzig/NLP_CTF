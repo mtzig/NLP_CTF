{
 "cells": [
  {
   "cell_type": "code",
   "execution_count": 1,
   "metadata": {},
   "outputs": [],
   "source": [
    "%load_ext autoreload\n",
    "%autoreload 2"
   ]
  },
  {
   "cell_type": "code",
   "execution_count": 2,
   "metadata": {},
   "outputs": [],
   "source": [
    "import pandas as pd\n",
    "import matplotlib.pyplot as plt"
   ]
  },
  {
   "cell_type": "code",
   "execution_count": 3,
   "metadata": {},
   "outputs": [],
   "source": [
    "def get_result(experiment):\n",
    "    return pd.read_csv(f'../results/{experiment}_experiment.csv')"
   ]
  },
  {
   "cell_type": "code",
   "execution_count": 4,
   "metadata": {},
   "outputs": [],
   "source": [
    "experiments = ('baseline', 'blind', 'augment', 'CLP1nt', 'CLP005', 'CLP1', 'CLP5')\n",
    "dfs = [get_result(e) for e in experiments]"
   ]
  },
  {
   "cell_type": "code",
   "execution_count": 5,
   "metadata": {},
   "outputs": [],
   "source": [
    "tab_1_results = []\n",
    "tab_1_cols = ['ctf_cc_train', 'ctf_synth_toxic', 'ctf_synth_nontoxic']\n",
    "for e, df  in zip(experiments, dfs):\n",
    "    row = [e] + list(df.mean()[tab_1_cols])\n",
    "    tab_1_results.append(row)\n",
    "df_tab_1 = pd.DataFrame(tab_1_results, columns=['experiment'] + tab_1_cols)"
   ]
  },
  {
   "cell_type": "code",
   "execution_count": 6,
   "metadata": {},
   "outputs": [
    {
     "data": {
      "text/html": [
       "<div>\n",
       "<style scoped>\n",
       "    .dataframe tbody tr th:only-of-type {\n",
       "        vertical-align: middle;\n",
       "    }\n",
       "\n",
       "    .dataframe tbody tr th {\n",
       "        vertical-align: top;\n",
       "    }\n",
       "\n",
       "    .dataframe thead th {\n",
       "        text-align: right;\n",
       "    }\n",
       "</style>\n",
       "<table border=\"1\" class=\"dataframe\">\n",
       "  <thead>\n",
       "    <tr style=\"text-align: right;\">\n",
       "      <th></th>\n",
       "      <th>experiment</th>\n",
       "      <th>ctf_cc_train</th>\n",
       "      <th>ctf_synth_toxic</th>\n",
       "      <th>ctf_synth_nontoxic</th>\n",
       "    </tr>\n",
       "  </thead>\n",
       "  <tbody>\n",
       "    <tr>\n",
       "      <th>0</th>\n",
       "      <td>baseline</td>\n",
       "      <td>5.419064e-02</td>\n",
       "      <td>1.046607e-01</td>\n",
       "      <td>1.993427e-01</td>\n",
       "    </tr>\n",
       "    <tr>\n",
       "      <th>1</th>\n",
       "      <td>blind</td>\n",
       "      <td>4.856295e-02</td>\n",
       "      <td>8.704228e-02</td>\n",
       "      <td>1.200758e-01</td>\n",
       "    </tr>\n",
       "    <tr>\n",
       "      <th>2</th>\n",
       "      <td>augment</td>\n",
       "      <td>2.476759e-02</td>\n",
       "      <td>5.000238e-02</td>\n",
       "      <td>2.641072e-02</td>\n",
       "    </tr>\n",
       "    <tr>\n",
       "      <th>3</th>\n",
       "      <td>CLP1nt</td>\n",
       "      <td>2.114578e-02</td>\n",
       "      <td>3.630375e-02</td>\n",
       "      <td>2.344671e-02</td>\n",
       "    </tr>\n",
       "    <tr>\n",
       "      <th>4</th>\n",
       "      <td>CLP005</td>\n",
       "      <td>1.450406e-02</td>\n",
       "      <td>8.482378e-02</td>\n",
       "      <td>1.159226e-01</td>\n",
       "    </tr>\n",
       "    <tr>\n",
       "      <th>5</th>\n",
       "      <td>CLP1</td>\n",
       "      <td>6.299064e-04</td>\n",
       "      <td>4.203872e-04</td>\n",
       "      <td>3.636517e-04</td>\n",
       "    </tr>\n",
       "    <tr>\n",
       "      <th>6</th>\n",
       "      <td>CLP5</td>\n",
       "      <td>2.265881e-07</td>\n",
       "      <td>8.822763e-08</td>\n",
       "      <td>9.684341e-08</td>\n",
       "    </tr>\n",
       "  </tbody>\n",
       "</table>\n",
       "</div>"
      ],
      "text/plain": [
       "  experiment  ctf_cc_train  ctf_synth_toxic  ctf_synth_nontoxic\n",
       "0   baseline  5.419064e-02     1.046607e-01        1.993427e-01\n",
       "1      blind  4.856295e-02     8.704228e-02        1.200758e-01\n",
       "2    augment  2.476759e-02     5.000238e-02        2.641072e-02\n",
       "3     CLP1nt  2.114578e-02     3.630375e-02        2.344671e-02\n",
       "4     CLP005  1.450406e-02     8.482378e-02        1.159226e-01\n",
       "5       CLP1  6.299064e-04     4.203872e-04        3.636517e-04\n",
       "6       CLP5  2.265881e-07     8.822763e-08        9.684341e-08"
      ]
     },
     "execution_count": 6,
     "metadata": {},
     "output_type": "execute_result"
    }
   ],
   "source": [
    "df_tab_1"
   ]
  },
  {
   "cell_type": "code",
   "execution_count": 7,
   "metadata": {},
   "outputs": [],
   "source": [
    "tab_2_results = []\n",
    "tab_2_cols = ['ctf_cc_eval']\n",
    "for e, df  in zip(experiments, dfs):\n",
    "    row = [e] + list(df.mean()[tab_2_cols])\n",
    "    tab_2_results.append(row)\n",
    "df_tab_2 = pd.DataFrame(tab_2_results, columns=['experiment'] + tab_2_cols)"
   ]
  },
  {
   "cell_type": "code",
   "execution_count": 8,
   "metadata": {},
   "outputs": [
    {
     "data": {
      "text/html": [
       "<div>\n",
       "<style scoped>\n",
       "    .dataframe tbody tr th:only-of-type {\n",
       "        vertical-align: middle;\n",
       "    }\n",
       "\n",
       "    .dataframe tbody tr th {\n",
       "        vertical-align: top;\n",
       "    }\n",
       "\n",
       "    .dataframe thead th {\n",
       "        text-align: right;\n",
       "    }\n",
       "</style>\n",
       "<table border=\"1\" class=\"dataframe\">\n",
       "  <thead>\n",
       "    <tr style=\"text-align: right;\">\n",
       "      <th></th>\n",
       "      <th>experiment</th>\n",
       "      <th>ctf_cc_eval</th>\n",
       "    </tr>\n",
       "  </thead>\n",
       "  <tbody>\n",
       "    <tr>\n",
       "      <th>0</th>\n",
       "      <td>baseline</td>\n",
       "      <td>1.583810e-01</td>\n",
       "    </tr>\n",
       "    <tr>\n",
       "      <th>1</th>\n",
       "      <td>blind</td>\n",
       "      <td>1.338806e-01</td>\n",
       "    </tr>\n",
       "    <tr>\n",
       "      <th>2</th>\n",
       "      <td>augment</td>\n",
       "      <td>4.720663e-02</td>\n",
       "    </tr>\n",
       "    <tr>\n",
       "      <th>3</th>\n",
       "      <td>CLP1nt</td>\n",
       "      <td>2.898559e-02</td>\n",
       "    </tr>\n",
       "    <tr>\n",
       "      <th>4</th>\n",
       "      <td>CLP005</td>\n",
       "      <td>1.003503e-01</td>\n",
       "    </tr>\n",
       "    <tr>\n",
       "      <th>5</th>\n",
       "      <td>CLP1</td>\n",
       "      <td>7.957457e-04</td>\n",
       "    </tr>\n",
       "    <tr>\n",
       "      <th>6</th>\n",
       "      <td>CLP5</td>\n",
       "      <td>8.569225e-08</td>\n",
       "    </tr>\n",
       "  </tbody>\n",
       "</table>\n",
       "</div>"
      ],
      "text/plain": [
       "  experiment   ctf_cc_eval\n",
       "0   baseline  1.583810e-01\n",
       "1      blind  1.338806e-01\n",
       "2    augment  4.720663e-02\n",
       "3     CLP1nt  2.898559e-02\n",
       "4     CLP005  1.003503e-01\n",
       "5       CLP1  7.957457e-04\n",
       "6       CLP5  8.569225e-08"
      ]
     },
     "execution_count": 8,
     "metadata": {},
     "output_type": "execute_result"
    }
   ],
   "source": [
    "df_tab_2"
   ]
  },
  {
   "cell_type": "code",
   "execution_count": 9,
   "metadata": {},
   "outputs": [],
   "source": [
    "fig_1_TNR = {}\n",
    "fig_1_TPR = {}\n",
    "fig_1_CTF = {}\n",
    "fig_1_res = ['cci_tn', 'cci_tp', 'ctf_cc_train']\n",
    "\n",
    "for e, df  in zip(experiments, dfs):\n",
    "    res = list(df.mean()[fig_1_res])\n",
    "    fig_1_TNR[e] = res[0]\n",
    "    fig_1_TPR[e] = res[1]\n",
    "    fig_1_CTF[e] = res[2]"
   ]
  },
  {
   "cell_type": "code",
   "execution_count": 10,
   "metadata": {},
   "outputs": [
    {
     "data": {
      "text/plain": [
       "Text(0.5, 1.0, 'TNR')"
      ]
     },
     "execution_count": 10,
     "metadata": {},
     "output_type": "execute_result"
    },
    {
     "data": {
      "image/png": "[encoded data removed]",
      "text/plain": [
       "<Figure size 640x480 with 1 Axes>"
      ]
     },
     "metadata": {},
     "output_type": "display_data"
    }
   ],
   "source": [
    "plt.bar(fig_1_TNR.keys(),fig_1_TNR.values())\n",
    "plt.ylim(0.85,1)\n",
    "plt.title('TNR')"
   ]
  },
  {
   "cell_type": "code",
   "execution_count": 11,
   "metadata": {},
   "outputs": [
    {
     "data": {
      "text/plain": [
       "Text(0.5, 1.0, 'TPR')"
      ]
     },
     "execution_count": 11,
     "metadata": {},
     "output_type": "execute_result"
    },
    {
     "data": {
      "image/png": "[encoded data removed]",
      "text/plain": [
       "<Figure size 640x480 with 1 Axes>"
      ]
     },
     "metadata": {},
     "output_type": "display_data"
    }
   ],
   "source": [
    "plt.bar(fig_1_TPR.keys(),fig_1_TPR.values())\n",
    "plt.ylim(0.0,0.3)\n",
    "plt.title('TPR')"
   ]
  },
  {
   "cell_type": "code",
   "execution_count": 12,
   "metadata": {},
   "outputs": [
    {
     "data": {
      "text/plain": [
       "Text(0.5, 1.0, 'CTF')"
      ]
     },
     "execution_count": 12,
     "metadata": {},
     "output_type": "execute_result"
    },
    {
     "data": {
      "image/png": "[encoded data removed]",
      "text/plain": [
       "<Figure size 640x480 with 1 Axes>"
      ]
     },
     "metadata": {},
     "output_type": "display_data"
    }
   ],
   "source": [
    "plt.bar(fig_1_CTF.keys(),fig_1_CTF.values())\n",
    "plt.ylim(0.0,0.1)\n",
    "plt.title('CTF')"
   ]
  },
  {
   "cell_type": "code",
   "execution_count": null,
   "metadata": {},
   "outputs": [],
   "source": []
  }
 ],
 "metadata": {
  "kernelspec": {
   "display_name": "Python 3.10.4 ('DL')",
   "language": "python",
   "name": "python3"
  },
  "language_info": {
   "codemirror_mode": {
    "name": "ipython",
    "version": 3
   },
   "file_extension": ".py",
   "mimetype": "text/x-python",
   "name": "python",
   "nbconvert_exporter": "python",
   "pygments_lexer": "ipython3",
   "version": "3.10.4"
  },
  "orig_nbformat": 4,
  "vscode": {
   "interpreter": {
    "hash": "3b5da4dccc5d959110f70bd428b51197bb0688003461a0e87be372a9c01e32ac"
   }
  }
 },
 "nbformat": 4,
 "nbformat_minor": 2
}
