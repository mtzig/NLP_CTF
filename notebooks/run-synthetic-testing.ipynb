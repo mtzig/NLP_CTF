{
 "cells": [
  {
   "cell_type": "markdown",
   "metadata": {
    "colab_type": "text",
    "id": "view-in-github"
   },
   "source": [
    "<a href=\"https://colab.research.google.com/github/mtzig/NLP_CTF/blob/main/notebooks/run.ipynb\" target=\"_parent\"><img src=\"https://colab.research.google.com/assets/colab-badge.svg\" alt=\"Open In Colab\"/></a>"
   ]
  },
  {
   "cell_type": "markdown",
   "metadata": {
    "id": "jL3cnoUDdxZ0"
   },
   "source": [
    "# Setup Environment\n",
    "\n",
    "This notebook is meant to be run in colab"
   ]
  },
  {
   "cell_type": "code",
   "execution_count": 28,
   "metadata": {
    "id": "3IVdud_6dxZ1"
   },
   "outputs": [],
   "source": [
    "%load_ext autoreload\n",
    "%autoreload 2"
   ]
  },
  {
   "cell_type": "code",
   "execution_count": 32,
   "metadata": {
    "colab": {
     "base_uri": "https://localhost:8080/"
    },
    "id": "PhL6tgrBdxZ1",
    "outputId": "84596358-efe9-48e6-ad68-de3c960c0b49"
   },
   "outputs": [
    {
     "name": "stdout",
     "output_type": "stream",
     "text": [
      "fatal: destination path 'NLP_CTF' already exists and is not an empty directory.\n",
      "[Errno 2] No such file or directory: '/content/NLP_CTF/'\n",
      "/Users/teaganjohnson\n"
     ]
    }
   ],
   "source": [
    "!git clone https://github.com/mtzig/NLP_CTF.git\n",
    "%cd /content/NLP_CTF/"
   ]
  },
  {
   "cell_type": "code",
   "execution_count": 3,
   "metadata": {
    "id": "zXaD-4C9ehpq"
   },
   "outputs": [],
   "source": [
    "# !git pull"
   ]
  },
  {
   "cell_type": "markdown",
   "metadata": {
    "id": "6qqJhCb2h0gK"
   },
   "source": [
    "Manually download files too large to host on github"
   ]
  },
  {
   "cell_type": "code",
   "execution_count": 13,
   "metadata": {
    "colab": {
     "base_uri": "https://localhost:8080/"
    },
    "id": "PYx7sTaTdxZ1",
    "outputId": "73f96845-83c7-48eb-fadf-705b95997130"
   },
   "outputs": [
    {
     "name": "stdout",
     "output_type": "stream",
     "text": [
      "[Errno 2] No such file or directory: '/content/NLP_CTF/data'\n",
      "/Users/teaganjohnson/NLP_CTF/notebooks\n",
      "--2022-11-16 12:54:58--  https://docs.google.com/uc?export=download&confirm=t&id=1JXm1N6SHmzIawgH7Aa4Ag-ZVuqLX7ba7\n",
      "Resolving docs.google.com (docs.google.com)... 142.250.190.78\n",
      "Connecting to docs.google.com (docs.google.com)|142.250.190.78|:443... connected.\n",
      "HTTP request sent, awaiting response... 303 See Other\n",
      "Location: https://doc-08-7o-docs.googleusercontent.com/docs/securesc/ha0ro937gcuc7l7deffksulhg5h7mbp1/skc654rc0r3uj0ro4rhjmb845stt8595/1668624825000/15857340408018396550/*/1JXm1N6SHmzIawgH7Aa4Ag-ZVuqLX7ba7?e=download&uuid=15073d62-ec88-425e-8724-490e3b3816e0 [following]\n",
      "Warning: wildcards not supported in HTTP.\n",
      "--2022-11-16 12:54:58--  https://doc-08-7o-docs.googleusercontent.com/docs/securesc/ha0ro937gcuc7l7deffksulhg5h7mbp1/skc654rc0r3uj0ro4rhjmb845stt8595/1668624825000/15857340408018396550/*/1JXm1N6SHmzIawgH7Aa4Ag-ZVuqLX7ba7?e=download&uuid=15073d62-ec88-425e-8724-490e3b3816e0\n",
      "Resolving doc-08-7o-docs.googleusercontent.com (doc-08-7o-docs.googleusercontent.com)... 142.250.191.161\n",
      "Connecting to doc-08-7o-docs.googleusercontent.com (doc-08-7o-docs.googleusercontent.com)|142.250.191.161|:443... connected.\n",
      "HTTP request sent, awaiting response... 200 OK\n",
      "Length: 3644258522 (3.4G) [application/macbinary]\n",
      "Saving to: ‘GoogleNews-vectors-negative300.bin’\n",
      "\n",
      "GoogleNews-vectors- 100%[===================>]   3.39G  30.6MB/s    in 2m 4s   \n",
      "\n",
      "2022-11-16 12:57:02 (28.1 MB/s) - ‘GoogleNews-vectors-negative300.bin’ saved [3644258522/3644258522]\n",
      "\n",
      "[Errno 2] No such file or directory: './civil_comments'\n",
      "/Users/teaganjohnson/NLP_CTF/notebooks\n",
      "--2022-11-16 12:57:03--  http://wget/\n",
      "Resolving wget (wget)... failed: nodename nor servname provided, or not known.\n",
      "wget: unable to resolve host address ‘wget’\n",
      "--2022-11-16 12:57:03--  https://docs.google.com/uc?export=download&confirm=t&id=1pVM0PGHDXrhE4dqQf-offz_Xv8SoPx0X\n",
      "Resolving docs.google.com (docs.google.com)... 142.250.190.78\n",
      "Connecting to docs.google.com (docs.google.com)|142.250.190.78|:443... connected.\n",
      "HTTP request sent, awaiting response... 303 See Other\n",
      "Location: https://doc-08-7o-docs.googleusercontent.com/docs/securesc/ha0ro937gcuc7l7deffksulhg5h7mbp1/p8hg2hscmgrm4jud8g3ro40c884d36f7/1668624975000/15857340408018396550/*/1pVM0PGHDXrhE4dqQf-offz_Xv8SoPx0X?e=download&uuid=d873576f-2a5e-4052-84bb-6c324c9c53f2 [following]\n",
      "Warning: wildcards not supported in HTTP.\n",
      "--2022-11-16 12:57:03--  https://doc-08-7o-docs.googleusercontent.com/docs/securesc/ha0ro937gcuc7l7deffksulhg5h7mbp1/p8hg2hscmgrm4jud8g3ro40c884d36f7/1668624975000/15857340408018396550/*/1pVM0PGHDXrhE4dqQf-offz_Xv8SoPx0X?e=download&uuid=d873576f-2a5e-4052-84bb-6c324c9c53f2\n",
      "Resolving doc-08-7o-docs.googleusercontent.com (doc-08-7o-docs.googleusercontent.com)... 142.250.191.161\n",
      "Connecting to doc-08-7o-docs.googleusercontent.com (doc-08-7o-docs.googleusercontent.com)|142.250.191.161|:443... connected.\n",
      "HTTP request sent, awaiting response... 200 OK\n",
      "Length: 272774548 (260M) [text/csv]\n",
      "Saving to: ‘civil_comments.csv’\n",
      "\n",
      "civil_comments.csv  100%[===================>] 260.14M  32.4MB/s    in 8.1s    \n",
      "\n",
      "2022-11-16 12:57:11 (32.1 MB/s) - ‘civil_comments.csv’ saved [272774548/272774548]\n",
      "\n",
      "FINISHED --2022-11-16 12:57:11--\n",
      "Total wall clock time: 8.7s\n",
      "Downloaded: 1 files, 260M in 8.1s (32.1 MB/s)\n",
      "/Users/teaganjohnson/NLP_CTF\n",
      "/Users/teaganjohnson\n"
     ]
    }
   ],
   "source": [
    "%cd /content/NLP_CTF/data\n",
    "!wget --load-cookies /tmp/cookies.txt \"https://docs.google.com/uc?export=download&confirm=$(wget --quiet --save-cookies /tmp/cookies.txt --keep-session-cookies --no-check-certificate 'https://docs.google.com/uc?export=download&id=1JXm1N6SHmzIawgH7Aa4Ag-ZVuqLX7ba7' -O- | sed -rn 's/.*confirm=([0-9A-Za-z_]+).*/\\1\\n/p')&id=1JXm1N6SHmzIawgH7Aa4Ag-ZVuqLX7ba7\" -O GoogleNews-vectors-negative300.bin && rm -rf /tmp/cookies.txt\n",
    "%cd ./civil_comments\n",
    "!wget wget --load-cookies /tmp/cookies.txt \"https://docs.google.com/uc?export=download&confirm=$(wget --quiet --save-cookies /tmp/cookies.txt --keep-session-cookies --no-check-certificate 'https://docs.google.com/uc?export=download&id=1pVM0PGHDXrhE4dqQf-offz_Xv8SoPx0X' -O- | sed -rn 's/.*confirm=([0-9A-Za-z_]+).*/\\1\\n/p')&id=1pVM0PGHDXrhE4dqQf-offz_Xv8SoPx0X\" -O civil_comments.csv && rm -rf /tmp/cookies.txt\n",
    "%cd ..\n",
    "%cd .."
   ]
  },
  {
   "cell_type": "code",
   "execution_count": 5,
   "metadata": {
    "colab": {
     "base_uri": "https://localhost:8080/"
    },
    "id": "yV1T8DXSdxZ1",
    "outputId": "2d7fbb8e-f244-4ae5-ed81-ef2546ceba2c"
   },
   "outputs": [
    {
     "name": "stdout",
     "output_type": "stream",
     "text": [
      "Looking in indexes: https://pypi.org/simple, https://us-python.pkg.dev/colab-wheels/public/simple/\n",
      "Requirement already satisfied: gensim in /usr/local/lib/python3.7/dist-packages (3.6.0)\n",
      "Collecting gensim\n",
      "  Downloading gensim-4.2.0-cp37-cp37m-manylinux_2_12_x86_64.manylinux2010_x86_64.whl (24.1 MB)\n",
      "\u001b[K     |████████████████████████████████| 24.1 MB 65.1 MB/s \n",
      "\u001b[?25hRequirement already satisfied: scipy>=0.18.1 in /usr/local/lib/python3.7/dist-packages (from gensim) (1.7.3)\n",
      "Requirement already satisfied: smart-open>=1.8.1 in /usr/local/lib/python3.7/dist-packages (from gensim) (5.2.1)\n",
      "Requirement already satisfied: numpy>=1.17.0 in /usr/local/lib/python3.7/dist-packages (from gensim) (1.21.6)\n",
      "Installing collected packages: gensim\n",
      "  Attempting uninstall: gensim\n",
      "    Found existing installation: gensim 3.6.0\n",
      "    Uninstalling gensim-3.6.0:\n",
      "      Successfully uninstalled gensim-3.6.0\n",
      "Successfully installed gensim-4.2.0\n"
     ]
    }
   ],
   "source": [
    "!pip install --upgrade gensim\n"
   ]
  },
  {
   "cell_type": "code",
   "execution_count": 6,
   "metadata": {
    "id": "KNDrDszse39A"
   },
   "outputs": [],
   "source": [
    "from google.colab import files"
   ]
  },
  {
   "cell_type": "markdown",
   "metadata": {
    "id": "9Owo4AXIeGr5"
   },
   "source": [
    "# Run experiment"
   ]
  },
  {
   "cell_type": "markdown",
   "metadata": {
    "id": "QQQ7b0WZ6qnk"
   },
   "source": [
    "Below is usage statement of our `run.py`"
   ]
  },
  {
   "cell_type": "code",
   "execution_count": null,
   "metadata": {
    "colab": {
     "base_uri": "https://localhost:8080/"
    },
    "id": "0u2dnld76mEL",
    "outputId": "ddf0d37d-fa12-46e4-835e-c3491ac202ad"
   },
   "outputs": [
    {
     "name": "stdout",
     "output_type": "stream",
     "text": [
      "usage: run.py [-h] [--lambda_clp LAMBDA_CLP] [--nontoxic] [--verbose]\n",
      "              [--trials TRIALS] [--epochs EPOCHS] [--test_name TEST_NAME]\n",
      "              [--device DEVICE]\n",
      "              train_method\n",
      "\n",
      "positional arguments:\n",
      "  train_method          method to train model i.e. baseline, blind, augment,\n",
      "                        CLP\n",
      "\n",
      "optional arguments:\n",
      "  -h, --help            show this help message and exit\n",
      "  --lambda_clp LAMBDA_CLP, -l LAMBDA_CLP\n",
      "                        the lambda value, only applicable if CLP is used,\n",
      "                        defaults to 0.05\n",
      "  --nontoxic, -x        only uses nontoxic comments, only applicable if CLP is\n",
      "                        used\n",
      "  --verbose, -v         Print results\n",
      "  --trials TRIALS, -t TRIALS\n",
      "                        The number of trials to run, defaults to 10\n",
      "  --epochs EPOCHS, -e EPOCHS\n",
      "                        The number of epochs to train model, defaults to 5\n",
      "  --test_name TEST_NAME, -n TEST_NAME\n",
      "                        The name of the test to run (defaults to \"test\"), the\n",
      "                        output files will be saved in the directory\n",
      "                        ./[name].csv\n",
      "  --device DEVICE, -d DEVICE\n",
      "                        The device Pytorch should use cuda, mps or cpu\n"
     ]
    }
   ],
   "source": [
    "!python run.py -h"
   ]
  },
  {
   "cell_type": "markdown",
   "metadata": {
    "id": "SnY0dyEXgDKX"
   },
   "source": [
    "# Example \n",
    "\n",
    "below runs blind, verbose (displays more output during experiment), runs 2 trials (trains and evaluates 2 models), trains each model for 2 epochs and saves csv as sample_experiment.csv"
   ]
  },
  {
   "cell_type": "code",
   "execution_count": null,
   "metadata": {
    "id": "9oINCMi_d-Bk"
   },
   "outputs": [],
   "source": [
    "!python run.py blind -v -t 2 -e 2 -n sample_experiment"
   ]
  },
  {
   "cell_type": "markdown",
   "metadata": {
    "id": "PqjTb1XLetuq"
   },
   "source": [
    "After running experiment, we can download (this command only works on chrome with third party cookies enabled)\n",
    "\n"
   ]
  },
  {
   "cell_type": "code",
   "execution_count": null,
   "metadata": {
    "colab": {
     "base_uri": "https://localhost:8080/",
     "height": 17
    },
    "id": "pNl9gt2Ue4zU",
    "outputId": "d10c657e-724e-412f-df85-2b766070d936"
   },
   "outputs": [
    {
     "data": {
      "application/javascript": [
       "\n",
       "    async function download(id, filename, size) {\n",
       "      if (!google.colab.kernel.accessAllowed) {\n",
       "        return;\n",
       "      }\n",
       "      const div = document.createElement('div');\n",
       "      const label = document.createElement('label');\n",
       "      label.textContent = `Downloading \"${filename}\": `;\n",
       "      div.appendChild(label);\n",
       "      const progress = document.createElement('progress');\n",
       "      progress.max = size;\n",
       "      div.appendChild(progress);\n",
       "      document.body.appendChild(div);\n",
       "\n",
       "      const buffers = [];\n",
       "      let downloaded = 0;\n",
       "\n",
       "      const channel = await google.colab.kernel.comms.open(id);\n",
       "      // Send a message to notify the kernel that we're ready.\n",
       "      channel.send({})\n",
       "\n",
       "      for await (const message of channel.messages) {\n",
       "        // Send a message to notify the kernel that we're ready.\n",
       "        channel.send({})\n",
       "        if (message.buffers) {\n",
       "          for (const buffer of message.buffers) {\n",
       "            buffers.push(buffer);\n",
       "            downloaded += buffer.byteLength;\n",
       "            progress.value = downloaded;\n",
       "          }\n",
       "        }\n",
       "      }\n",
       "      const blob = new Blob(buffers, {type: 'application/binary'});\n",
       "      const a = document.createElement('a');\n",
       "      a.href = window.URL.createObjectURL(blob);\n",
       "      a.download = filename;\n",
       "      div.appendChild(a);\n",
       "      a.click();\n",
       "      div.remove();\n",
       "    }\n",
       "  "
      ],
      "text/plain": [
       "<IPython.core.display.Javascript object>"
      ]
     },
     "metadata": {},
     "output_type": "display_data"
    },
    {
     "data": {
      "application/javascript": [
       "download(\"download_5e6fd162-6981-45de-843c-b3aeed47cacb\", \"sample_experiment.csv\", 900)"
      ],
      "text/plain": [
       "<IPython.core.display.Javascript object>"
      ]
     },
     "metadata": {},
     "output_type": "display_data"
    }
   ],
   "source": [
    "files.download('sample_experiment.csv') "
   ]
  },
  {
   "cell_type": "code",
   "execution_count": null,
   "metadata": {
    "colab": {
     "base_uri": "https://localhost:8080/",
     "height": 112
    },
    "id": "XbU29lSe9UhL",
    "outputId": "eee2b018-5037-4a45-8000-1f63a942b2d0"
   },
   "outputs": [
    {
     "data": {
      "text/html": [
       "\n",
       "  <div id=\"df-af9c55f4-689d-4742-be2a-43b37e9d727b\">\n",
       "    <div class=\"colab-df-container\">\n",
       "      <div>\n",
       "<style scoped>\n",
       "    .dataframe tbody tr th:only-of-type {\n",
       "        vertical-align: middle;\n",
       "    }\n",
       "\n",
       "    .dataframe tbody tr th {\n",
       "        vertical-align: top;\n",
       "    }\n",
       "\n",
       "    .dataframe thead th {\n",
       "        text-align: right;\n",
       "    }\n",
       "</style>\n",
       "<table border=\"1\" class=\"dataframe\">\n",
       "  <thead>\n",
       "    <tr style=\"text-align: right;\">\n",
       "      <th></th>\n",
       "      <th>jig_loss</th>\n",
       "      <th>jig_accuracy</th>\n",
       "      <th>jig_tp</th>\n",
       "      <th>jig_tn</th>\n",
       "      <th>jig_auc</th>\n",
       "      <th>cc_loss</th>\n",
       "      <th>cc_accuracy</th>\n",
       "      <th>cc_tp</th>\n",
       "      <th>cc_tn</th>\n",
       "      <th>cc_auc</th>\n",
       "      <th>cci_loss</th>\n",
       "      <th>cci_accuracy</th>\n",
       "      <th>cci_tp</th>\n",
       "      <th>cci_tn</th>\n",
       "      <th>cci_auc</th>\n",
       "      <th>ctf_cc_eval</th>\n",
       "      <th>ctf_cc_train</th>\n",
       "      <th>ctf_synth_toxic</th>\n",
       "      <th>ctf_synth_nontoxic</th>\n",
       "    </tr>\n",
       "  </thead>\n",
       "  <tbody>\n",
       "    <tr>\n",
       "      <th>0</th>\n",
       "      <td>0.173892</td>\n",
       "      <td>0.928976</td>\n",
       "      <td>0.776190</td>\n",
       "      <td>0.945049</td>\n",
       "      <td>0.960833</td>\n",
       "      <td>0.285482</td>\n",
       "      <td>0.902199</td>\n",
       "      <td>0.228981</td>\n",
       "      <td>0.988647</td>\n",
       "      <td>0.851119</td>\n",
       "      <td>0.677770</td>\n",
       "      <td>0.730469</td>\n",
       "      <td>0.202532</td>\n",
       "      <td>0.966102</td>\n",
       "      <td>0.712580</td>\n",
       "      <td>0.119069</td>\n",
       "      <td>0.046278</td>\n",
       "      <td>0.064529</td>\n",
       "      <td>0.099374</td>\n",
       "    </tr>\n",
       "    <tr>\n",
       "      <th>1</th>\n",
       "      <td>0.177952</td>\n",
       "      <td>0.927350</td>\n",
       "      <td>0.788342</td>\n",
       "      <td>0.941974</td>\n",
       "      <td>0.961427</td>\n",
       "      <td>0.290103</td>\n",
       "      <td>0.901900</td>\n",
       "      <td>0.228258</td>\n",
       "      <td>0.988402</td>\n",
       "      <td>0.844049</td>\n",
       "      <td>0.649404</td>\n",
       "      <td>0.734375</td>\n",
       "      <td>0.240506</td>\n",
       "      <td>0.954802</td>\n",
       "      <td>0.712882</td>\n",
       "      <td>0.114185</td>\n",
       "      <td>0.045283</td>\n",
       "      <td>0.081841</td>\n",
       "      <td>0.095657</td>\n",
       "    </tr>\n",
       "  </tbody>\n",
       "</table>\n",
       "</div>\n",
       "      <button class=\"colab-df-convert\" onclick=\"convertToInteractive('df-af9c55f4-689d-4742-be2a-43b37e9d727b')\"\n",
       "              title=\"Convert this dataframe to an interactive table.\"\n",
       "              style=\"display:none;\">\n",
       "        \n",
       "  <svg xmlns=\"http://www.w3.org/2000/svg\" height=\"24px\"viewBox=\"0 0 24 24\"\n",
       "       width=\"24px\">\n",
       "    <path d=\"M0 0h24v24H0V0z\" fill=\"none\"/>\n",
       "    <path d=\"M18.56 5.44l.94 2.06.94-2.06 2.06-.94-2.06-.94-.94-2.06-.94 2.06-2.06.94zm-11 1L8.5 8.5l.94-2.06 2.06-.94-2.06-.94L8.5 2.5l-.94 2.06-2.06.94zm10 10l.94 2.06.94-2.06 2.06-.94-2.06-.94-.94-2.06-.94 2.06-2.06.94z\"/><path d=\"M17.41 7.96l-1.37-1.37c-.4-.4-.92-.59-1.43-.59-.52 0-1.04.2-1.43.59L10.3 9.45l-7.72 7.72c-.78.78-.78 2.05 0 2.83L4 21.41c.39.39.9.59 1.41.59.51 0 1.02-.2 1.41-.59l7.78-7.78 2.81-2.81c.8-.78.8-2.07 0-2.86zM5.41 20L4 18.59l7.72-7.72 1.47 1.35L5.41 20z\"/>\n",
       "  </svg>\n",
       "      </button>\n",
       "      \n",
       "  <style>\n",
       "    .colab-df-container {\n",
       "      display:flex;\n",
       "      flex-wrap:wrap;\n",
       "      gap: 12px;\n",
       "    }\n",
       "\n",
       "    .colab-df-convert {\n",
       "      background-color: #E8F0FE;\n",
       "      border: none;\n",
       "      border-radius: 50%;\n",
       "      cursor: pointer;\n",
       "      display: none;\n",
       "      fill: #1967D2;\n",
       "      height: 32px;\n",
       "      padding: 0 0 0 0;\n",
       "      width: 32px;\n",
       "    }\n",
       "\n",
       "    .colab-df-convert:hover {\n",
       "      background-color: #E2EBFA;\n",
       "      box-shadow: 0px 1px 2px rgba(60, 64, 67, 0.3), 0px 1px 3px 1px rgba(60, 64, 67, 0.15);\n",
       "      fill: #174EA6;\n",
       "    }\n",
       "\n",
       "    [theme=dark] .colab-df-convert {\n",
       "      background-color: #3B4455;\n",
       "      fill: #D2E3FC;\n",
       "    }\n",
       "\n",
       "    [theme=dark] .colab-df-convert:hover {\n",
       "      background-color: #434B5C;\n",
       "      box-shadow: 0px 1px 3px 1px rgba(0, 0, 0, 0.15);\n",
       "      filter: drop-shadow(0px 1px 2px rgba(0, 0, 0, 0.3));\n",
       "      fill: #FFFFFF;\n",
       "    }\n",
       "  </style>\n",
       "\n",
       "      <script>\n",
       "        const buttonEl =\n",
       "          document.querySelector('#df-af9c55f4-689d-4742-be2a-43b37e9d727b button.colab-df-convert');\n",
       "        buttonEl.style.display =\n",
       "          google.colab.kernel.accessAllowed ? 'block' : 'none';\n",
       "\n",
       "        async function convertToInteractive(key) {\n",
       "          const element = document.querySelector('#df-af9c55f4-689d-4742-be2a-43b37e9d727b');\n",
       "          const dataTable =\n",
       "            await google.colab.kernel.invokeFunction('convertToInteractive',\n",
       "                                                     [key], {});\n",
       "          if (!dataTable) return;\n",
       "\n",
       "          const docLinkHtml = 'Like what you see? Visit the ' +\n",
       "            '<a target=\"_blank\" href=https://colab.research.google.com/notebooks/data_table.ipynb>data table notebook</a>'\n",
       "            + ' to learn more about interactive tables.';\n",
       "          element.innerHTML = '';\n",
       "          dataTable['output_type'] = 'display_data';\n",
       "          await google.colab.output.renderOutput(dataTable, element);\n",
       "          const docLink = document.createElement('div');\n",
       "          docLink.innerHTML = docLinkHtml;\n",
       "          element.appendChild(docLink);\n",
       "        }\n",
       "      </script>\n",
       "    </div>\n",
       "  </div>\n",
       "  "
      ],
      "text/plain": [
       "   jig_loss  jig_accuracy    jig_tp    jig_tn   jig_auc   cc_loss  \\\n",
       "0  0.173892      0.928976  0.776190  0.945049  0.960833  0.285482   \n",
       "1  0.177952      0.927350  0.788342  0.941974  0.961427  0.290103   \n",
       "\n",
       "   cc_accuracy     cc_tp     cc_tn    cc_auc  cci_loss  cci_accuracy  \\\n",
       "0     0.902199  0.228981  0.988647  0.851119  0.677770      0.730469   \n",
       "1     0.901900  0.228258  0.988402  0.844049  0.649404      0.734375   \n",
       "\n",
       "     cci_tp    cci_tn   cci_auc  ctf_cc_eval  ctf_cc_train  ctf_synth_toxic  \\\n",
       "0  0.202532  0.966102  0.712580     0.119069      0.046278         0.064529   \n",
       "1  0.240506  0.954802  0.712882     0.114185      0.045283         0.081841   \n",
       "\n",
       "   ctf_synth_nontoxic  \n",
       "0            0.099374  \n",
       "1            0.095657  "
      ]
     },
     "execution_count": 21,
     "metadata": {},
     "output_type": "execute_result"
    }
   ],
   "source": [
    "import pandas as pd\n",
    "df = pd.read_csv('./sample_experiment.csv')\n",
    "df.head()"
   ]
  },
  {
   "cell_type": "markdown",
   "metadata": {
    "id": "rwzwfF4C96KB"
   },
   "source": [
    "# Below will run all experiments we need"
   ]
  },
  {
   "cell_type": "code",
   "execution_count": null,
   "metadata": {
    "id": "TwRhj7dx-Dj4"
   },
   "outputs": [],
   "source": [
    "!python run.py baseline -v -n baseline_experiment\n",
    "files.download('baseline_experiment.csv') # Baseline"
   ]
  },
  {
   "cell_type": "code",
   "execution_count": null,
   "metadata": {
    "id": "m_4NuNkq6HO6"
   },
   "outputs": [],
   "source": [
    "!python run.py blind -v -n blind_experiment\n",
    "files.download('blind_experiment.csv') # Blind"
   ]
  },
  {
   "cell_type": "code",
   "execution_count": null,
   "metadata": {
    "id": "4pHNAhRj6J9k"
   },
   "outputs": [],
   "source": [
    "!python run.py augment -v -n augment_experiment\n",
    "files.download('augment_experiment.csv') # Augment"
   ]
  },
  {
   "cell_type": "code",
   "execution_count": null,
   "metadata": {
    "id": "w1GgAGFF6Mpk"
   },
   "outputs": [],
   "source": [
    "!python run.py CLP -v -l 0.05 -n CLP005_experiment\n",
    "files.download('CLP005_experiment.csv') # CLP lambda = 0.05"
   ]
  },
  {
   "cell_type": "code",
   "execution_count": null,
   "metadata": {
    "id": "XHf17MWU69wk"
   },
   "outputs": [],
   "source": [
    "!python run.py CLP -v -l 1 -n CLP1_experiment\n",
    "files.download('CLP1_experiment.csv') # CLP lambda = 1"
   ]
  },
  {
   "cell_type": "code",
   "execution_count": null,
   "metadata": {
    "id": "LmV4dKNq7M8b"
   },
   "outputs": [],
   "source": [
    "!python run.py CLP -v -l 5 -n CLP5_experiment\n",
    "files.download('CLP5_experiment.csv') # CLP lambda = 5"
   ]
  },
  {
   "cell_type": "code",
   "execution_count": null,
   "metadata": {
    "id": "YOpezmCU93N5"
   },
   "outputs": [],
   "source": [
    "!python run.py CLP -v -x -l 1 -n CLP1nt_experiment\n",
    "files.download('CLP1nt_experiment.csv') # CLP lambda = 1 only nontoxic"
   ]
  }
 ],
 "metadata": {
  "accelerator": "GPU",
  "colab": {
   "include_colab_link": true,
   "provenance": []
  },
  "kernelspec": {
   "display_name": "Python 3",
   "language": "python",
   "name": "python3"
  },
  "language_info": {
   "codemirror_mode": {
    "name": "ipython",
    "version": 3
   },
   "file_extension": ".py",
   "mimetype": "text/x-python",
   "name": "python",
   "nbconvert_exporter": "python",
   "pygments_lexer": "ipython3",
   "version": "3.8.3"
  },
  "vscode": {
   "interpreter": {
    "hash": "3b5da4dccc5d959110f70bd428b51197bb0688003461a0e87be372a9c01e32ac"
   }
  }
 },
 "nbformat": 4,
 "nbformat_minor": 1
}
