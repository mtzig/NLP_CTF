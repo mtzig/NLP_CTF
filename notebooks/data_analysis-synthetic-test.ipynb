{
 "cells": [
  {
   "cell_type": "code",
   "execution_count": 1,
   "metadata": {},
   "outputs": [],
   "source": [
    "%load_ext autoreload\n",
    "%autoreload 2"
   ]
  },
  {
   "cell_type": "code",
   "execution_count": 25,
   "metadata": {},
   "outputs": [],
   "source": [
    "import pandas as pd\n",
    "import matplotlib.pyplot as plt"
   ]
  },
  {
   "cell_type": "code",
   "execution_count": 26,
   "metadata": {},
   "outputs": [],
   "source": [
    "def get_result(experiment):\n",
    "    return pd.read_csv(f'../results/synthetic_data_results/{experiment}_experiment_new_synth_stuff.csv')"
   ]
  },
  {
   "cell_type": "code",
   "execution_count": 27,
   "metadata": {},
   "outputs": [],
   "source": [
    "experiments = ('baseline', 'blind', 'augment', 'CLP1nt', 'CLP005', 'CLP1', 'CLP5')\n",
    "dfs = [get_result(e) for e in experiments]"
   ]
  },
  {
   "cell_type": "code",
   "execution_count": 31,
   "metadata": {},
   "outputs": [],
   "source": [
    "tab_1_results = []\n",
    "tab_1_cols = ['ctf_cc_train', 'ctf_synth_77_nontoxic', 'ctf_synth_77_toxic']\n",
    "for e, df  in zip(experiments, dfs):\n",
    "    row = [e] + list(df.mean()[tab_1_cols])\n",
    "    tab_1_results.append(row)\n",
    "df_tab_77 = pd.DataFrame(tab_1_results, columns=['experiment'] + tab_1_cols)"
   ]
  },
  {
   "cell_type": "code",
   "execution_count": 32,
   "metadata": {},
   "outputs": [
    {
     "data": {
      "text/html": [
       "<div>\n",
       "<style scoped>\n",
       "    .dataframe tbody tr th:only-of-type {\n",
       "        vertical-align: middle;\n",
       "    }\n",
       "\n",
       "    .dataframe tbody tr th {\n",
       "        vertical-align: top;\n",
       "    }\n",
       "\n",
       "    .dataframe thead th {\n",
       "        text-align: right;\n",
       "    }\n",
       "</style>\n",
       "<table border=\"1\" class=\"dataframe\">\n",
       "  <thead>\n",
       "    <tr style=\"text-align: right;\">\n",
       "      <th></th>\n",
       "      <th>experiment</th>\n",
       "      <th>ctf_cc_train</th>\n",
       "      <th>ctf_synth_77_nontoxic</th>\n",
       "      <th>ctf_synth_77_toxic</th>\n",
       "    </tr>\n",
       "  </thead>\n",
       "  <tbody>\n",
       "    <tr>\n",
       "      <th>0</th>\n",
       "      <td>baseline</td>\n",
       "      <td>0.055386</td>\n",
       "      <td>0.222968</td>\n",
       "      <td>0.102324</td>\n",
       "    </tr>\n",
       "    <tr>\n",
       "      <th>1</th>\n",
       "      <td>blind</td>\n",
       "      <td>0.055807</td>\n",
       "      <td>0.214505</td>\n",
       "      <td>0.100596</td>\n",
       "    </tr>\n",
       "    <tr>\n",
       "      <th>2</th>\n",
       "      <td>augment</td>\n",
       "      <td>0.024822</td>\n",
       "      <td>0.158756</td>\n",
       "      <td>0.092733</td>\n",
       "    </tr>\n",
       "    <tr>\n",
       "      <th>3</th>\n",
       "      <td>CLP1nt</td>\n",
       "      <td>0.044866</td>\n",
       "      <td>0.124820</td>\n",
       "      <td>0.091747</td>\n",
       "    </tr>\n",
       "    <tr>\n",
       "      <th>4</th>\n",
       "      <td>CLP005</td>\n",
       "      <td>0.034068</td>\n",
       "      <td>0.157132</td>\n",
       "      <td>0.089825</td>\n",
       "    </tr>\n",
       "    <tr>\n",
       "      <th>5</th>\n",
       "      <td>CLP1</td>\n",
       "      <td>0.027980</td>\n",
       "      <td>0.087155</td>\n",
       "      <td>0.042747</td>\n",
       "    </tr>\n",
       "    <tr>\n",
       "      <th>6</th>\n",
       "      <td>CLP5</td>\n",
       "      <td>0.004523</td>\n",
       "      <td>0.009017</td>\n",
       "      <td>0.003479</td>\n",
       "    </tr>\n",
       "  </tbody>\n",
       "</table>\n",
       "</div>"
      ],
      "text/plain": [
       "  experiment  ctf_cc_train  ctf_synth_77_nontoxic  ctf_synth_77_toxic\n",
       "0   baseline      0.055386               0.222968            0.102324\n",
       "1      blind      0.055807               0.214505            0.100596\n",
       "2    augment      0.024822               0.158756            0.092733\n",
       "3     CLP1nt      0.044866               0.124820            0.091747\n",
       "4     CLP005      0.034068               0.157132            0.089825\n",
       "5       CLP1      0.027980               0.087155            0.042747\n",
       "6       CLP5      0.004523               0.009017            0.003479"
      ]
     },
     "execution_count": 32,
     "metadata": {},
     "output_type": "execute_result"
    }
   ],
   "source": [
    "df_tab_77"
   ]
  },
  {
   "cell_type": "code",
   "execution_count": 36,
   "metadata": {},
   "outputs": [],
   "source": [
    "tab_1_results = []\n",
    "tab_1_cols = ['ctf_cc_train', 'ctf_synth_89_nontoxic_2', 'ctf_synth_89_toxic_2', 'ctf_synth_77_nontoxic', 'ctf_synth_77_toxic']\n",
    "for e, df  in zip(experiments, dfs):\n",
    "    row = [e] + list(df.mean()[tab_1_cols])\n",
    "    tab_1_results.append(row)\n",
    "df_tab_new = pd.DataFrame(tab_1_results, columns=['experiment'] + tab_1_cols)"
   ]
  },
  {
   "cell_type": "code",
   "execution_count": 37,
   "metadata": {},
   "outputs": [
    {
     "data": {
      "text/html": [
       "<div>\n",
       "<style scoped>\n",
       "    .dataframe tbody tr th:only-of-type {\n",
       "        vertical-align: middle;\n",
       "    }\n",
       "\n",
       "    .dataframe tbody tr th {\n",
       "        vertical-align: top;\n",
       "    }\n",
       "\n",
       "    .dataframe thead th {\n",
       "        text-align: right;\n",
       "    }\n",
       "</style>\n",
       "<table border=\"1\" class=\"dataframe\">\n",
       "  <thead>\n",
       "    <tr style=\"text-align: right;\">\n",
       "      <th></th>\n",
       "      <th>experiment</th>\n",
       "      <th>ctf_cc_train</th>\n",
       "      <th>ctf_synth_89_nontoxic_2</th>\n",
       "      <th>ctf_synth_89_toxic_2</th>\n",
       "      <th>ctf_synth_77_nontoxic</th>\n",
       "      <th>ctf_synth_77_toxic</th>\n",
       "    </tr>\n",
       "  </thead>\n",
       "  <tbody>\n",
       "    <tr>\n",
       "      <th>0</th>\n",
       "      <td>baseline</td>\n",
       "      <td>0.055386</td>\n",
       "      <td>0.114428</td>\n",
       "      <td>0.084918</td>\n",
       "      <td>0.222968</td>\n",
       "      <td>0.102324</td>\n",
       "    </tr>\n",
       "    <tr>\n",
       "      <th>1</th>\n",
       "      <td>blind</td>\n",
       "      <td>0.055807</td>\n",
       "      <td>0.111633</td>\n",
       "      <td>0.080512</td>\n",
       "      <td>0.214505</td>\n",
       "      <td>0.100596</td>\n",
       "    </tr>\n",
       "    <tr>\n",
       "      <th>2</th>\n",
       "      <td>augment</td>\n",
       "      <td>0.024822</td>\n",
       "      <td>0.055601</td>\n",
       "      <td>0.071635</td>\n",
       "      <td>0.158756</td>\n",
       "      <td>0.092733</td>\n",
       "    </tr>\n",
       "    <tr>\n",
       "      <th>3</th>\n",
       "      <td>CLP1nt</td>\n",
       "      <td>0.044866</td>\n",
       "      <td>0.078364</td>\n",
       "      <td>0.070561</td>\n",
       "      <td>0.124820</td>\n",
       "      <td>0.091747</td>\n",
       "    </tr>\n",
       "    <tr>\n",
       "      <th>4</th>\n",
       "      <td>CLP005</td>\n",
       "      <td>0.034068</td>\n",
       "      <td>0.064755</td>\n",
       "      <td>0.063943</td>\n",
       "      <td>0.157132</td>\n",
       "      <td>0.089825</td>\n",
       "    </tr>\n",
       "    <tr>\n",
       "      <th>5</th>\n",
       "      <td>CLP1</td>\n",
       "      <td>0.027980</td>\n",
       "      <td>0.054537</td>\n",
       "      <td>0.069380</td>\n",
       "      <td>0.087155</td>\n",
       "      <td>0.042747</td>\n",
       "    </tr>\n",
       "    <tr>\n",
       "      <th>6</th>\n",
       "      <td>CLP5</td>\n",
       "      <td>0.004523</td>\n",
       "      <td>0.008884</td>\n",
       "      <td>0.008598</td>\n",
       "      <td>0.009017</td>\n",
       "      <td>0.003479</td>\n",
       "    </tr>\n",
       "  </tbody>\n",
       "</table>\n",
       "</div>"
      ],
      "text/plain": [
       "  experiment  ctf_cc_train  ctf_synth_89_nontoxic_2  ctf_synth_89_toxic_2  \\\n",
       "0   baseline      0.055386                 0.114428              0.084918   \n",
       "1      blind      0.055807                 0.111633              0.080512   \n",
       "2    augment      0.024822                 0.055601              0.071635   \n",
       "3     CLP1nt      0.044866                 0.078364              0.070561   \n",
       "4     CLP005      0.034068                 0.064755              0.063943   \n",
       "5       CLP1      0.027980                 0.054537              0.069380   \n",
       "6       CLP5      0.004523                 0.008884              0.008598   \n",
       "\n",
       "   ctf_synth_77_nontoxic  ctf_synth_77_toxic  \n",
       "0               0.222968            0.102324  \n",
       "1               0.214505            0.100596  \n",
       "2               0.158756            0.092733  \n",
       "3               0.124820            0.091747  \n",
       "4               0.157132            0.089825  \n",
       "5               0.087155            0.042747  \n",
       "6               0.009017            0.003479  "
      ]
     },
     "execution_count": 37,
     "metadata": {},
     "output_type": "execute_result"
    }
   ],
   "source": [
    "df_tab_new"
   ]
  },
  {
   "cell_type": "code",
   "execution_count": 19,
   "metadata": {},
   "outputs": [],
   "source": [
    "tab_2_results = []\n",
    "tab_2_cols = ['ctf_cc_eval']\n",
    "for e, df  in zip(experiments, dfs):\n",
    "    row = [e] + list(df.mean()[tab_2_cols])\n",
    "    tab_2_results.append(row)\n",
    "df_tab_2 = pd.DataFrame(tab_2_results, columns=['experiment'] + tab_2_cols)"
   ]
  },
  {
   "cell_type": "code",
   "execution_count": 13,
   "metadata": {},
   "outputs": [
    {
     "data": {
      "text/html": [
       "<div>\n",
       "<style scoped>\n",
       "    .dataframe tbody tr th:only-of-type {\n",
       "        vertical-align: middle;\n",
       "    }\n",
       "\n",
       "    .dataframe tbody tr th {\n",
       "        vertical-align: top;\n",
       "    }\n",
       "\n",
       "    .dataframe thead th {\n",
       "        text-align: right;\n",
       "    }\n",
       "</style>\n",
       "<table border=\"1\" class=\"dataframe\">\n",
       "  <thead>\n",
       "    <tr style=\"text-align: right;\">\n",
       "      <th></th>\n",
       "      <th>experiment</th>\n",
       "      <th>ctf_cc_eval</th>\n",
       "    </tr>\n",
       "  </thead>\n",
       "  <tbody>\n",
       "    <tr>\n",
       "      <th>0</th>\n",
       "      <td>baseline</td>\n",
       "      <td>0.157965</td>\n",
       "    </tr>\n",
       "    <tr>\n",
       "      <th>1</th>\n",
       "      <td>blind</td>\n",
       "      <td>0.166194</td>\n",
       "    </tr>\n",
       "    <tr>\n",
       "      <th>2</th>\n",
       "      <td>augment</td>\n",
       "      <td>0.128496</td>\n",
       "    </tr>\n",
       "    <tr>\n",
       "      <th>3</th>\n",
       "      <td>CLP1nt</td>\n",
       "      <td>0.107790</td>\n",
       "    </tr>\n",
       "    <tr>\n",
       "      <th>4</th>\n",
       "      <td>CLP005</td>\n",
       "      <td>0.140028</td>\n",
       "    </tr>\n",
       "    <tr>\n",
       "      <th>5</th>\n",
       "      <td>CLP1</td>\n",
       "      <td>0.074938</td>\n",
       "    </tr>\n",
       "    <tr>\n",
       "      <th>6</th>\n",
       "      <td>CLP5</td>\n",
       "      <td>0.016971</td>\n",
       "    </tr>\n",
       "  </tbody>\n",
       "</table>\n",
       "</div>"
      ],
      "text/plain": [
       "  experiment  ctf_cc_eval\n",
       "0   baseline     0.157965\n",
       "1      blind     0.166194\n",
       "2    augment     0.128496\n",
       "3     CLP1nt     0.107790\n",
       "4     CLP005     0.140028\n",
       "5       CLP1     0.074938\n",
       "6       CLP5     0.016971"
      ]
     },
     "execution_count": 13,
     "metadata": {},
     "output_type": "execute_result"
    }
   ],
   "source": [
    "df_tab_2"
   ]
  },
  {
   "cell_type": "code",
   "execution_count": 14,
   "metadata": {},
   "outputs": [],
   "source": [
    "fig_1_TNR = {}\n",
    "fig_1_TPR = {}\n",
    "fig_1_CTF = {}\n",
    "fig_1_res = ['cci_tn', 'cci_tp', 'ctf_cc_train']\n",
    "\n",
    "for e, df  in zip(experiments, dfs):\n",
    "    res = list(df.mean()[fig_1_res])\n",
    "    fig_1_TNR[e] = res[0]\n",
    "    fig_1_TPR[e] = res[1]\n",
    "    fig_1_CTF[e] = res[2]"
   ]
  },
  {
   "cell_type": "code",
   "execution_count": 15,
   "metadata": {},
   "outputs": [
    {
     "data": {
      "text/plain": [
       "Text(0.5, 1.0, 'TNR')"
      ]
     },
     "execution_count": 15,
     "metadata": {},
     "output_type": "execute_result"
    },
    {
     "data": {
      "image/png": "[encoded data removed]",
      "text/plain": [
       "<Figure size 432x288 with 1 Axes>"
      ]
     },
     "metadata": {
      "needs_background": "light"
     },
     "output_type": "display_data"
    }
   ],
   "source": [
    "plt.bar(fig_1_TNR.keys(),fig_1_TNR.values())\n",
    "plt.ylim(0.85,1)\n",
    "plt.title('TNR')"
   ]
  },
  {
   "cell_type": "code",
   "execution_count": 11,
   "metadata": {},
   "outputs": [
    {
     "data": {
      "text/plain": [
       "Text(0.5, 1.0, 'TPR')"
      ]
     },
     "execution_count": 11,
     "metadata": {},
     "output_type": "execute_result"
    },
    {
     "data": {
      "image/png": "[encoded data removed]",
      "text/plain": [
       "<Figure size 640x480 with 1 Axes>"
      ]
     },
     "metadata": {},
     "output_type": "display_data"
    }
   ],
   "source": [
    "plt.bar(fig_1_TPR.keys(),fig_1_TPR.values())\n",
    "plt.ylim(0.0,0.5)\n",
    "plt.title('TPR')"
   ]
  },
  {
   "cell_type": "code",
   "execution_count": 12,
   "metadata": {},
   "outputs": [
    {
     "data": {
      "text/plain": [
       "Text(0.5, 1.0, 'CTF')"
      ]
     },
     "execution_count": 12,
     "metadata": {},
     "output_type": "execute_result"
    },
    {
     "data": {
      "image/png": "[encoded data removed]",
      "text/plain": [
       "<Figure size 640x480 with 1 Axes>"
      ]
     },
     "metadata": {},
     "output_type": "display_data"
    }
   ],
   "source": [
    "plt.bar(fig_1_CTF.keys(),fig_1_CTF.values())\n",
    "plt.ylim(0.0,0.1)\n",
    "plt.title('CTF')"
   ]
  }
 ],
 "metadata": {
  "kernelspec": {
   "display_name": "Python 3",
   "language": "python",
   "name": "python3"
  },
  "language_info": {
   "codemirror_mode": {
    "name": "ipython",
    "version": 3
   },
   "file_extension": ".py",
   "mimetype": "text/x-python",
   "name": "python",
   "nbconvert_exporter": "python",
   "pygments_lexer": "ipython3",
   "version": "3.8.3"
  },
  "vscode": {
   "interpreter": {
    "hash": "3b5da4dccc5d959110f70bd428b51197bb0688003461a0e87be372a9c01e32ac"
   }
  }
 },
 "nbformat": 4,
 "nbformat_minor": 2
}
