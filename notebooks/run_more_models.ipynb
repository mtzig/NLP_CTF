{
  "cells": [
    {
      "cell_type": "markdown",
      "metadata": {
        "id": "view-in-github",
        "colab_type": "text"
      },
      "source": [
        "<a href=\"https://colab.research.google.com/github/mtzig/NLP_CTF/blob/main/notebooks/run_more_models.ipynb\" target=\"_parent\"><img src=\"https://colab.research.google.com/assets/colab-badge.svg\" alt=\"Open In Colab\"/></a>"
      ]
    },
    {
      "cell_type": "markdown",
      "metadata": {
        "id": "jL3cnoUDdxZ0"
      },
      "source": [
        "# Setup Environment\n",
        "\n",
        "This notebook is meant to be run in colab"
      ]
    },
    {
      "cell_type": "code",
      "execution_count": 1,
      "metadata": {
        "id": "3IVdud_6dxZ1"
      },
      "outputs": [],
      "source": [
        "%load_ext autoreload\n",
        "%autoreload 2"
      ]
    },
    {
      "cell_type": "code",
      "execution_count": 2,
      "metadata": {
        "id": "PhL6tgrBdxZ1",
        "outputId": "210e6d75-471d-40c5-ab6c-2690b4b3958c",
        "colab": {
          "base_uri": "https://localhost:8080/"
        }
      },
      "outputs": [
        {
          "output_type": "stream",
          "name": "stdout",
          "text": [
            "Cloning into 'NLP_CTF'...\n",
            "remote: Enumerating objects: 560, done.\u001b[K\n",
            "remote: Total 560 (delta 0), reused 0 (delta 0), pack-reused 560\u001b[K\n",
            "Receiving objects: 100% (560/560), 99.17 MiB | 14.42 MiB/s, done.\n",
            "Resolving deltas: 100% (346/346), done.\n",
            "Checking out files: 100% (51/51), done.\n",
            "/content/NLP_CTF\n"
          ]
        }
      ],
      "source": [
        "!git clone https://github.com/mtzig/NLP_CTF.git\n",
        "%cd /content/NLP_CTF/"
      ]
    },
    {
      "cell_type": "code",
      "source": [
        "# !git pull"
      ],
      "metadata": {
        "id": "zXaD-4C9ehpq"
      },
      "execution_count": null,
      "outputs": []
    },
    {
      "cell_type": "markdown",
      "source": [
        "Manually download files too large to host on github"
      ],
      "metadata": {
        "id": "6qqJhCb2h0gK"
      }
    },
    {
      "cell_type": "code",
      "execution_count": 3,
      "metadata": {
        "id": "PYx7sTaTdxZ1",
        "outputId": "a3680052-11e0-453f-d632-1238c19dadf5",
        "colab": {
          "base_uri": "https://localhost:8080/"
        }
      },
      "outputs": [
        {
          "output_type": "stream",
          "name": "stdout",
          "text": [
            "/content/NLP_CTF/data\n",
            "--2022-10-28 02:36:19--  https://docs.google.com/uc?export=download&confirm=t&id=1JXm1N6SHmzIawgH7Aa4Ag-ZVuqLX7ba7\n",
            "Resolving docs.google.com (docs.google.com)... 142.251.10.138, 142.251.10.100, 142.251.10.113, ...\n",
            "Connecting to docs.google.com (docs.google.com)|142.251.10.138|:443... connected.\n",
            "HTTP request sent, awaiting response... 303 See Other\n",
            "Location: https://doc-08-7o-docs.googleusercontent.com/docs/securesc/ha0ro937gcuc7l7deffksulhg5h7mbp1/eqntugvmiobaqgk0eutn45kjfp9adamg/1666924575000/15857340408018396550/*/1JXm1N6SHmzIawgH7Aa4Ag-ZVuqLX7ba7?e=download&uuid=5cbcf95c-c768-48f4-9082-45560049712a [following]\n",
            "Warning: wildcards not supported in HTTP.\n",
            "--2022-10-28 02:36:19--  https://doc-08-7o-docs.googleusercontent.com/docs/securesc/ha0ro937gcuc7l7deffksulhg5h7mbp1/eqntugvmiobaqgk0eutn45kjfp9adamg/1666924575000/15857340408018396550/*/1JXm1N6SHmzIawgH7Aa4Ag-ZVuqLX7ba7?e=download&uuid=5cbcf95c-c768-48f4-9082-45560049712a\n",
            "Resolving doc-08-7o-docs.googleusercontent.com (doc-08-7o-docs.googleusercontent.com)... 142.251.12.132, 2404:6800:4003:c11::84\n",
            "Connecting to doc-08-7o-docs.googleusercontent.com (doc-08-7o-docs.googleusercontent.com)|142.251.12.132|:443... connected.\n",
            "HTTP request sent, awaiting response... 200 OK\n",
            "Length: 3644258522 (3.4G) [application/macbinary]\n",
            "Saving to: ‘GoogleNews-vectors-negative300.bin’\n",
            "\n",
            "GoogleNews-vectors- 100%[===================>]   3.39G   241MB/s    in 14s     \n",
            "\n",
            "2022-10-28 02:36:34 (247 MB/s) - ‘GoogleNews-vectors-negative300.bin’ saved [3644258522/3644258522]\n",
            "\n",
            "/content/NLP_CTF/data/civil_comments\n",
            "--2022-10-28 02:36:34--  http://wget/\n",
            "Resolving wget (wget)... failed: Name or service not known.\n",
            "wget: unable to resolve host address ‘wget’\n",
            "--2022-10-28 02:36:34--  https://docs.google.com/uc?export=download&confirm=t&id=1pVM0PGHDXrhE4dqQf-offz_Xv8SoPx0X\n",
            "Resolving docs.google.com (docs.google.com)... 142.251.10.138, 142.251.10.100, 142.251.10.113, ...\n",
            "Connecting to docs.google.com (docs.google.com)|142.251.10.138|:443... connected.\n",
            "HTTP request sent, awaiting response... 303 See Other\n",
            "Location: https://doc-08-7o-docs.googleusercontent.com/docs/securesc/ha0ro937gcuc7l7deffksulhg5h7mbp1/552qm9tl2ltcvef8oetbml308618rig2/1666924575000/15857340408018396550/*/1pVM0PGHDXrhE4dqQf-offz_Xv8SoPx0X?e=download&uuid=114733c7-9ed9-4833-bf8d-51aad15c223c [following]\n",
            "Warning: wildcards not supported in HTTP.\n",
            "--2022-10-28 02:36:36--  https://doc-08-7o-docs.googleusercontent.com/docs/securesc/ha0ro937gcuc7l7deffksulhg5h7mbp1/552qm9tl2ltcvef8oetbml308618rig2/1666924575000/15857340408018396550/*/1pVM0PGHDXrhE4dqQf-offz_Xv8SoPx0X?e=download&uuid=114733c7-9ed9-4833-bf8d-51aad15c223c\n",
            "Resolving doc-08-7o-docs.googleusercontent.com (doc-08-7o-docs.googleusercontent.com)... 142.251.12.132, 2404:6800:4003:c11::84\n",
            "Connecting to doc-08-7o-docs.googleusercontent.com (doc-08-7o-docs.googleusercontent.com)|142.251.12.132|:443... connected.\n",
            "HTTP request sent, awaiting response... 200 OK\n",
            "Length: 272774548 (260M) [text/csv]\n",
            "Saving to: ‘civil_comments.csv’\n",
            "\n",
            "civil_comments.csv  100%[===================>] 260.14M   312MB/s    in 0.8s    \n",
            "\n",
            "2022-10-28 02:36:37 (312 MB/s) - ‘civil_comments.csv’ saved [272774548/272774548]\n",
            "\n",
            "FINISHED --2022-10-28 02:36:37--\n",
            "Total wall clock time: 2.8s\n",
            "Downloaded: 1 files, 260M in 0.8s (312 MB/s)\n",
            "/content/NLP_CTF/data\n",
            "/content/NLP_CTF\n"
          ]
        }
      ],
      "source": [
        "%cd /content/NLP_CTF/data\n",
        "!wget --load-cookies /tmp/cookies.txt \"https://docs.google.com/uc?export=download&confirm=$(wget --quiet --save-cookies /tmp/cookies.txt --keep-session-cookies --no-check-certificate 'https://docs.google.com/uc?export=download&id=1JXm1N6SHmzIawgH7Aa4Ag-ZVuqLX7ba7' -O- | sed -rn 's/.*confirm=([0-9A-Za-z_]+).*/\\1\\n/p')&id=1JXm1N6SHmzIawgH7Aa4Ag-ZVuqLX7ba7\" -O GoogleNews-vectors-negative300.bin && rm -rf /tmp/cookies.txt\n",
        "%cd ./civil_comments\n",
        "!wget wget --load-cookies /tmp/cookies.txt \"https://docs.google.com/uc?export=download&confirm=$(wget --quiet --save-cookies /tmp/cookies.txt --keep-session-cookies --no-check-certificate 'https://docs.google.com/uc?export=download&id=1pVM0PGHDXrhE4dqQf-offz_Xv8SoPx0X' -O- | sed -rn 's/.*confirm=([0-9A-Za-z_]+).*/\\1\\n/p')&id=1pVM0PGHDXrhE4dqQf-offz_Xv8SoPx0X\" -O civil_comments.csv && rm -rf /tmp/cookies.txt\n",
        "%cd ..\n",
        "%cd .."
      ]
    },
    {
      "cell_type": "code",
      "execution_count": 4,
      "metadata": {
        "id": "yV1T8DXSdxZ1",
        "outputId": "8b7d1d91-3226-4c0c-e6b0-158600a84989",
        "colab": {
          "base_uri": "https://localhost:8080/"
        }
      },
      "outputs": [
        {
          "output_type": "stream",
          "name": "stdout",
          "text": [
            "Looking in indexes: https://pypi.org/simple, https://us-python.pkg.dev/colab-wheels/public/simple/\n",
            "Requirement already satisfied: gensim in /usr/local/lib/python3.7/dist-packages (3.6.0)\n",
            "Collecting gensim\n",
            "  Downloading gensim-4.2.0-cp37-cp37m-manylinux_2_12_x86_64.manylinux2010_x86_64.whl (24.1 MB)\n",
            "\u001b[K     |████████████████████████████████| 24.1 MB 86.9 MB/s \n",
            "\u001b[?25hRequirement already satisfied: numpy>=1.17.0 in /usr/local/lib/python3.7/dist-packages (from gensim) (1.21.6)\n",
            "Requirement already satisfied: scipy>=0.18.1 in /usr/local/lib/python3.7/dist-packages (from gensim) (1.7.3)\n",
            "Requirement already satisfied: smart-open>=1.8.1 in /usr/local/lib/python3.7/dist-packages (from gensim) (5.2.1)\n",
            "Installing collected packages: gensim\n",
            "  Attempting uninstall: gensim\n",
            "    Found existing installation: gensim 3.6.0\n",
            "    Uninstalling gensim-3.6.0:\n",
            "      Successfully uninstalled gensim-3.6.0\n",
            "Successfully installed gensim-4.2.0\n"
          ]
        }
      ],
      "source": [
        "!pip install --upgrade gensim\n"
      ]
    },
    {
      "cell_type": "code",
      "source": [
        "from google.colab import files"
      ],
      "metadata": {
        "id": "KNDrDszse39A"
      },
      "execution_count": 5,
      "outputs": []
    },
    {
      "cell_type": "markdown",
      "source": [
        "# Run experiment"
      ],
      "metadata": {
        "id": "9Owo4AXIeGr5"
      }
    },
    {
      "cell_type": "markdown",
      "source": [
        "Below is usage statement of our `run.py`"
      ],
      "metadata": {
        "id": "QQQ7b0WZ6qnk"
      }
    },
    {
      "cell_type": "code",
      "source": [
        "!python run_more.py -h"
      ],
      "metadata": {
        "id": "0u2dnld76mEL",
        "outputId": "d028bff3-25b9-4076-e1c1-b764386063e8",
        "colab": {
          "base_uri": "https://localhost:8080/"
        }
      },
      "execution_count": 6,
      "outputs": [
        {
          "output_type": "stream",
          "name": "stdout",
          "text": [
            "usage: run_more.py [-h] [--lambda_clp LAMBDA_CLP] [--nontoxic] [--verbose]\n",
            "                   [--trials TRIALS] [--epochs EPOCHS] [--test_name TEST_NAME]\n",
            "                   [--glove] [--featuremaps FEATUREMAPS]\n",
            "                   [--kernelsizes KERNELSIZES [KERNELSIZES ...]]\n",
            "                   [--device DEVICE]\n",
            "                   train_method\n",
            "\n",
            "positional arguments:\n",
            "  train_method          method to train model i.e. baseline, blind, augment,\n",
            "                        CLP\n",
            "\n",
            "optional arguments:\n",
            "  -h, --help            show this help message and exit\n",
            "  --lambda_clp LAMBDA_CLP, -l LAMBDA_CLP\n",
            "                        the lambda value, only applicable if CLP is used,\n",
            "                        defaults to 0.05\n",
            "  --nontoxic, -x        only uses nontoxic comments, only applicable if CLP is\n",
            "                        used\n",
            "  --verbose, -v         Print results\n",
            "  --trials TRIALS, -t TRIALS\n",
            "                        The number of trials to run, defaults to 10\n",
            "  --epochs EPOCHS, -e EPOCHS\n",
            "                        The number of epochs to train model, defaults to 5\n",
            "  --test_name TEST_NAME, -n TEST_NAME\n",
            "                        The name of the test to run (defaults to \"test\"), the\n",
            "                        output files will be saved in the directory\n",
            "                        ./[name].csv\n",
            "  --glove, -g           uses glove instead of word2vec\n",
            "  --featuremaps FEATUREMAPS, -f FEATUREMAPS\n",
            "                        number of feature maps for model to use, defaults to\n",
            "                        100\n",
            "  --kernelsizes KERNELSIZES [KERNELSIZES ...], -k KERNELSIZES [KERNELSIZES ...]\n",
            "                        kernel sizes to use to intialize model defaults to\n",
            "                        (2,3,4,5)\n",
            "  --device DEVICE, -d DEVICE\n",
            "                        The device Pytorch should use cuda, mps or cpu\n"
          ]
        }
      ]
    },
    {
      "cell_type": "markdown",
      "source": [
        "# Below will run all experiments we need"
      ],
      "metadata": {
        "id": "rwzwfF4C96KB"
      }
    },
    {
      "cell_type": "code",
      "source": [
        "!python run_more.py baseline -v -g -n baseline_experiment\n",
        "files.download('baseline_experiment.csv') # Baseline"
      ],
      "metadata": {
        "id": "TwRhj7dx-Dj4",
        "outputId": "09641921-437a-48dc-d436-de252b24ce71",
        "colab": {
          "base_uri": "https://localhost:8080/",
          "height": 605
        }
      },
      "execution_count": 8,
      "outputs": [
        {
          "output_type": "stream",
          "name": "stdout",
          "text": [
            "loading word embeddings\n",
            "Traceback (most recent call last):\n",
            "  File \"run_more.py\", line 42, in <module>\n",
            "    embed_lookup = init_embed_lookup(word2vec=args.glove)\n",
            "  File \"/content/NLP_CTF/process_data.py\", line 340, in init_embed_lookup\n",
            "    return KeyedVectors.load_word2vec_format(f'{file_path}/glove_6B_300d.txt', binary=False, no_header=True)\n",
            "  File \"/usr/local/lib/python3.7/dist-packages/gensim/models/keyedvectors.py\", line 1725, in load_word2vec_format\n",
            "    limit=limit, datatype=datatype, no_header=no_header,\n",
            "  File \"/usr/local/lib/python3.7/dist-packages/gensim/models/keyedvectors.py\", line 2052, in _load_word2vec_format\n",
            "    with utils.open(fname, 'rb') as fin:\n",
            "  File \"/usr/local/lib/python3.7/dist-packages/smart_open/smart_open_lib.py\", line 195, in open\n",
            "    newline=newline,\n",
            "  File \"/usr/local/lib/python3.7/dist-packages/smart_open/smart_open_lib.py\", line 361, in _shortcut_open\n",
            "    return _builtin_open(local_path, mode, buffering=buffering, **open_kwargs)\n",
            "FileNotFoundError: [Errno 2] No such file or directory: './data/glove_6B_300d.txt'\n"
          ]
        },
        {
          "output_type": "error",
          "ename": "FileNotFoundError",
          "evalue": "ignored",
          "traceback": [
            "\u001b[0;31m---------------------------------------------------------------------------\u001b[0m",
            "\u001b[0;31mFileNotFoundError\u001b[0m                         Traceback (most recent call last)",
            "\u001b[0;32m<ipython-input-8-cb011332ea6c>\u001b[0m in \u001b[0;36m<module>\u001b[0;34m\u001b[0m\n\u001b[1;32m      1\u001b[0m \u001b[0mget_ipython\u001b[0m\u001b[0;34m(\u001b[0m\u001b[0;34m)\u001b[0m\u001b[0;34m.\u001b[0m\u001b[0msystem\u001b[0m\u001b[0;34m(\u001b[0m\u001b[0;34m'python run_more.py baseline -v -g -n baseline_experiment'\u001b[0m\u001b[0;34m)\u001b[0m\u001b[0;34m\u001b[0m\u001b[0;34m\u001b[0m\u001b[0m\n\u001b[0;32m----> 2\u001b[0;31m \u001b[0mfiles\u001b[0m\u001b[0;34m.\u001b[0m\u001b[0mdownload\u001b[0m\u001b[0;34m(\u001b[0m\u001b[0;34m'baseline_experiment.csv'\u001b[0m\u001b[0;34m)\u001b[0m \u001b[0;31m# Baseline\u001b[0m\u001b[0;34m\u001b[0m\u001b[0;34m\u001b[0m\u001b[0m\n\u001b[0m",
            "\u001b[0;32m/usr/local/lib/python3.7/dist-packages/google/colab/files.py\u001b[0m in \u001b[0;36mdownload\u001b[0;34m(filename)\u001b[0m\n\u001b[1;32m    207\u001b[0m   \u001b[0;32mif\u001b[0m \u001b[0;32mnot\u001b[0m \u001b[0m_os\u001b[0m\u001b[0;34m.\u001b[0m\u001b[0mpath\u001b[0m\u001b[0;34m.\u001b[0m\u001b[0mexists\u001b[0m\u001b[0;34m(\u001b[0m\u001b[0mfilename\u001b[0m\u001b[0;34m)\u001b[0m\u001b[0;34m:\u001b[0m\u001b[0;34m\u001b[0m\u001b[0;34m\u001b[0m\u001b[0m\n\u001b[1;32m    208\u001b[0m     \u001b[0mmsg\u001b[0m \u001b[0;34m=\u001b[0m \u001b[0;34m'Cannot find file: {}'\u001b[0m\u001b[0;34m.\u001b[0m\u001b[0mformat\u001b[0m\u001b[0;34m(\u001b[0m\u001b[0mfilename\u001b[0m\u001b[0;34m)\u001b[0m\u001b[0;34m\u001b[0m\u001b[0;34m\u001b[0m\u001b[0m\n\u001b[0;32m--> 209\u001b[0;31m     \u001b[0;32mraise\u001b[0m \u001b[0mFileNotFoundError\u001b[0m\u001b[0;34m(\u001b[0m\u001b[0mmsg\u001b[0m\u001b[0;34m)\u001b[0m  \u001b[0;31m# pylint: disable=undefined-variable\u001b[0m\u001b[0;34m\u001b[0m\u001b[0;34m\u001b[0m\u001b[0m\n\u001b[0m\u001b[1;32m    210\u001b[0m \u001b[0;34m\u001b[0m\u001b[0m\n\u001b[1;32m    211\u001b[0m   \u001b[0mcomm_manager\u001b[0m \u001b[0;34m=\u001b[0m \u001b[0m_IPython\u001b[0m\u001b[0;34m.\u001b[0m\u001b[0mget_ipython\u001b[0m\u001b[0;34m(\u001b[0m\u001b[0;34m)\u001b[0m\u001b[0;34m.\u001b[0m\u001b[0mkernel\u001b[0m\u001b[0;34m.\u001b[0m\u001b[0mcomm_manager\u001b[0m\u001b[0;34m\u001b[0m\u001b[0;34m\u001b[0m\u001b[0m\n",
            "\u001b[0;31mFileNotFoundError\u001b[0m: Cannot find file: baseline_experiment.csv"
          ]
        }
      ]
    },
    {
      "cell_type": "code",
      "source": [
        "!python run.py blind -v -n blind_experiment\n",
        "files.download('blind_experiment.csv') # Blind"
      ],
      "metadata": {
        "id": "m_4NuNkq6HO6"
      },
      "execution_count": null,
      "outputs": []
    },
    {
      "cell_type": "code",
      "source": [
        "!python run.py augment -v -n augment_experiment\n",
        "files.download('augment_experiment.csv') # Augment"
      ],
      "metadata": {
        "id": "4pHNAhRj6J9k"
      },
      "execution_count": null,
      "outputs": []
    },
    {
      "cell_type": "code",
      "source": [
        "!python run.py CLP -v -l 0.05 -n CLP005_experiment\n",
        "files.download('CLP005_experiment.csv') # CLP lambda = 0.05"
      ],
      "metadata": {
        "id": "w1GgAGFF6Mpk"
      },
      "execution_count": null,
      "outputs": []
    },
    {
      "cell_type": "code",
      "source": [
        "!python run.py CLP -v -l 1 -n CLP1_experiment\n",
        "files.download('CLP1_experiment.csv') # CLP lambda = 1"
      ],
      "metadata": {
        "id": "XHf17MWU69wk"
      },
      "execution_count": null,
      "outputs": []
    },
    {
      "cell_type": "code",
      "source": [
        "!python run.py CLP -v -l 5 -n CLP5_experiment\n",
        "files.download('CLP5_experiment.csv') # CLP lambda = 5"
      ],
      "metadata": {
        "id": "LmV4dKNq7M8b"
      },
      "execution_count": null,
      "outputs": []
    },
    {
      "cell_type": "code",
      "source": [
        "!python run.py CLP -v -x -l 1 -n CLP1nt_experiment\n",
        "files.download('CLP1nt_experiment.csv') # CLP lambda = 1 only nontoxic"
      ],
      "metadata": {
        "id": "YOpezmCU93N5"
      },
      "execution_count": null,
      "outputs": []
    }
  ],
  "metadata": {
    "kernelspec": {
      "display_name": "Python 3.10.4 ('DL')",
      "language": "python",
      "name": "python3"
    },
    "language_info": {
      "name": "python",
      "version": "3.10.4"
    },
    "orig_nbformat": 4,
    "vscode": {
      "interpreter": {
        "hash": "3b5da4dccc5d959110f70bd428b51197bb0688003461a0e87be372a9c01e32ac"
      }
    },
    "colab": {
      "provenance": [],
      "include_colab_link": true
    },
    "accelerator": "GPU"
  },
  "nbformat": 4,
  "nbformat_minor": 0
}