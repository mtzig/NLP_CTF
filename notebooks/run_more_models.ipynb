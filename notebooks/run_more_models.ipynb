{
  "cells": [
    {
      "cell_type": "markdown",
      "metadata": {
        "id": "view-in-github",
        "colab_type": "text"
      },
      "source": [
        "<a href=\"https://colab.research.google.com/github/mtzig/NLP_CTF/blob/main/notebooks/run_more_models.ipynb\" target=\"_parent\"><img src=\"https://colab.research.google.com/assets/colab-badge.svg\" alt=\"Open In Colab\"/></a>"
      ]
    },
    {
      "cell_type": "markdown",
      "metadata": {
        "id": "jL3cnoUDdxZ0"
      },
      "source": [
        "# Setup Environment\n",
        "\n",
        "This notebook is meant to be run in colab"
      ]
    },
    {
      "cell_type": "code",
      "execution_count": 1,
      "metadata": {
        "id": "3IVdud_6dxZ1"
      },
      "outputs": [],
      "source": [
        "%load_ext autoreload\n",
        "%autoreload 2"
      ]
    },
    {
      "cell_type": "code",
      "execution_count": 2,
      "metadata": {
        "id": "PhL6tgrBdxZ1",
        "outputId": "be2f9ebd-b278-421c-9947-b3e638aef254",
        "colab": {
          "base_uri": "https://localhost:8080/"
        }
      },
      "outputs": [
        {
          "output_type": "stream",
          "name": "stdout",
          "text": [
            "Cloning into 'NLP_CTF'...\n",
            "remote: Enumerating objects: 564, done.\u001b[K\n",
            "remote: Counting objects: 100% (4/4), done.\u001b[K\n",
            "remote: Compressing objects: 100% (4/4), done.\u001b[K\n",
            "remote: Total 564 (delta 0), reused 0 (delta 0), pack-reused 560\u001b[K\n",
            "Receiving objects: 100% (564/564), 99.17 MiB | 24.76 MiB/s, done.\n",
            "Resolving deltas: 100% (346/346), done.\n",
            "Checking out files: 100% (52/52), done.\n",
            "/content/NLP_CTF\n"
          ]
        }
      ],
      "source": [
        "!git clone https://github.com/mtzig/NLP_CTF.git\n",
        "%cd /content/NLP_CTF/"
      ]
    },
    {
      "cell_type": "code",
      "source": [
        "# !git pull"
      ],
      "metadata": {
        "id": "zXaD-4C9ehpq"
      },
      "execution_count": null,
      "outputs": []
    },
    {
      "cell_type": "markdown",
      "source": [
        "Manually download files too large to host on github"
      ],
      "metadata": {
        "id": "6qqJhCb2h0gK"
      }
    },
    {
      "cell_type": "code",
      "execution_count": 4,
      "metadata": {
        "id": "PYx7sTaTdxZ1",
        "outputId": "c47bd889-3eba-4c4c-a601-6dd375b65172",
        "colab": {
          "base_uri": "https://localhost:8080/"
        }
      },
      "outputs": [
        {
          "output_type": "stream",
          "name": "stdout",
          "text": [
            "/content/NLP_CTF/data\n",
            "--2022-10-28 02:51:35--  https://docs.google.com/uc?export=download&confirm=t&id=1ahXNw1nWAucZi9D8HnV3KFZGm76TxyI5\n",
            "Resolving docs.google.com (docs.google.com)... 173.194.195.138, 173.194.195.101, 173.194.195.113, ...\n",
            "Connecting to docs.google.com (docs.google.com)|173.194.195.138|:443... connected.\n",
            "HTTP request sent, awaiting response... 303 See Other\n",
            "Location: https://doc-04-7o-docs.googleusercontent.com/docs/securesc/ha0ro937gcuc7l7deffksulhg5h7mbp1/60miuevsb0lp71g3emufre4srti3dtjb/1666925475000/15857340408018396550/*/1ahXNw1nWAucZi9D8HnV3KFZGm76TxyI5?e=download&uuid=a75a2e5f-dd11-49a4-9fcb-a4ba4f8afc96 [following]\n",
            "Warning: wildcards not supported in HTTP.\n",
            "--2022-10-28 02:51:35--  https://doc-04-7o-docs.googleusercontent.com/docs/securesc/ha0ro937gcuc7l7deffksulhg5h7mbp1/60miuevsb0lp71g3emufre4srti3dtjb/1666925475000/15857340408018396550/*/1ahXNw1nWAucZi9D8HnV3KFZGm76TxyI5?e=download&uuid=a75a2e5f-dd11-49a4-9fcb-a4ba4f8afc96\n",
            "Resolving doc-04-7o-docs.googleusercontent.com (doc-04-7o-docs.googleusercontent.com)... 209.85.200.132, 2607:f8b0:4001:c16::84\n",
            "Connecting to doc-04-7o-docs.googleusercontent.com (doc-04-7o-docs.googleusercontent.com)|209.85.200.132|:443... connected.\n",
            "HTTP request sent, awaiting response... 200 OK\n",
            "Length: 1037962819 (990M) [text/plain]\n",
            "Saving to: ‘glove_6B_300d.txt’\n",
            "\n",
            "glove_6B_300d.txt   100%[===================>] 989.88M   111MB/s    in 9.1s    \n",
            "\n",
            "2022-10-28 02:51:44 (108 MB/s) - ‘glove_6B_300d.txt’ saved [1037962819/1037962819]\n",
            "\n",
            "--2022-10-28 02:51:44--  https://docs.google.com/uc?export=download&confirm=t&id=1JXm1N6SHmzIawgH7Aa4Ag-ZVuqLX7ba7\n",
            "Resolving docs.google.com (docs.google.com)... 173.194.195.138, 173.194.195.101, 173.194.195.113, ...\n",
            "Connecting to docs.google.com (docs.google.com)|173.194.195.138|:443... connected.\n",
            "HTTP request sent, awaiting response... 303 See Other\n",
            "Location: https://doc-08-7o-docs.googleusercontent.com/docs/securesc/ha0ro937gcuc7l7deffksulhg5h7mbp1/kdrjru9dn5iu70eq6fc5ri8vi4l93n73/1666925475000/15857340408018396550/*/1JXm1N6SHmzIawgH7Aa4Ag-ZVuqLX7ba7?e=download&uuid=0a424640-c0c5-450e-9def-d1ef44e25e9b [following]\n",
            "Warning: wildcards not supported in HTTP.\n",
            "--2022-10-28 02:51:45--  https://doc-08-7o-docs.googleusercontent.com/docs/securesc/ha0ro937gcuc7l7deffksulhg5h7mbp1/kdrjru9dn5iu70eq6fc5ri8vi4l93n73/1666925475000/15857340408018396550/*/1JXm1N6SHmzIawgH7Aa4Ag-ZVuqLX7ba7?e=download&uuid=0a424640-c0c5-450e-9def-d1ef44e25e9b\n",
            "Resolving doc-08-7o-docs.googleusercontent.com (doc-08-7o-docs.googleusercontent.com)... 209.85.200.132, 2607:f8b0:4001:c16::84\n",
            "Connecting to doc-08-7o-docs.googleusercontent.com (doc-08-7o-docs.googleusercontent.com)|209.85.200.132|:443... connected.\n",
            "HTTP request sent, awaiting response... 200 OK\n",
            "Length: 3644258522 (3.4G) [application/macbinary]\n",
            "Saving to: ‘GoogleNews-vectors-negative300.bin’\n",
            "\n",
            "GoogleNews-vectors- 100%[===================>]   3.39G  90.8MB/s    in 39s     \n",
            "\n",
            "2022-10-28 02:52:23 (90.2 MB/s) - ‘GoogleNews-vectors-negative300.bin’ saved [3644258522/3644258522]\n",
            "\n",
            "/content/NLP_CTF/data/civil_comments\n",
            "--2022-10-28 02:52:24--  http://wget/\n",
            "Resolving wget (wget)... failed: Name or service not known.\n",
            "wget: unable to resolve host address ‘wget’\n",
            "--2022-10-28 02:52:24--  https://docs.google.com/uc?export=download&confirm=t&id=1pVM0PGHDXrhE4dqQf-offz_Xv8SoPx0X\n",
            "Resolving docs.google.com (docs.google.com)... 142.250.128.102, 142.250.128.139, 142.250.128.138, ...\n",
            "Connecting to docs.google.com (docs.google.com)|142.250.128.102|:443... connected.\n",
            "HTTP request sent, awaiting response... 303 See Other\n",
            "Location: https://doc-08-7o-docs.googleusercontent.com/docs/securesc/ha0ro937gcuc7l7deffksulhg5h7mbp1/g0eem86ll0u156nsghb0t0f8q6glg5in/1666925475000/15857340408018396550/*/1pVM0PGHDXrhE4dqQf-offz_Xv8SoPx0X?e=download&uuid=9a7cac4a-258b-42e2-94f4-8a55f7bef088 [following]\n",
            "Warning: wildcards not supported in HTTP.\n",
            "--2022-10-28 02:52:24--  https://doc-08-7o-docs.googleusercontent.com/docs/securesc/ha0ro937gcuc7l7deffksulhg5h7mbp1/g0eem86ll0u156nsghb0t0f8q6glg5in/1666925475000/15857340408018396550/*/1pVM0PGHDXrhE4dqQf-offz_Xv8SoPx0X?e=download&uuid=9a7cac4a-258b-42e2-94f4-8a55f7bef088\n",
            "Resolving doc-08-7o-docs.googleusercontent.com (doc-08-7o-docs.googleusercontent.com)... 209.85.200.132, 2607:f8b0:4001:c16::84\n",
            "Connecting to doc-08-7o-docs.googleusercontent.com (doc-08-7o-docs.googleusercontent.com)|209.85.200.132|:443... connected.\n",
            "HTTP request sent, awaiting response... 200 OK\n",
            "Length: 272774548 (260M) [text/csv]\n",
            "Saving to: ‘civil_comments.csv’\n",
            "\n",
            "civil_comments.csv  100%[===================>] 260.14M   224MB/s    in 1.2s    \n",
            "\n",
            "2022-10-28 02:52:25 (224 MB/s) - ‘civil_comments.csv’ saved [272774548/272774548]\n",
            "\n",
            "FINISHED --2022-10-28 02:52:25--\n",
            "Total wall clock time: 1.6s\n",
            "Downloaded: 1 files, 260M in 1.2s (224 MB/s)\n",
            "/content/NLP_CTF/data\n",
            "/content/NLP_CTF\n"
          ]
        }
      ],
      "source": [
        "%cd /content/NLP_CTF/data\n",
        "!wget --load-cookies /tmp/cookies.txt \"https://docs.google.com/uc?export=download&confirm=$(wget --quiet --save-cookies /tmp/cookies.txt --keep-session-cookies --no-check-certificate 'https://docs.google.com/uc?export=download&id=1ahXNw1nWAucZi9D8HnV3KFZGm76TxyI5' -O- | sed -rn 's/.*confirm=([0-9A-Za-z_]+).*/\\1\\n/p')&id=1ahXNw1nWAucZi9D8HnV3KFZGm76TxyI5\" -O glove_6B_300d.txt && rm -rf /tmp/cookies.txt\n",
        "!wget --load-cookies /tmp/cookies.txt \"https://docs.google.com/uc?export=download&confirm=$(wget --quiet --save-cookies /tmp/cookies.txt --keep-session-cookies --no-check-certificate 'https://docs.google.com/uc?export=download&id=1JXm1N6SHmzIawgH7Aa4Ag-ZVuqLX7ba7' -O- | sed -rn 's/.*confirm=([0-9A-Za-z_]+).*/\\1\\n/p')&id=1JXm1N6SHmzIawgH7Aa4Ag-ZVuqLX7ba7\" -O GoogleNews-vectors-negative300.bin && rm -rf /tmp/cookies.txt\n",
        "%cd ./civil_comments\n",
        "!wget wget --load-cookies /tmp/cookies.txt \"https://docs.google.com/uc?export=download&confirm=$(wget --quiet --save-cookies /tmp/cookies.txt --keep-session-cookies --no-check-certificate 'https://docs.google.com/uc?export=download&id=1pVM0PGHDXrhE4dqQf-offz_Xv8SoPx0X' -O- | sed -rn 's/.*confirm=([0-9A-Za-z_]+).*/\\1\\n/p')&id=1pVM0PGHDXrhE4dqQf-offz_Xv8SoPx0X\" -O civil_comments.csv && rm -rf /tmp/cookies.txt\n",
        "%cd ..\n",
        "%cd .."
      ]
    },
    {
      "cell_type": "code",
      "execution_count": 5,
      "metadata": {
        "id": "yV1T8DXSdxZ1",
        "outputId": "f8b4fdaa-d89b-4293-fe80-0d808ecebbcb",
        "colab": {
          "base_uri": "https://localhost:8080/"
        }
      },
      "outputs": [
        {
          "output_type": "stream",
          "name": "stdout",
          "text": [
            "Looking in indexes: https://pypi.org/simple, https://us-python.pkg.dev/colab-wheels/public/simple/\n",
            "Requirement already satisfied: gensim in /usr/local/lib/python3.7/dist-packages (3.6.0)\n",
            "Collecting gensim\n",
            "  Downloading gensim-4.2.0-cp37-cp37m-manylinux_2_12_x86_64.manylinux2010_x86_64.whl (24.1 MB)\n",
            "\u001b[K     |████████████████████████████████| 24.1 MB 1.3 MB/s \n",
            "\u001b[?25hRequirement already satisfied: numpy>=1.17.0 in /usr/local/lib/python3.7/dist-packages (from gensim) (1.21.6)\n",
            "Requirement already satisfied: scipy>=0.18.1 in /usr/local/lib/python3.7/dist-packages (from gensim) (1.7.3)\n",
            "Requirement already satisfied: smart-open>=1.8.1 in /usr/local/lib/python3.7/dist-packages (from gensim) (5.2.1)\n",
            "Installing collected packages: gensim\n",
            "  Attempting uninstall: gensim\n",
            "    Found existing installation: gensim 3.6.0\n",
            "    Uninstalling gensim-3.6.0:\n",
            "      Successfully uninstalled gensim-3.6.0\n",
            "Successfully installed gensim-4.2.0\n"
          ]
        }
      ],
      "source": [
        "!pip install --upgrade gensim\n"
      ]
    },
    {
      "cell_type": "code",
      "source": [
        "from google.colab import files"
      ],
      "metadata": {
        "id": "KNDrDszse39A"
      },
      "execution_count": null,
      "outputs": []
    },
    {
      "cell_type": "markdown",
      "source": [
        "# Run experiment"
      ],
      "metadata": {
        "id": "9Owo4AXIeGr5"
      }
    },
    {
      "cell_type": "markdown",
      "source": [
        "Below is usage statement of our `run.py`"
      ],
      "metadata": {
        "id": "QQQ7b0WZ6qnk"
      }
    },
    {
      "cell_type": "code",
      "source": [
        "!python run_more.py -h"
      ],
      "metadata": {
        "id": "0u2dnld76mEL",
        "outputId": "07ecfe47-3df4-42fc-b798-b63c8e0e44e0",
        "colab": {
          "base_uri": "https://localhost:8080/"
        }
      },
      "execution_count": 6,
      "outputs": [
        {
          "output_type": "stream",
          "name": "stdout",
          "text": [
            "usage: run_more.py [-h] [--lambda_clp LAMBDA_CLP] [--nontoxic] [--verbose]\n",
            "                   [--trials TRIALS] [--epochs EPOCHS] [--test_name TEST_NAME]\n",
            "                   [--glove] [--featuremaps FEATUREMAPS]\n",
            "                   [--kernelsizes KERNELSIZES [KERNELSIZES ...]]\n",
            "                   [--device DEVICE]\n",
            "                   train_method\n",
            "\n",
            "positional arguments:\n",
            "  train_method          method to train model i.e. baseline, blind, augment,\n",
            "                        CLP\n",
            "\n",
            "optional arguments:\n",
            "  -h, --help            show this help message and exit\n",
            "  --lambda_clp LAMBDA_CLP, -l LAMBDA_CLP\n",
            "                        the lambda value, only applicable if CLP is used,\n",
            "                        defaults to 0.05\n",
            "  --nontoxic, -x        only uses nontoxic comments, only applicable if CLP is\n",
            "                        used\n",
            "  --verbose, -v         Print results\n",
            "  --trials TRIALS, -t TRIALS\n",
            "                        The number of trials to run, defaults to 10\n",
            "  --epochs EPOCHS, -e EPOCHS\n",
            "                        The number of epochs to train model, defaults to 5\n",
            "  --test_name TEST_NAME, -n TEST_NAME\n",
            "                        The name of the test to run (defaults to \"test\"), the\n",
            "                        output files will be saved in the directory\n",
            "                        ./[name].csv\n",
            "  --glove, -g           uses glove instead of word2vec\n",
            "  --featuremaps FEATUREMAPS, -f FEATUREMAPS\n",
            "                        number of feature maps for model to use, defaults to\n",
            "                        100\n",
            "  --kernelsizes KERNELSIZES [KERNELSIZES ...], -k KERNELSIZES [KERNELSIZES ...]\n",
            "                        kernel sizes to use to intialize model defaults to\n",
            "                        (2,3,4,5)\n",
            "  --device DEVICE, -d DEVICE\n",
            "                        The device Pytorch should use cuda, mps or cpu\n"
          ]
        }
      ]
    },
    {
      "cell_type": "markdown",
      "source": [
        "# Below will run all experiments we need"
      ],
      "metadata": {
        "id": "rwzwfF4C96KB"
      }
    },
    {
      "cell_type": "code",
      "source": [
        "!python run_more.py baseline -v -g -n baseline_experiment\n",
        "files.download('baseline_experiment.csv') # Baseline"
      ],
      "metadata": {
        "id": "TwRhj7dx-Dj4",
        "outputId": "d087bfa6-bb0f-4f07-81de-d1315f399dbe",
        "colab": {
          "base_uri": "https://localhost:8080/",
          "height": 1000
        }
      },
      "execution_count": 7,
      "outputs": [
        {
          "output_type": "stream",
          "name": "stdout",
          "text": [
            "loading word embeddings\n",
            "done\n",
            "loading datasets\n",
            "100% 159571/159571 [00:11<00:00, 13310.45it/s]\n",
            "100% 63978/63978 [00:04<00:00, 14372.43it/s]\n",
            "100% 133782/133782 [00:08<00:00, 15816.62it/s]\n",
            "100% 768/768 [00:00<00:00, 69304.97it/s]\n",
            "100% 310/310 [00:00<00:00, 5457.51it/s]\n",
            "100% 531/531 [00:00<00:00, 2021.86it/s]\n",
            "100% 11683/11683 [00:02<00:00, 4078.52it/s]\n",
            "100% 11478/11478 [00:02<00:00, 4120.70it/s]\n",
            "done\n",
            "====================Trial 1/3=====================\n",
            "initializing model\n",
            "done\n",
            "Epoch 1/15\n",
            "100% 2494/2494 [00:50<00:00, 49.70it/s]\n",
            "Average training loss: 0.1618826586936855\n",
            "evaluating model\n",
            "100% 1000/1000 [00:08<00:00, 117.20it/s]\n",
            "Loss: 0.19770458340644836\n",
            "Accuracy: 0.9202225765106755, Sensitivity: 0.6397372742200328, Specificity: 0.9497305140961857, AUC: 0.9332405518248931\n",
            "100% 2091/2091 [00:18<00:00, 114.00it/s]\n",
            "Loss: 0.26912441849708557\n",
            "Accuracy: 0.902169200639847, Sensitivity: 0.2503284287966369, Specificity: 0.9858718939253361, AUC: 0.8317786761759502\n",
            "100% 12/12 [00:00<00:00, 128.21it/s]\n",
            "Loss: 0.6397987604141235\n",
            "Accuracy: 0.7213541666666666, Sensitivity: 0.24472573839662448, Specificity: 0.9340866290018832, AUC: 0.688161020922231\n",
            "100% 5/5 [00:00<00:00, 320.63it/s]\n",
            "100% 9/9 [00:00<00:00, 354.59it/s]\n",
            "100% 183/183 [00:27<00:00,  6.58it/s]\n",
            "100% 180/180 [00:26<00:00,  6.85it/s]\n",
            "Epoch 2/15\n",
            "100% 2494/2494 [00:46<00:00, 53.36it/s]\n",
            "Average training loss: 0.14696040109498987\n",
            "evaluating model\n",
            "100% 1000/1000 [00:08<00:00, 111.17it/s]\n",
            "Loss: 0.183724507689476\n",
            "Accuracy: 0.9267404420269467, Sensitivity: 0.6027914614121511, Specificity: 0.960820895522388, AUC: 0.9341287995345295\n",
            "100% 2091/2091 [00:18<00:00, 112.16it/s]\n",
            "Loss: 0.29954594373703003\n",
            "Accuracy: 0.8995903783767621, Sensitivity: 0.17787703625853915, Specificity: 0.9922653890922586, AUC: 0.8208312799169442\n",
            "100% 12/12 [00:00<00:00, 127.05it/s]\n",
            "Loss: 0.675060510635376\n",
            "Accuracy: 0.7096354166666666, Sensitivity: 0.18143459915611815, Specificity: 0.9453860640301318, AUC: 0.683893934698483\n",
            "100% 5/5 [00:00<00:00, 442.96it/s]\n",
            "100% 9/9 [00:00<00:00, 420.38it/s]\n",
            "100% 183/183 [00:26<00:00,  6.79it/s]\n",
            "100% 180/180 [00:26<00:00,  6.80it/s]\n",
            "Epoch 3/15\n",
            "100% 2494/2494 [00:46<00:00, 53.27it/s]\n",
            "Average training loss: 0.13998131248084253\n",
            "evaluating model\n",
            "100% 1000/1000 [00:08<00:00, 111.48it/s]\n",
            "Loss: 0.19514143466949463\n",
            "Accuracy: 0.9239113445246804, Sensitivity: 0.6344827586206897, Specificity: 0.9543601437258153, AUC: 0.933834554592028\n",
            "100% 2091/2091 [00:18<00:00, 111.57it/s]\n",
            "Loss: 0.29385894536972046\n",
            "Accuracy: 0.9002481649250272, Sensitivity: 0.21847083552285865, Specificity: 0.9877950032895292, AUC: 0.8116244321753707\n",
            "100% 12/12 [00:00<00:00, 125.54it/s]\n",
            "Loss: 0.6509271264076233\n",
            "Accuracy: 0.71875, Sensitivity: 0.24050632911392406, Specificity: 0.9322033898305084, AUC: 0.6676440439581396\n",
            "100% 5/5 [00:00<00:00, 353.56it/s]\n",
            "100% 9/9 [00:00<00:00, 446.69it/s]\n",
            "100% 183/183 [00:26<00:00,  6.78it/s]\n",
            "100% 180/180 [00:26<00:00,  6.80it/s]\n",
            "Epoch 4/15\n",
            "100% 2494/2494 [00:46<00:00, 53.29it/s]\n",
            "Average training loss: 0.13319672274129926\n",
            "evaluating model\n",
            "100% 1000/1000 [00:08<00:00, 112.02it/s]\n",
            "Loss: 0.19965232908725739\n",
            "Accuracy: 0.9242864734752572, Sensitivity: 0.6351395730706075, Specificity: 0.9547056384742952, AUC: 0.9335018003169702\n",
            "100% 2091/2091 [00:18<00:00, 112.44it/s]\n",
            "Loss: 0.3152070939540863\n",
            "Accuracy: 0.900180891300773, Sensitivity: 0.19777982133473462, Specificity: 0.9903760184888409, AUC: 0.8087364245035348\n",
            "100% 12/12 [00:00<00:00, 127.13it/s]\n",
            "Loss: 0.6842379570007324\n",
            "Accuracy: 0.7135416666666666, Sensitivity: 0.20675105485232068, Specificity: 0.9397363465160076, AUC: 0.6771039436776403\n",
            "100% 5/5 [00:00<00:00, 412.54it/s]\n",
            "100% 9/9 [00:00<00:00, 434.23it/s]\n",
            " 99% 182/183 [00:26<00:00,  6.76it/s]\n",
            "Traceback (most recent call last):\n",
            "  File \"run_more.py\", line 116, in <module>\n",
            "    ctf_gaps.append(CTF(ctf_loader, model,))\n",
            "  File \"/content/NLP_CTF/train_eval.py\", line 153, in CTF\n",
            "    A_preds = torch.nn.functional.softmax(model(A.reshape(-1, w)), 1).reshape(l, i, -1)[:,:,0]\n",
            "  File \"/usr/local/lib/python3.7/dist-packages/torch/nn/modules/module.py\", line 1130, in _call_impl\n",
            "    return forward_call(*input, **kwargs)\n",
            "  File \"/content/NLP_CTF/models.py\", line 62, in forward\n",
            "    for conv in self.convs], dim=1)\n",
            "  File \"/content/NLP_CTF/models.py\", line 62, in <listcomp>\n",
            "    for conv in self.convs], dim=1)\n",
            "  File \"/content/NLP_CTF/models.py\", line 37, in conv_pool\n",
            "    X = conv(X)\n",
            "  File \"/usr/local/lib/python3.7/dist-packages/torch/nn/modules/module.py\", line 1130, in _call_impl\n",
            "    return forward_call(*input, **kwargs)\n",
            "  File \"/usr/local/lib/python3.7/dist-packages/torch/nn/modules/conv.py\", line 307, in forward\n",
            "    return self._conv_forward(input, self.weight, self.bias)\n",
            "  File \"/usr/local/lib/python3.7/dist-packages/torch/nn/modules/conv.py\", line 304, in _conv_forward\n",
            "    self.padding, self.dilation, self.groups)\n",
            "KeyboardInterrupt\n",
            "^C\n"
          ]
        },
        {
          "output_type": "error",
          "ename": "NameError",
          "evalue": "ignored",
          "traceback": [
            "\u001b[0;31m---------------------------------------------------------------------------\u001b[0m",
            "\u001b[0;31mNameError\u001b[0m                                 Traceback (most recent call last)",
            "\u001b[0;32m<ipython-input-7-cb011332ea6c>\u001b[0m in \u001b[0;36m<module>\u001b[0;34m\u001b[0m\n\u001b[1;32m      1\u001b[0m \u001b[0mget_ipython\u001b[0m\u001b[0;34m(\u001b[0m\u001b[0;34m)\u001b[0m\u001b[0;34m.\u001b[0m\u001b[0msystem\u001b[0m\u001b[0;34m(\u001b[0m\u001b[0;34m'python run_more.py baseline -v -g -n baseline_experiment'\u001b[0m\u001b[0;34m)\u001b[0m\u001b[0;34m\u001b[0m\u001b[0;34m\u001b[0m\u001b[0m\n\u001b[0;32m----> 2\u001b[0;31m \u001b[0mfiles\u001b[0m\u001b[0;34m.\u001b[0m\u001b[0mdownload\u001b[0m\u001b[0;34m(\u001b[0m\u001b[0;34m'baseline_experiment.csv'\u001b[0m\u001b[0;34m)\u001b[0m \u001b[0;31m# Baseline\u001b[0m\u001b[0;34m\u001b[0m\u001b[0;34m\u001b[0m\u001b[0m\n\u001b[0m",
            "\u001b[0;31mNameError\u001b[0m: name 'files' is not defined"
          ]
        }
      ]
    },
    {
      "cell_type": "code",
      "source": [
        "!python run.py blind -v -n blind_experiment\n",
        "files.download('blind_experiment.csv') # Blind"
      ],
      "metadata": {
        "id": "m_4NuNkq6HO6"
      },
      "execution_count": null,
      "outputs": []
    },
    {
      "cell_type": "code",
      "source": [
        "!python run.py augment -v -n augment_experiment\n",
        "files.download('augment_experiment.csv') # Augment"
      ],
      "metadata": {
        "id": "4pHNAhRj6J9k"
      },
      "execution_count": null,
      "outputs": []
    },
    {
      "cell_type": "code",
      "source": [
        "!python run.py CLP -v -l 0.05 -n CLP005_experiment\n",
        "files.download('CLP005_experiment.csv') # CLP lambda = 0.05"
      ],
      "metadata": {
        "id": "w1GgAGFF6Mpk"
      },
      "execution_count": null,
      "outputs": []
    },
    {
      "cell_type": "code",
      "source": [
        "!python run.py CLP -v -l 1 -n CLP1_experiment\n",
        "files.download('CLP1_experiment.csv') # CLP lambda = 1"
      ],
      "metadata": {
        "id": "XHf17MWU69wk"
      },
      "execution_count": null,
      "outputs": []
    },
    {
      "cell_type": "code",
      "source": [
        "!python run.py CLP -v -l 5 -n CLP5_experiment\n",
        "files.download('CLP5_experiment.csv') # CLP lambda = 5"
      ],
      "metadata": {
        "id": "LmV4dKNq7M8b"
      },
      "execution_count": null,
      "outputs": []
    },
    {
      "cell_type": "code",
      "source": [
        "!python run.py CLP -v -x -l 1 -n CLP1nt_experiment\n",
        "files.download('CLP1nt_experiment.csv') # CLP lambda = 1 only nontoxic"
      ],
      "metadata": {
        "id": "YOpezmCU93N5"
      },
      "execution_count": null,
      "outputs": []
    }
  ],
  "metadata": {
    "kernelspec": {
      "display_name": "Python 3.10.4 ('DL')",
      "language": "python",
      "name": "python3"
    },
    "language_info": {
      "name": "python",
      "version": "3.10.4"
    },
    "orig_nbformat": 4,
    "vscode": {
      "interpreter": {
        "hash": "3b5da4dccc5d959110f70bd428b51197bb0688003461a0e87be372a9c01e32ac"
      }
    },
    "colab": {
      "provenance": [],
      "include_colab_link": true
    },
    "accelerator": "GPU"
  },
  "nbformat": 4,
  "nbformat_minor": 0
}