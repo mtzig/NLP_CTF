{
 "cells": [
  {
   "cell_type": "code",
   "execution_count": 1,
   "id": "e9b9d34f",
   "metadata": {
    "id": "3IVdud_6dxZ1"
   },
   "outputs": [],
   "source": [
    "%load_ext autoreload\n",
    "%autoreload 2"
   ]
  },
  {
   "cell_type": "code",
   "execution_count": 2,
   "id": "66c95832",
   "metadata": {
    "colab": {
     "base_uri": "https://localhost:8080/"
    },
    "id": "PhL6tgrBdxZ1",
    "outputId": "84596358-efe9-48e6-ad68-de3c960c0b49"
   },
   "outputs": [
    {
     "name": "stdout",
     "output_type": "stream",
     "text": [
      "Cloning into 'NLP_CTF'...\n",
      "remote: Enumerating objects: 603, done.\u001b[K\n",
      "remote: Counting objects: 100% (43/43), done.\u001b[K\n",
      "remote: Compressing objects: 100% (35/35), done.\u001b[K\n",
      "remote: Total 603 (delta 20), reused 22 (delta 7), pack-reused 560\u001b[K\n",
      "Receiving objects: 100% (603/603), 99.19 MiB | 20.55 MiB/s, done.\n",
      "Resolving deltas: 100% (366/366), done.\n",
      "Updating files: 100% (53/53), done.\n",
      "[Errno 2] No such file or directory: '/content/NLP_CTF/'\n",
      "/Users/nathanhedgecock/Desktop/Git/NLP_CTF/notebooks\n"
     ]
    }
   ],
   "source": [
    "!git clone https://github.com/mtzig/NLP_CTF.git\n",
    "%cd /content/NLP_CTF/"
   ]
  },
  {
   "cell_type": "code",
   "execution_count": 3,
   "id": "a0d47be8",
   "metadata": {
    "id": "zXaD-4C9ehpq"
   },
   "outputs": [],
   "source": [
    "# !git pull"
   ]
  },
  {
   "cell_type": "markdown",
   "id": "2fe18c9f",
   "metadata": {
    "id": "6qqJhCb2h0gK"
   },
   "source": [
    "Manually download files too large to host on github"
   ]
  },
  {
   "cell_type": "code",
   "execution_count": 4,
   "id": "bfe52a16",
   "metadata": {
    "colab": {
     "base_uri": "https://localhost:8080/"
    },
    "id": "PYx7sTaTdxZ1",
    "outputId": "73f96845-83c7-48eb-fadf-705b95997130"
   },
   "outputs": [
    {
     "name": "stdout",
     "output_type": "stream",
     "text": [
      "[Errno 2] No such file or directory: '/content/NLP_CTF/data'\n",
      "/Users/nathanhedgecock/Desktop/Git/NLP_CTF/notebooks\n",
      "zsh:1: command not found: wget\n",
      "zsh:1: command not found: wget\n",
      "[Errno 2] No such file or directory: './civil_comments'\n",
      "/Users/nathanhedgecock/Desktop/Git/NLP_CTF/notebooks\n",
      "zsh:1: command not found: wget\n",
      "zsh:1: command not found: wget\n",
      "/Users/nathanhedgecock/Desktop/Git/NLP_CTF\n",
      "/Users/nathanhedgecock/Desktop/Git\n"
     ]
    }
   ],
   "source": [
    "%cd /content/NLP_CTF/data\n",
    "!wget --load-cookies /tmp/cookies.txt \"https://docs.google.com/uc?export=download&confirm=$(wget --quiet --save-cookies /tmp/cookies.txt --keep-session-cookies --no-check-certificate 'https://docs.google.com/uc?export=download&id=1JXm1N6SHmzIawgH7Aa4Ag-ZVuqLX7ba7' -O- | sed -rn 's/.*confirm=([0-9A-Za-z_]+).*/\\1\\n/p')&id=1JXm1N6SHmzIawgH7Aa4Ag-ZVuqLX7ba7\" -O GoogleNews-vectors-negative300.bin && rm -rf /tmp/cookies.txt\n",
    "%cd ./civil_comments\n",
    "!wget wget --load-cookies /tmp/cookies.txt \"https://docs.google.com/uc?export=download&confirm=$(wget --quiet --save-cookies /tmp/cookies.txt --keep-session-cookies --no-check-certificate 'https://docs.google.com/uc?export=download&id=1pVM0PGHDXrhE4dqQf-offz_Xv8SoPx0X' -O- | sed -rn 's/.*confirm=([0-9A-Za-z_]+).*/\\1\\n/p')&id=1pVM0PGHDXrhE4dqQf-offz_Xv8SoPx0X\" -O civil_comments.csv && rm -rf /tmp/cookies.txt\n",
    "%cd ..\n",
    "%cd .."
   ]
  },
  {
   "cell_type": "code",
   "execution_count": 5,
   "id": "1e3c6dc8",
   "metadata": {
    "colab": {
     "base_uri": "https://localhost:8080/"
    },
    "id": "yV1T8DXSdxZ1",
    "outputId": "2d7fbb8e-f244-4ae5-ed81-ef2546ceba2c"
   },
   "outputs": [
    {
     "name": "stdout",
     "output_type": "stream",
     "text": [
      "Requirement already satisfied: gensim in /Users/nathanhedgecock/opt/anaconda3/lib/python3.8/site-packages (4.2.0)\n",
      "Requirement already satisfied: scipy>=0.18.1 in /Users/nathanhedgecock/opt/anaconda3/lib/python3.8/site-packages (from gensim) (1.6.2)\n",
      "Requirement already satisfied: smart-open>=1.8.1 in /Users/nathanhedgecock/opt/anaconda3/lib/python3.8/site-packages (from gensim) (6.2.0)\n",
      "Requirement already satisfied: numpy>=1.17.0 in /Users/nathanhedgecock/opt/anaconda3/lib/python3.8/site-packages (from gensim) (1.20.1)\n"
     ]
    }
   ],
   "source": [
    "!pip install --upgrade gensim\n"
   ]
  },
  {
   "cell_type": "code",
   "execution_count": 6,
   "id": "7d4c22e7",
   "metadata": {
    "id": "KNDrDszse39A"
   },
   "outputs": [
    {
     "ename": "ModuleNotFoundError",
     "evalue": "No module named 'google'",
     "output_type": "error",
     "traceback": [
      "\u001b[0;31m---------------------------------------------------------------------------\u001b[0m",
      "\u001b[0;31mModuleNotFoundError\u001b[0m                       Traceback (most recent call last)",
      "\u001b[0;32m<ipython-input-6-ee201b91671e>\u001b[0m in \u001b[0;36m<module>\u001b[0;34m\u001b[0m\n\u001b[0;32m----> 1\u001b[0;31m \u001b[0;32mfrom\u001b[0m \u001b[0mgoogle\u001b[0m\u001b[0;34m.\u001b[0m\u001b[0mcolab\u001b[0m \u001b[0;32mimport\u001b[0m \u001b[0mfiles\u001b[0m\u001b[0;34m\u001b[0m\u001b[0;34m\u001b[0m\u001b[0m\n\u001b[0m",
      "\u001b[0;31mModuleNotFoundError\u001b[0m: No module named 'google'"
     ]
    }
   ],
   "source": [
    "from google.colab import files"
   ]
  },
  {
   "cell_type": "code",
   "execution_count": 8,
   "id": "25b62c55",
   "metadata": {},
   "outputs": [
    {
     "name": "stdout",
     "output_type": "stream",
     "text": [
      "python: can't open file 'run.py': [Errno 2] No such file or directory\r\n"
     ]
    }
   ],
   "source": [
    "!python run.py -h"
   ]
  },
  {
   "cell_type": "markdown",
   "id": "4e8e06a3",
   "metadata": {
    "id": "rwzwfF4C96KB"
   },
   "source": [
    "# Below will run all experiments we need"
   ]
  },
  {
   "cell_type": "code",
   "execution_count": null,
   "id": "1c5c720e",
   "metadata": {
    "id": "TwRhj7dx-Dj4"
   },
   "outputs": [],
   "source": [
    "!python run_more.py baseline -v -n baseline_experiment_more\n",
    "files.download('baseline_experiment_more.csv') # Baseline"
   ]
  },
  {
   "cell_type": "code",
   "execution_count": null,
   "id": "7797c24b",
   "metadata": {
    "id": "m_4NuNkq6HO6"
   },
   "outputs": [],
   "source": [
    "!python run_more.py blind -v -n blind_experiment_more\n",
    "files.download('blind_experiment_more.csv') # Blind"
   ]
  },
  {
   "cell_type": "code",
   "execution_count": null,
   "id": "62ac4349",
   "metadata": {
    "id": "4pHNAhRj6J9k"
   },
   "outputs": [],
   "source": [
    "!python run_more.py augment -v -n augment_experiment_more\n",
    "files.download('augment_experiment_more.csv') # Augment"
   ]
  },
  {
   "cell_type": "code",
   "execution_count": null,
   "id": "02dc1923",
   "metadata": {
    "id": "w1GgAGFF6Mpk"
   },
   "outputs": [],
   "source": [
    "!python run_more.py CLP -v -l 0.05 -n CLP005_experiment_more\n",
    "files.download('CLP005_experiment.csv') # CLP lambda = 0.05"
   ]
  },
  {
   "cell_type": "code",
   "execution_count": null,
   "id": "54b12ca8",
   "metadata": {
    "id": "XHf17MWU69wk"
   },
   "outputs": [],
   "source": [
    "!python run_more.py CLP -v -l 1 -n CLP1_experiment_more\n",
    "files.download('CLP1_experiment_more.csv') # CLP lambda = 1"
   ]
  },
  {
   "cell_type": "code",
   "execution_count": null,
   "id": "ed1df741",
   "metadata": {
    "id": "LmV4dKNq7M8b"
   },
   "outputs": [],
   "source": [
    "!python run_more.py CLP -v -l 5 -n CLP5_experiment_more\n",
    "files.download('CLP5_experiment_more.csv') # CLP lambda = 5"
   ]
  },
  {
   "cell_type": "code",
   "execution_count": null,
   "id": "d9516fe4",
   "metadata": {
    "id": "YOpezmCU93N5"
   },
   "outputs": [],
   "source": [
    "!python run_more.py CLP -v -x -l 1 -n CLP1nt_experiment_more\n",
    "files.download('CLP1nt_experiment_more.csv') # CLP lambda = 1 only nontoxic"
   ]
  }
 ],
 "metadata": {
  "kernelspec": {
   "display_name": "Python 3",
   "language": "python",
   "name": "python3"
  },
  "language_info": {
   "codemirror_mode": {
    "name": "ipython",
    "version": 3
   },
   "file_extension": ".py",
   "mimetype": "text/x-python",
   "name": "python",
   "nbconvert_exporter": "python",
   "pygments_lexer": "ipython3",
   "version": "3.8.8"
  }
 },
 "nbformat": 4,
 "nbformat_minor": 5
}
