{
 "cells": [
  {
   "cell_type": "code",
   "execution_count": null,
   "metadata": {},
   "outputs": [],
   "source": [
    "%load_ext autoreload\n",
    "%autoreload 2"
   ]
  },
  {
   "cell_type": "code",
   "execution_count": null,
   "metadata": {},
   "outputs": [],
   "source": [
    "!git clone https://github.com/mtzig/NLP_CTF.git\n",
    "%cd /content/NLP_CTF/"
   ]
  },
  {
   "cell_type": "code",
   "execution_count": null,
   "metadata": {},
   "outputs": [],
   "source": [
    "%cd /content/NLP_CTF/data\n",
    "!wget -O GoogleNews-vectors-negative300.bin  'https://www.dropbox.com/s/mlg71vsawice3xd/GoogleNews-vectors-negative300.bin?dl=1'\n",
    "%cd ./civil_comments\n",
    "!wget -O civil_comments.csv 'https://www.dropbox.com/s/xv8zkmcmg74n0ak/civil_comments.csv?dl=1'\n",
    "%cd ..\n",
    "%cd .."
   ]
  },
  {
   "cell_type": "code",
   "execution_count": null,
   "metadata": {},
   "outputs": [],
   "source": [
    "from google.colab import files"
   ]
  },
  {
   "cell_type": "markdown",
   "metadata": {},
   "source": [
    "# Random Split 1"
   ]
  },
  {
   "cell_type": "code",
   "execution_count": null,
   "metadata": {},
   "outputs": [],
   "source": [
    "%cd scripts\n",
    "!python convert_csv.py\n",
    "!cp ../data/random_split_data/test_identities.txt ../data/random_split_data/test_identities_1.txt\n",
    "files.download('../data/random_split_data/test_identities_1.txt')\n",
    "%cd .."
   ]
  },
  {
   "cell_type": "code",
   "execution_count": null,
   "metadata": {},
   "outputs": [],
   "source": [
    "!python run.py baseline -v -t 3 -n baseline_experiment_1\n",
    "files.download('baseline_experiment_1.csv') # Baseline"
   ]
  },
  {
   "cell_type": "code",
   "execution_count": null,
   "metadata": {},
   "outputs": [],
   "source": [
    "!python run.py blind -v -t 3 -n blind_experiment_1\n",
    "files.download('blind_experiment_1.csv') # Blind"
   ]
  },
  {
   "cell_type": "code",
   "execution_count": null,
   "metadata": {},
   "outputs": [],
   "source": [
    "!python run.py augment -v -t 3 -n augment_experiment_1\n",
    "files.download('augment_experiment_1.csv') # Augment"
   ]
  },
  {
   "cell_type": "code",
   "execution_count": null,
   "metadata": {},
   "outputs": [],
   "source": [
    "!python run.py CLP -v -l 0.05 -t 3 -n CLP005_experiment_1\n",
    "files.download('CLP005_experiment_1.csv') # CLP lambda = 0.05"
   ]
  },
  {
   "cell_type": "markdown",
   "metadata": {},
   "source": [
    "# Random Split 2"
   ]
  },
  {
   "cell_type": "code",
   "execution_count": null,
   "metadata": {},
   "outputs": [],
   "source": [
    "%cd scripts\n",
    "!python convert_csv.py\n",
    "!cp ../data/random_split_data/test_identities.txt ../data/random_split_data/test_identities_2.txt\n",
    "files.download('../data/random_split_data/test_identities_2.txt')\n",
    "%cd .."
   ]
  },
  {
   "cell_type": "code",
   "execution_count": null,
   "metadata": {},
   "outputs": [],
   "source": [
    "!python run.py baseline -v -t 3 -n baseline_experiment_2\n",
    "files.download('baseline_experiment_2.csv') # Baseline"
   ]
  },
  {
   "cell_type": "code",
   "execution_count": null,
   "metadata": {},
   "outputs": [],
   "source": [
    "!python run.py blind -v -t 3 -n blind_experiment_2\n",
    "files.download('blind_experiment_2.csv') # Blind"
   ]
  },
  {
   "cell_type": "code",
   "execution_count": null,
   "metadata": {},
   "outputs": [],
   "source": [
    "!python run.py augment -v -t 3 -n augment_experiment_2\n",
    "files.download('augment_experiment_2.csv') # Augment"
   ]
  },
  {
   "cell_type": "code",
   "execution_count": null,
   "metadata": {},
   "outputs": [],
   "source": [
    "!python run.py CLP -v -l 0.05 -t 3 -n CLP005_experiment_2\n",
    "files.download('CLP005_experiment_2.csv') # CLP lambda = 0.05"
   ]
  },
  {
   "cell_type": "markdown",
   "metadata": {},
   "source": [
    "# Random Split 3"
   ]
  },
  {
   "cell_type": "code",
   "execution_count": null,
   "metadata": {},
   "outputs": [],
   "source": [
    "%cd scripts\n",
    "!python convert_csv.py\n",
    "!cp ../data/random_split_data/test_identities.txt ../data/random_split_data/test_identities_3.txt\n",
    "files.download('../data/random_split_data/test_identities_3.txt')\n",
    "%cd .."
   ]
  },
  {
   "cell_type": "code",
   "execution_count": null,
   "metadata": {},
   "outputs": [],
   "source": [
    "!python run.py baseline -v -t 3 -n baseline_experiment_3\n",
    "files.download('baseline_experiment_3.csv') # Baseline"
   ]
  },
  {
   "cell_type": "code",
   "execution_count": null,
   "metadata": {},
   "outputs": [],
   "source": [
    "!python run.py blind -v -t 3 -n blind_experiment_3\n",
    "files.download('blind_experiment_3.csv') # Blind"
   ]
  },
  {
   "cell_type": "code",
   "execution_count": null,
   "metadata": {},
   "outputs": [],
   "source": [
    "!python run.py augment -v -t 3 -n augment_experiment_3\n",
    "files.download('augment_experiment_3.csv') # Augment"
   ]
  },
  {
   "cell_type": "code",
   "execution_count": null,
   "metadata": {},
   "outputs": [],
   "source": [
    "!python run.py CLP -v -l 0.05 -t 3 -n CLP005_experiment_3\n",
    "files.download('CLP005_experiment_3.csv') # CLP lambda = 0.05"
   ]
  }
 ],
 "metadata": {
  "kernelspec": {
   "display_name": "Python 3.10.4 ('DL')",
   "language": "python",
   "name": "python3"
  },
  "language_info": {
   "name": "python",
   "version": "3.10.4"
  },
  "orig_nbformat": 4,
  "vscode": {
   "interpreter": {
    "hash": "3b5da4dccc5d959110f70bd428b51197bb0688003461a0e87be372a9c01e32ac"
   }
  }
 },
 "nbformat": 4,
 "nbformat_minor": 2
}
