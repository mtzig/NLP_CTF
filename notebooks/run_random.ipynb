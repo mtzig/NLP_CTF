{
  "cells": [
    {
      "cell_type": "markdown",
      "metadata": {
        "id": "view-in-github",
        "colab_type": "text"
      },
      "source": [
        "<a href=\"https://colab.research.google.com/github/mtzig/NLP_CTF/blob/main/notebooks/run_random.ipynb\" target=\"_parent\"><img src=\"https://colab.research.google.com/assets/colab-badge.svg\" alt=\"Open In Colab\"/></a>"
      ]
    },
    {
      "cell_type": "markdown",
      "source": [
        "# setup"
      ],
      "metadata": {
        "id": "oF7sIhMnpNRe"
      }
    },
    {
      "cell_type": "code",
      "execution_count": 1,
      "metadata": {
        "id": "Cq_O_uGR0WDG"
      },
      "outputs": [],
      "source": [
        "%load_ext autoreload\n",
        "%autoreload 2"
      ]
    },
    {
      "cell_type": "code",
      "execution_count": 2,
      "metadata": {
        "id": "_VgZ3IJ70WDI",
        "outputId": "012b2c5d-2a6e-4c54-ff09-0aca73147627",
        "colab": {
          "base_uri": "https://localhost:8080/"
        }
      },
      "outputs": [
        {
          "output_type": "stream",
          "name": "stdout",
          "text": [
            "Cloning into 'NLP_CTF'...\n",
            "remote: Enumerating objects: 656, done.\u001b[K\n",
            "remote: Counting objects: 100% (96/96), done.\u001b[K\n",
            "remote: Compressing objects: 100% (66/66), done.\u001b[K\n",
            "remote: Total 656 (delta 51), reused 56 (delta 22), pack-reused 560\u001b[K\n",
            "Receiving objects: 100% (656/656), 99.19 MiB | 27.34 MiB/s, done.\n",
            "Resolving deltas: 100% (397/397), done.\n",
            "Checking out files: 100% (56/56), done.\n",
            "/content/NLP_CTF\n"
          ]
        }
      ],
      "source": [
        "!git clone https://github.com/mtzig/NLP_CTF.git\n",
        "%cd /content/NLP_CTF/"
      ]
    },
    {
      "cell_type": "code",
      "execution_count": 3,
      "metadata": {
        "id": "zsT8s8kF0WDI",
        "outputId": "35b8b9ef-335c-477e-8717-71f328ea8219",
        "colab": {
          "base_uri": "https://localhost:8080/"
        }
      },
      "outputs": [
        {
          "output_type": "stream",
          "name": "stdout",
          "text": [
            "/content/NLP_CTF/data\n",
            "--2022-10-30 02:58:37--  https://docs.google.com/uc?export=download&confirm=t&id=1JXm1N6SHmzIawgH7Aa4Ag-ZVuqLX7ba7\n",
            "Resolving docs.google.com (docs.google.com)... 173.194.74.113, 173.194.74.101, 173.194.74.138, ...\n",
            "Connecting to docs.google.com (docs.google.com)|173.194.74.113|:443... connected.\n",
            "HTTP request sent, awaiting response... 303 See Other\n",
            "Location: https://doc-08-7o-docs.googleusercontent.com/docs/securesc/ha0ro937gcuc7l7deffksulhg5h7mbp1/sebhb7susg2nvkc21r2hheeu04989io0/1667098650000/15857340408018396550/*/1JXm1N6SHmzIawgH7Aa4Ag-ZVuqLX7ba7?e=download&uuid=43207741-e0d4-411a-92bb-75d3afd210fa [following]\n",
            "Warning: wildcards not supported in HTTP.\n",
            "--2022-10-30 02:58:37--  https://doc-08-7o-docs.googleusercontent.com/docs/securesc/ha0ro937gcuc7l7deffksulhg5h7mbp1/sebhb7susg2nvkc21r2hheeu04989io0/1667098650000/15857340408018396550/*/1JXm1N6SHmzIawgH7Aa4Ag-ZVuqLX7ba7?e=download&uuid=43207741-e0d4-411a-92bb-75d3afd210fa\n",
            "Resolving doc-08-7o-docs.googleusercontent.com (doc-08-7o-docs.googleusercontent.com)... 74.125.126.132, 2607:f8b0:4001:c1d::84\n",
            "Connecting to doc-08-7o-docs.googleusercontent.com (doc-08-7o-docs.googleusercontent.com)|74.125.126.132|:443... connected.\n",
            "HTTP request sent, awaiting response... 200 OK\n",
            "Length: 3644258522 (3.4G) [application/macbinary]\n",
            "Saving to: ‘GoogleNews-vectors-negative300.bin’\n",
            "\n",
            "GoogleNews-vectors- 100%[===================>]   3.39G   117MB/s    in 32s     \n",
            "\n",
            "2022-10-30 02:59:09 (109 MB/s) - ‘GoogleNews-vectors-negative300.bin’ saved [3644258522/3644258522]\n",
            "\n",
            "/content/NLP_CTF/data/civil_comments\n",
            "--2022-10-30 02:59:09--  https://www.dropbox.com/s/xv8zkmcmg74n0ak/civil_comments.csv?dl=1\n",
            "Resolving www.dropbox.com (www.dropbox.com)... 162.125.3.18, 2620:100:601b:18::a27d:812\n",
            "Connecting to www.dropbox.com (www.dropbox.com)|162.125.3.18|:443... connected.\n",
            "HTTP request sent, awaiting response... 302 Found\n",
            "Location: /s/dl/xv8zkmcmg74n0ak/civil_comments.csv [following]\n",
            "--2022-10-30 02:59:10--  https://www.dropbox.com/s/dl/xv8zkmcmg74n0ak/civil_comments.csv\n",
            "Reusing existing connection to www.dropbox.com:443.\n",
            "HTTP request sent, awaiting response... 302 Found\n",
            "Location: https://uc942f4fa175133cb40363299638.dl.dropboxusercontent.com/cd/0/get/BvzOOwJQiLyvH6SOxpByPKNAB0vzBAJow3Yn5cAkThZrEGIhF30oyUvisvdOtpw8eaAYNs4AbJSe8gQssVvKKlYBJrnbWf8b9Eg7zJmrOEi24Kv82OKRofh1-uYEwF6189Pv9P0yWQgQuIp_sligw_kc3JRXgKhKk-CIu9EyfWex9KEYCsPzP-UdbQtpi82fLZc/file?dl=1# [following]\n",
            "--2022-10-30 02:59:10--  https://uc942f4fa175133cb40363299638.dl.dropboxusercontent.com/cd/0/get/BvzOOwJQiLyvH6SOxpByPKNAB0vzBAJow3Yn5cAkThZrEGIhF30oyUvisvdOtpw8eaAYNs4AbJSe8gQssVvKKlYBJrnbWf8b9Eg7zJmrOEi24Kv82OKRofh1-uYEwF6189Pv9P0yWQgQuIp_sligw_kc3JRXgKhKk-CIu9EyfWex9KEYCsPzP-UdbQtpi82fLZc/file?dl=1\n",
            "Resolving uc942f4fa175133cb40363299638.dl.dropboxusercontent.com (uc942f4fa175133cb40363299638.dl.dropboxusercontent.com)... 162.125.3.15, 2620:100:6019:15::a27d:40f\n",
            "Connecting to uc942f4fa175133cb40363299638.dl.dropboxusercontent.com (uc942f4fa175133cb40363299638.dl.dropboxusercontent.com)|162.125.3.15|:443... connected.\n",
            "HTTP request sent, awaiting response... 200 OK\n",
            "Length: 272774548 (260M) [application/binary]\n",
            "Saving to: ‘civil_comments.csv’\n",
            "\n",
            "civil_comments.csv  100%[===================>] 260.14M   115MB/s    in 2.3s    \n",
            "\n",
            "2022-10-30 02:59:13 (115 MB/s) - ‘civil_comments.csv’ saved [272774548/272774548]\n",
            "\n",
            "/content/NLP_CTF/data\n",
            "/content/NLP_CTF\n"
          ]
        }
      ],
      "source": [
        "%cd /content/NLP_CTF/data\n",
        "!wget -O GoogleNews-vectors-negative300.bin  'https://www.dropbox.com/s/mlg71vsawice3xd/GoogleNews-vectors-negative300.bin?dl=1'\n",
        "!wget -O glove_840B_300d.txt 'https://www.dropbox.com/s/a3meyi58v0jy4tv/glove_840B_300d.txt?dl=1'\n",
        "%cd ./civil_comments\n",
        "!wget -O civil_comments.csv 'https://www.dropbox.com/s/xv8zkmcmg74n0ak/civil_comments.csv?dl=1'\n",
        "%cd ..\n",
        "%cd .."
      ]
    },
    {
      "cell_type": "code",
      "source": [
        "!pip install --upgrade gensim"
      ],
      "metadata": {
        "id": "aR3rFoFioIou"
      },
      "execution_count": null,
      "outputs": []
    },
    {
      "cell_type": "code",
      "execution_count": 4,
      "metadata": {
        "id": "vFZdkRhy0WDI"
      },
      "outputs": [],
      "source": [
        "from google.colab import files"
      ]
    },
    {
      "cell_type": "markdown",
      "metadata": {
        "id": "PU1jjSDI0WDJ"
      },
      "source": [
        "# Random Split 1"
      ]
    },
    {
      "cell_type": "code",
      "execution_count": null,
      "metadata": {
        "id": "MJPRVhtt0WDJ"
      },
      "outputs": [],
      "source": [
        "%cd scripts\n",
        "!python convert_csv.py\n",
        "!cp ../data/random_split_data/test_identities.txt ../data/random_split_data/test_identities_1n.txt\n",
        "files.download('../data/random_split_data/test_identities_1n.txt')\n",
        "%cd .."
      ]
    },
    {
      "cell_type": "code",
      "execution_count": null,
      "metadata": {
        "id": "rSr5lISx0WDK"
      },
      "outputs": [],
      "source": [
        "!python run.py baseline -v -t 3 -f 300 -n baseline_experiment_1n\n",
        "files.download('baseline_experiment_1n.csv') # Baseline"
      ]
    },
    {
      "cell_type": "code",
      "execution_count": null,
      "metadata": {
        "id": "yyOGCNk50WDK"
      },
      "outputs": [],
      "source": [
        "!python run.py blind -v -t 3 -f 300 -n blind_experiment_1n\n",
        "files.download('blind_experiment_1n.csv') # Blind"
      ]
    },
    {
      "cell_type": "code",
      "execution_count": null,
      "metadata": {
        "id": "sLd2s8Jj0WDK"
      },
      "outputs": [],
      "source": [
        "!python run.py augment -v -t 3 -f 300 -n augment_experiment_1n\n",
        "files.download('augment_experiment_1n.csv') # Augment"
      ]
    },
    {
      "cell_type": "code",
      "execution_count": null,
      "metadata": {
        "id": "1aFFNOO_0WDL"
      },
      "outputs": [],
      "source": [
        "!python run.py CLP -v -l 0.05 -t 3 -f 300 -n CLP005_experiment_1n\n",
        "files.download('CLP005_experiment_1n.csv') # CLP lambda = 0.05"
      ]
    },
    {
      "cell_type": "markdown",
      "metadata": {
        "id": "p5OWyb780WDL"
      },
      "source": [
        "# Random Split 2"
      ]
    },
    {
      "cell_type": "code",
      "execution_count": null,
      "metadata": {
        "id": "T1yag-3f0WDL"
      },
      "outputs": [],
      "source": [
        "%cd scripts\n",
        "!python convert_csv.py\n",
        "!cp ../data/random_split_data/test_identities.txt ../data/random_split_data/test_identities_2n.txt\n",
        "files.download('../data/random_split_data/test_identities_2n.txt')\n",
        "%cd .."
      ]
    },
    {
      "cell_type": "code",
      "execution_count": null,
      "metadata": {
        "id": "w9mxgabI0WDL"
      },
      "outputs": [],
      "source": [
        "!python run.py baseline -v -t 3 -f 300 -n baseline_experiment_2n\n",
        "files.download('baseline_experiment_2n.csv') # Baseline"
      ]
    },
    {
      "cell_type": "code",
      "execution_count": null,
      "metadata": {
        "id": "FqNmosew0WDL"
      },
      "outputs": [],
      "source": [
        "!python run.py blind -v -t 3 -f 300 -n blind_experiment_2n\n",
        "files.download('blind_experiment_2n.csv') # Blind"
      ]
    },
    {
      "cell_type": "code",
      "execution_count": null,
      "metadata": {
        "id": "ESW_Y7HH0WDM"
      },
      "outputs": [],
      "source": [
        "!python run.py augment -v -t 3 -f 300 -n augment_experiment_2n\n",
        "files.download('augment_experiment_2n.csv') # Augment"
      ]
    },
    {
      "cell_type": "code",
      "execution_count": null,
      "metadata": {
        "id": "rUZ2Z1rR0WDM"
      },
      "outputs": [],
      "source": [
        "!python run.py CLP -v -l 0.05 -t 3 -f 300 -n CLP005_experiment_2n\n",
        "files.download('CLP005_experiment_2n.csv') # CLP lambda = 0.05"
      ]
    },
    {
      "cell_type": "markdown",
      "metadata": {
        "id": "LOEm4-VP0WDM"
      },
      "source": [
        "# Random Split 3"
      ]
    },
    {
      "cell_type": "code",
      "execution_count": null,
      "metadata": {
        "id": "669rVHYc0WDM"
      },
      "outputs": [],
      "source": [
        "%cd scripts\n",
        "!python convert_csv.py\n",
        "!cp ../data/random_split_data/test_identities.txt ../data/random_split_data/test_identities_3n.txt\n",
        "files.download('../data/random_split_data/test_identities_3n.txt')\n",
        "%cd .."
      ]
    },
    {
      "cell_type": "code",
      "execution_count": null,
      "metadata": {
        "id": "6fauWmLI0WDM"
      },
      "outputs": [],
      "source": [
        "!python run.py baseline -v -t 3 -f 300 -n baseline_experiment_3n\n",
        "files.download('baseline_experiment_3n.csv') # Baseline"
      ]
    },
    {
      "cell_type": "code",
      "execution_count": null,
      "metadata": {
        "id": "fYhf4d6q0WDM"
      },
      "outputs": [],
      "source": [
        "!python run.py blind -v -t 3 -f 300 -n blind_experiment_3n\n",
        "files.download('blind_experiment_3n.csv') # Blind"
      ]
    },
    {
      "cell_type": "code",
      "execution_count": null,
      "metadata": {
        "id": "gZxjaty_0WDM"
      },
      "outputs": [],
      "source": [
        "!python run.py augment -v -t 3 -f 300 -n augment_experiment_3n\n",
        "files.download('augment_experiment_3n.csv') # Augment"
      ]
    },
    {
      "cell_type": "code",
      "execution_count": null,
      "metadata": {
        "id": "zveQZlfo0WDN"
      },
      "outputs": [],
      "source": [
        "!python run.py CLP -v -l 0.05 -t 3 -f 300 -n CLP005_experiment_3n\n",
        "files.download('CLP005_experiment_3n.csv') # CLP lambda = 0.05"
      ]
    }
  ],
  "metadata": {
    "kernelspec": {
      "display_name": "Python 3.10.4 ('DL')",
      "language": "python",
      "name": "python3"
    },
    "language_info": {
      "name": "python",
      "version": "3.10.4"
    },
    "orig_nbformat": 4,
    "vscode": {
      "interpreter": {
        "hash": "3b5da4dccc5d959110f70bd428b51197bb0688003461a0e87be372a9c01e32ac"
      }
    },
    "colab": {
      "provenance": [],
      "include_colab_link": true
    },
    "accelerator": "GPU",
    "gpuClass": "premium"
  },
  "nbformat": 4,
  "nbformat_minor": 0
}