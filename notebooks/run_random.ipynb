{
  "cells": [
    {
      "cell_type": "markdown",
      "metadata": {
        "id": "view-in-github",
        "colab_type": "text"
      },
      "source": [
        "<a href=\"https://colab.research.google.com/github/mtzig/NLP_CTF/blob/main/notebooks/run_random.ipynb\" target=\"_parent\"><img src=\"https://colab.research.google.com/assets/colab-badge.svg\" alt=\"Open In Colab\"/></a>"
      ]
    },
    {
      "cell_type": "markdown",
      "source": [
        "# setup"
      ],
      "metadata": {
        "id": "oF7sIhMnpNRe"
      }
    },
    {
      "cell_type": "code",
      "execution_count": 1,
      "metadata": {
        "id": "Cq_O_uGR0WDG"
      },
      "outputs": [],
      "source": [
        "%load_ext autoreload\n",
        "%autoreload 2"
      ]
    },
    {
      "cell_type": "code",
      "execution_count": 2,
      "metadata": {
        "id": "_VgZ3IJ70WDI",
        "outputId": "286b0017-db76-40d0-9b2e-7fc09a602219",
        "colab": {
          "base_uri": "https://localhost:8080/"
        }
      },
      "outputs": [
        {
          "output_type": "stream",
          "name": "stdout",
          "text": [
            "Cloning into 'NLP_CTF'...\n",
            "remote: Enumerating objects: 756, done.\u001b[K\n",
            "remote: Counting objects: 100% (196/196), done.\u001b[K\n",
            "remote: Compressing objects: 100% (139/139), done.\u001b[K\n",
            "remote: Total 756 (delta 104), reused 126 (delta 49), pack-reused 560\u001b[K\n",
            "Receiving objects: 100% (756/756), 99.34 MiB | 22.75 MiB/s, done.\n",
            "Resolving deltas: 100% (450/450), done.\n",
            "Checking out files: 100% (71/71), done.\n",
            "/content/NLP_CTF\n"
          ]
        }
      ],
      "source": [
        "!git clone https://github.com/mtzig/NLP_CTF.git\n",
        "%cd /content/NLP_CTF/"
      ]
    },
    {
      "cell_type": "code",
      "execution_count": null,
      "metadata": {
        "id": "zsT8s8kF0WDI",
        "outputId": "aa0f3ac5-a113-49b9-e482-9339dcabbb7a",
        "colab": {
          "base_uri": "https://localhost:8080/"
        }
      },
      "outputs": [
        {
          "output_type": "stream",
          "name": "stdout",
          "text": [
            "/content/NLP_CTF/data\n",
            "--2022-11-05 18:22:29--  https://www.dropbox.com/s/mlg71vsawice3xd/GoogleNews-vectors-negative300.bin?dl=1\n",
            "Resolving www.dropbox.com (www.dropbox.com)... 162.125.66.18, 2620:100:601a:18::a27d:712\n",
            "Connecting to www.dropbox.com (www.dropbox.com)|162.125.66.18|:443... connected.\n",
            "HTTP request sent, awaiting response... 302 Found\n",
            "Location: /s/dl/mlg71vsawice3xd/GoogleNews-vectors-negative300.bin [following]\n",
            "--2022-11-05 18:22:30--  https://www.dropbox.com/s/dl/mlg71vsawice3xd/GoogleNews-vectors-negative300.bin\n",
            "Reusing existing connection to www.dropbox.com:443.\n",
            "HTTP request sent, awaiting response... 302 Found\n",
            "Location: https://ucee06ca6423b4c04230ebe08b55.dl.dropboxusercontent.com/cd/0/get/BwOpQGs-MkWSLWfZyPUNq28JIRVtQoRadpP7yC4pNOALhE2oF71Kj2w3OR_QD1M5m3ZOrjFjRf5dJM14j4czkCLY6JNfKGmQ8BDMQQAF-bDuaix6KZ0HOraA3crkjfeHIHlY5-4EIESVXM_gTPKL3Ah7-sZt0QLJA7_luCdbFZ0gH2QNaSGSytz8_edeTtaOYis/file?dl=1# [following]\n",
            "--2022-11-05 18:22:30--  https://ucee06ca6423b4c04230ebe08b55.dl.dropboxusercontent.com/cd/0/get/BwOpQGs-MkWSLWfZyPUNq28JIRVtQoRadpP7yC4pNOALhE2oF71Kj2w3OR_QD1M5m3ZOrjFjRf5dJM14j4czkCLY6JNfKGmQ8BDMQQAF-bDuaix6KZ0HOraA3crkjfeHIHlY5-4EIESVXM_gTPKL3Ah7-sZt0QLJA7_luCdbFZ0gH2QNaSGSytz8_edeTtaOYis/file?dl=1\n",
            "Resolving ucee06ca6423b4c04230ebe08b55.dl.dropboxusercontent.com (ucee06ca6423b4c04230ebe08b55.dl.dropboxusercontent.com)... 162.125.71.15, 2620:100:6021:15::a27d:410f\n",
            "Connecting to ucee06ca6423b4c04230ebe08b55.dl.dropboxusercontent.com (ucee06ca6423b4c04230ebe08b55.dl.dropboxusercontent.com)|162.125.71.15|:443... connected.\n",
            "HTTP request sent, awaiting response... 200 OK\n",
            "Length: 3644258522 (3.4G) [application/binary]\n",
            "Saving to: ‘GoogleNews-vectors-negative300.bin’\n",
            "\n",
            "       GoogleNews-v  46%[========>           ]   1.59G  20.2MB/s    eta 98s    ^C\n",
            "--2022-11-05 18:23:57--  https://www.dropbox.com/s/a3meyi58v0jy4tv/glove_840B_300d.txt?dl=1\n",
            "Resolving www.dropbox.com (www.dropbox.com)... 162.125.7.18, 2620:100:601d:18::a27d:512\n",
            "Connecting to www.dropbox.com (www.dropbox.com)|162.125.7.18|:443... connected.\n",
            "HTTP request sent, awaiting response... 302 Found\n",
            "Location: /s/dl/a3meyi58v0jy4tv/glove_840B_300d.txt [following]\n",
            "--2022-11-05 18:23:58--  https://www.dropbox.com/s/dl/a3meyi58v0jy4tv/glove_840B_300d.txt\n",
            "Reusing existing connection to www.dropbox.com:443.\n",
            "HTTP request sent, awaiting response... 302 Found\n",
            "Location: https://ucd2726969627870c619c0c37f71.dl.dropboxusercontent.com/cd/0/get/BwOSTTZvuh65jzG9vJrNDsJT9hj6ngzCRT-Zfy1LMK0CNZa0q7HW271-awf_SnEVePnwVJxshCGd1ZEynZSEZyqsQBhWc3BsXPLYopm2llkUTL-5lWTI24s6Wew04kM-9GXVjItH5bqNOSBUoY9PUN5Msz1P3gTRaUwkpR9ZtXqT3cpR-RSqUgkoTmc6V1QCfSw/file?dl=1# [following]\n",
            "--2022-11-05 18:23:58--  https://ucd2726969627870c619c0c37f71.dl.dropboxusercontent.com/cd/0/get/BwOSTTZvuh65jzG9vJrNDsJT9hj6ngzCRT-Zfy1LMK0CNZa0q7HW271-awf_SnEVePnwVJxshCGd1ZEynZSEZyqsQBhWc3BsXPLYopm2llkUTL-5lWTI24s6Wew04kM-9GXVjItH5bqNOSBUoY9PUN5Msz1P3gTRaUwkpR9ZtXqT3cpR-RSqUgkoTmc6V1QCfSw/file?dl=1\n",
            "Resolving ucd2726969627870c619c0c37f71.dl.dropboxusercontent.com (ucd2726969627870c619c0c37f71.dl.dropboxusercontent.com)... 162.125.65.15, 2620:100:6021:15::a27d:410f\n",
            "Connecting to ucd2726969627870c619c0c37f71.dl.dropboxusercontent.com (ucd2726969627870c619c0c37f71.dl.dropboxusercontent.com)|162.125.65.15|:443... connected.\n",
            "HTTP request sent, awaiting response... 200 OK\n",
            "Length: 5646236541 (5.3G) [application/binary]\n",
            "Saving to: ‘glove_840B_300d.txt’\n",
            "\n",
            "glove_840B_300d.txt   1%[                    ] 102.01M  21.9MB/s    eta 4m 9s  "
          ]
        }
      ],
      "source": [
        "%cd /content/NLP_CTF/data\n",
        "!wget -O GoogleNews-vectors-negative300.bin  'https://www.dropbox.com/s/mlg71vsawice3xd/GoogleNews-vectors-negative300.bin?dl=1'\n",
        "!wget -O glove_840B_300d.txt 'https://www.dropbox.com/s/a3meyi58v0jy4tv/glove_840B_300d.txt?dl=1'\n",
        "%cd ./civil_comments\n",
        "!wget -O civil_comments.csv 'https://www.dropbox.com/s/xv8zkmcmg74n0ak/civil_comments.csv?dl=1'\n",
        "%cd ..\n",
        "%cd .."
      ]
    },
    {
      "cell_type": "code",
      "source": [
        "!pip install --upgrade gensim"
      ],
      "metadata": {
        "id": "aR3rFoFioIou"
      },
      "execution_count": null,
      "outputs": []
    },
    {
      "cell_type": "code",
      "execution_count": null,
      "metadata": {
        "id": "vFZdkRhy0WDI"
      },
      "outputs": [],
      "source": [
        "from google.colab import files"
      ]
    },
    {
      "cell_type": "markdown",
      "metadata": {
        "id": "PU1jjSDI0WDJ"
      },
      "source": [
        "# Random Split 1"
      ]
    },
    {
      "cell_type": "code",
      "execution_count": null,
      "metadata": {
        "id": "MJPRVhtt0WDJ"
      },
      "outputs": [],
      "source": [
        "%cd scripts\n",
        "!python convert_csv.py\n",
        "!cp ../data/random_split_data/test_identities.txt ../data/random_split_data/test_identities_1n.txt\n",
        "files.download('../data/random_split_data/test_identities_1n.txt')\n",
        "%cd .."
      ]
    },
    {
      "cell_type": "code",
      "execution_count": null,
      "metadata": {
        "id": "rSr5lISx0WDK"
      },
      "outputs": [],
      "source": [
        "!python run.py baseline -v -f 300 -n baseline_experiment_1n\n",
        "files.download('baseline_experiment_1n.csv') # Baseline"
      ]
    },
    {
      "cell_type": "code",
      "execution_count": null,
      "metadata": {
        "id": "yyOGCNk50WDK"
      },
      "outputs": [],
      "source": [
        "!python run.py blind -v -f 300 -n blind_experiment_1n\n",
        "files.download('blind_experiment_1n.csv') # Blind"
      ]
    },
    {
      "cell_type": "code",
      "execution_count": null,
      "metadata": {
        "id": "sLd2s8Jj0WDK"
      },
      "outputs": [],
      "source": [
        "!python run.py augment -v -f 300 -n augment_experiment_1n\n",
        "files.download('augment_experiment_1n.csv') # Augment"
      ]
    },
    {
      "cell_type": "code",
      "execution_count": null,
      "metadata": {
        "id": "1aFFNOO_0WDL"
      },
      "outputs": [],
      "source": [
        "!python run.py CLP -v -l 0.05 -f 300 -n CLP005_experiment_1n\n",
        "files.download('CLP005_experiment_1n.csv') # CLP lambda = 0.05"
      ]
    },
    {
      "cell_type": "code",
      "source": [
        "!python run.py CLP -v -l 1 -n CLP1_experiment_1n\n",
        "files.download('CLP1_experiment_1n.csv') # CLP lambda = 1"
      ],
      "metadata": {
        "id": "-1iwPTTwCtRB"
      },
      "execution_count": null,
      "outputs": []
    },
    {
      "cell_type": "code",
      "source": [
        "!python run.py CLP -v -l 5 -f 300 -n CLP5_experiment_1n\n",
        "files.download('CLP5_experiment_1n.csv') # CLP lambda = 5"
      ],
      "metadata": {
        "id": "AGfq8HnECUbj"
      },
      "execution_count": null,
      "outputs": []
    },
    {
      "cell_type": "code",
      "source": [
        "!python run.py CLP -v -x -l 1 -f 300 -n CLP1nt_experiment_1n\n",
        "files.download('CLP1nt_experiment_1n.csv') # CLP lambda = 1 only nontoxic"
      ],
      "metadata": {
        "id": "OipneoPRCU1J"
      },
      "execution_count": null,
      "outputs": []
    },
    {
      "cell_type": "markdown",
      "metadata": {
        "id": "p5OWyb780WDL"
      },
      "source": [
        "# Random Split 2"
      ]
    },
    {
      "cell_type": "code",
      "execution_count": null,
      "metadata": {
        "id": "T1yag-3f0WDL"
      },
      "outputs": [],
      "source": [
        "%cd scripts\n",
        "!python convert_csv.py\n",
        "!cp ../data/random_split_data/test_identities.txt ../data/random_split_data/test_identities_2n.txt\n",
        "files.download('../data/random_split_data/test_identities_2n.txt')\n",
        "%cd .."
      ]
    },
    {
      "cell_type": "code",
      "execution_count": null,
      "metadata": {
        "id": "w9mxgabI0WDL"
      },
      "outputs": [],
      "source": [
        "!python run.py baseline -v -f 300 -n baseline_experiment_2n\n",
        "files.download('baseline_experiment_2n.csv') # Baseline"
      ]
    },
    {
      "cell_type": "code",
      "execution_count": null,
      "metadata": {
        "id": "FqNmosew0WDL"
      },
      "outputs": [],
      "source": [
        "!python run.py blind -v -f 300 -n blind_experiment_2n\n",
        "files.download('blind_experiment_2n.csv') # Blind"
      ]
    },
    {
      "cell_type": "code",
      "execution_count": null,
      "metadata": {
        "id": "ESW_Y7HH0WDM"
      },
      "outputs": [],
      "source": [
        "!python run.py augment -v -f 300 -n augment_experiment_2n\n",
        "files.download('augment_experiment_2n.csv') # Augment"
      ]
    },
    {
      "cell_type": "code",
      "execution_count": null,
      "metadata": {
        "id": "rUZ2Z1rR0WDM"
      },
      "outputs": [],
      "source": [
        "!python run.py CLP -v -l 0.05 -f 300 -n CLP005_experiment_2n\n",
        "files.download('CLP005_experiment_2n.csv') # CLP lambda = 0.05"
      ]
    },
    {
      "cell_type": "code",
      "source": [
        "!python run.py CLP -v -l 1 -n CLP1_experiment_2n\n",
        "files.download('CLP1_experiment_2n.csv') # CLP lambda = 1"
      ],
      "metadata": {
        "id": "L7KpHo1CCzlX"
      },
      "execution_count": null,
      "outputs": []
    },
    {
      "cell_type": "code",
      "source": [
        "!python run.py CLP -v -l 5 -f 300 -n CLP5_experiment_2n\n",
        "files.download('CLP5_experiment_2n.csv') # CLP lambda = 5"
      ],
      "metadata": {
        "id": "zQ9OpH2jCzlY"
      },
      "execution_count": null,
      "outputs": []
    },
    {
      "cell_type": "code",
      "source": [
        "!python run.py CLP -v -x -l 1 -f 300 -n CLP1nt_experiment_2n\n",
        "files.download('CLP1nt_experiment_2n.csv') # CLP lambda = 1 only nontoxic"
      ],
      "metadata": {
        "id": "q7RexWEiCzlY"
      },
      "execution_count": null,
      "outputs": []
    },
    {
      "cell_type": "markdown",
      "metadata": {
        "id": "LOEm4-VP0WDM"
      },
      "source": [
        "# Random Split 3"
      ]
    },
    {
      "cell_type": "code",
      "execution_count": null,
      "metadata": {
        "id": "669rVHYc0WDM"
      },
      "outputs": [],
      "source": [
        "%cd scripts\n",
        "!python convert_csv.py\n",
        "!cp ../data/random_split_data/test_identities.txt ../data/random_split_data/test_identities_3n.txt\n",
        "files.download('../data/random_split_data/test_identities_3n.txt')\n",
        "%cd .."
      ]
    },
    {
      "cell_type": "code",
      "execution_count": null,
      "metadata": {
        "id": "6fauWmLI0WDM"
      },
      "outputs": [],
      "source": [
        "!python run.py baseline -v -f 300 -n baseline_experiment_3n\n",
        "files.download('baseline_experiment_3n.csv') # Baseline"
      ]
    },
    {
      "cell_type": "code",
      "execution_count": null,
      "metadata": {
        "id": "fYhf4d6q0WDM"
      },
      "outputs": [],
      "source": [
        "!python run.py blind -v -f 300 -n blind_experiment_3n\n",
        "files.download('blind_experiment_3n.csv') # Blind"
      ]
    },
    {
      "cell_type": "code",
      "execution_count": null,
      "metadata": {
        "id": "gZxjaty_0WDM"
      },
      "outputs": [],
      "source": [
        "!python run.py augment -v -f 300 -n augment_experiment_3n\n",
        "files.download('augment_experiment_3n.csv') # Augment"
      ]
    },
    {
      "cell_type": "code",
      "execution_count": null,
      "metadata": {
        "id": "zveQZlfo0WDN"
      },
      "outputs": [],
      "source": [
        "!python run.py CLP -v -l 0.05 -f 300 -n CLP005_experiment_3n\n",
        "files.download('CLP005_experiment_3n.csv') # CLP lambda = 0.05"
      ]
    },
    {
      "cell_type": "code",
      "source": [
        "!python run.py CLP -v -l 1 -n CLP1_experiment_3n\n",
        "files.download('CLP1_experiment_3n.csv') # CLP lambda = 1"
      ],
      "metadata": {
        "id": "B3vl8XskC0q9"
      },
      "execution_count": null,
      "outputs": []
    },
    {
      "cell_type": "code",
      "source": [
        "!python run.py CLP -v -l 5 -f 300 -n CLP5_experiment_3n\n",
        "files.download('CLP5_experiment_3n.csv') # CLP lambda = 5"
      ],
      "metadata": {
        "id": "PvEpzp3lC0q-"
      },
      "execution_count": null,
      "outputs": []
    },
    {
      "cell_type": "code",
      "source": [
        "!python run.py CLP -v -x -l 1 -f 300 -n CLP1nt_experiment_3n\n",
        "files.download('CLP1nt_experiment_3n.csv') # CLP lambda = 1 only nontoxic"
      ],
      "metadata": {
        "id": "7o5JyGCOC0q-"
      },
      "execution_count": null,
      "outputs": []
    }
  ],
  "metadata": {
    "kernelspec": {
      "display_name": "Python 3.10.4 ('DL')",
      "language": "python",
      "name": "python3"
    },
    "language_info": {
      "name": "python",
      "version": "3.10.4"
    },
    "orig_nbformat": 4,
    "vscode": {
      "interpreter": {
        "hash": "3b5da4dccc5d959110f70bd428b51197bb0688003461a0e87be372a9c01e32ac"
      }
    },
    "colab": {
      "provenance": [],
      "include_colab_link": true
    },
    "accelerator": "GPU",
    "gpuClass": "premium"
  },
  "nbformat": 4,
  "nbformat_minor": 0
}