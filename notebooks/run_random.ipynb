{
  "cells": [
    {
      "cell_type": "code",
      "execution_count": 1,
      "metadata": {
        "id": "jyzVsTlMXs4u"
      },
      "outputs": [],
      "source": [
        "%load_ext autoreload\n",
        "%autoreload 2"
      ]
    },
    {
      "cell_type": "code",
      "execution_count": 2,
      "metadata": {
        "id": "bi48F5dVXs4v",
        "outputId": "98618a5a-bc76-4624-ab20-764799ae62f3",
        "colab": {
          "base_uri": "https://localhost:8080/"
        }
      },
      "outputs": [
        {
          "output_type": "stream",
          "name": "stdout",
          "text": [
            "Cloning into 'NLP_CTF'...\n",
            "remote: Enumerating objects: 656, done.\u001b[K\n",
            "remote: Counting objects: 100% (96/96), done.\u001b[K\n",
            "remote: Compressing objects: 100% (66/66), done.\u001b[K\n",
            "remote: Total 656 (delta 51), reused 56 (delta 22), pack-reused 560\u001b[K\n",
            "Receiving objects: 100% (656/656), 99.19 MiB | 16.91 MiB/s, done.\n",
            "Resolving deltas: 100% (397/397), done.\n",
            "Checking out files: 100% (56/56), done.\n",
            "/content/NLP_CTF\n"
          ]
        }
      ],
      "source": [
        "!git clone https://github.com/mtzig/NLP_CTF.git\n",
        "%cd /content/NLP_CTF/"
      ]
    },
    {
      "cell_type": "code",
      "source": [
        "%cd ./data\n",
        "!wget --load-cookies /tmp/cookies.txt \"https://docs.google.com/uc?export=download&confirm=$(wget --quiet --save-cookies /tmp/cookies.txt --keep-session-cookies --no-check-certificate 'https://docs.google.com/uc?export=download&id=1JXm1N6SHmzIawgH7Aa4Ag-ZVuqLX7ba7' -O- | sed -rn 's/.*confirm=([0-9A-Za-z_]+).*/\\1\\n/p')&id=1JXm1N6SHmzIawgH7Aa4Ag-ZVuqLX7ba7\" -O GoogleNews-vectors-negative300.bin && rm -rf /tmp/cookies.txt\n",
        "%cd .."
      ],
      "metadata": {
        "id": "JoZS5c3gaMhO"
      },
      "execution_count": null,
      "outputs": []
    },
    {
      "cell_type": "code",
      "execution_count": 3,
      "metadata": {
        "id": "R-t56JSsXs4v",
        "outputId": "a72204e1-5f2f-4df7-d5f5-e189383bb33a",
        "colab": {
          "base_uri": "https://localhost:8080/"
        }
      },
      "outputs": [
        {
          "output_type": "stream",
          "name": "stdout",
          "text": [
            "/content/NLP_CTF/data\n",
            "--2022-10-30 14:50:35--  https://www.dropbox.com/s/mlg71vsawice3xd/GoogleNews-vectors-negative300.bin?dl=1\n",
            "Resolving www.dropbox.com (www.dropbox.com)... 162.125.7.18, 2620:100:6035:18::a27d:5512\n",
            "Connecting to www.dropbox.com (www.dropbox.com)|162.125.7.18|:443... connected.\n",
            "HTTP request sent, awaiting response... 302 Found\n",
            "Location: /s/dl/mlg71vsawice3xd/GoogleNews-vectors-negative300.bin [following]\n",
            "--2022-10-30 14:50:36--  https://www.dropbox.com/s/dl/mlg71vsawice3xd/GoogleNews-vectors-negative300.bin\n",
            "Reusing existing connection to www.dropbox.com:443.\n",
            "HTTP request sent, awaiting response... 302 Found\n",
            "Location: https://uc9b64c9d5aa53f4b28cd9b7b3e0.dl.dropboxusercontent.com/cd/0/get/BvwgbzRXxxSI2DKt255TAAeabO8HJ2DF5sZACHBhsmAAcI5uJZ0VTxBQ1v3D9IaOQdoGUl-PwmXdh7xa6iNSAI5ipKf0W4SWxr_7C2Gu6bIxrL0uZxLhr2V2ucqW86bfid7BdZ8wnNKGxepmUenRSvbWGY3zc__cXvs4vdWsC7VJRaP08ZuDhWUFYN5H3ZDbZto/file?dl=1# [following]\n",
            "--2022-10-30 14:50:37--  https://uc9b64c9d5aa53f4b28cd9b7b3e0.dl.dropboxusercontent.com/cd/0/get/BvwgbzRXxxSI2DKt255TAAeabO8HJ2DF5sZACHBhsmAAcI5uJZ0VTxBQ1v3D9IaOQdoGUl-PwmXdh7xa6iNSAI5ipKf0W4SWxr_7C2Gu6bIxrL0uZxLhr2V2ucqW86bfid7BdZ8wnNKGxepmUenRSvbWGY3zc__cXvs4vdWsC7VJRaP08ZuDhWUFYN5H3ZDbZto/file?dl=1\n",
            "Resolving uc9b64c9d5aa53f4b28cd9b7b3e0.dl.dropboxusercontent.com (uc9b64c9d5aa53f4b28cd9b7b3e0.dl.dropboxusercontent.com)... 162.125.7.15, 2620:100:6031:15::a27d:510f\n",
            "Connecting to uc9b64c9d5aa53f4b28cd9b7b3e0.dl.dropboxusercontent.com (uc9b64c9d5aa53f4b28cd9b7b3e0.dl.dropboxusercontent.com)|162.125.7.15|:443... connected.\n",
            "HTTP request sent, awaiting response... 200 OK\n",
            "Length: 3644258522 (3.4G) [application/binary]\n",
            "Saving to: ‘GoogleNews-vectors-negative300.bin’\n",
            "\n",
            "GoogleNews-vectors- 100%[===================>]   3.39G  16.6MB/s    in 3m 44s  \n",
            "\n",
            "2022-10-30 14:54:22 (15.5 MB/s) - ‘GoogleNews-vectors-negative300.bin’ saved [3644258522/3644258522]\n",
            "\n",
            "/content/NLP_CTF/data/civil_comments\n",
            "--2022-10-30 14:54:23--  https://www.dropbox.com/s/xv8zkmcmg74n0ak/civil_comments.csv?dl=1\n",
            "Resolving www.dropbox.com (www.dropbox.com)... 162.125.81.18, 2620:100:6031:18::a27d:5112\n",
            "Connecting to www.dropbox.com (www.dropbox.com)|162.125.81.18|:443... connected.\n",
            "HTTP request sent, awaiting response... 302 Found\n",
            "Location: /s/dl/xv8zkmcmg74n0ak/civil_comments.csv [following]\n",
            "--2022-10-30 14:54:24--  https://www.dropbox.com/s/dl/xv8zkmcmg74n0ak/civil_comments.csv\n",
            "Reusing existing connection to www.dropbox.com:443.\n",
            "HTTP request sent, awaiting response... 302 Found\n",
            "Location: https://uc8d343cb9a63f58b4060b969727.dl.dropboxusercontent.com/cd/0/get/Bvw4NKIxkhjJspfU49jZ-If1YxGALFjudSX1UrRuH9hHSvuDMKfw5nE2dvoYYn1_frw9md5TlVcCRUMYj5gRKDafbuuSGwiGfIiLVvm3bOmBlA_sAdhEDTz5xmFWQ40ovbXzPtpIny49KNmHpgUPHj4A3KVgodDD--qoJT9ayw8ZKB1Dzw9oy71Dm2Q5mB5hV-A/file?dl=1# [following]\n",
            "--2022-10-30 14:54:24--  https://uc8d343cb9a63f58b4060b969727.dl.dropboxusercontent.com/cd/0/get/Bvw4NKIxkhjJspfU49jZ-If1YxGALFjudSX1UrRuH9hHSvuDMKfw5nE2dvoYYn1_frw9md5TlVcCRUMYj5gRKDafbuuSGwiGfIiLVvm3bOmBlA_sAdhEDTz5xmFWQ40ovbXzPtpIny49KNmHpgUPHj4A3KVgodDD--qoJT9ayw8ZKB1Dzw9oy71Dm2Q5mB5hV-A/file?dl=1\n",
            "Resolving uc8d343cb9a63f58b4060b969727.dl.dropboxusercontent.com (uc8d343cb9a63f58b4060b969727.dl.dropboxusercontent.com)... 162.125.81.15, 2620:100:6031:15::a27d:510f\n",
            "Connecting to uc8d343cb9a63f58b4060b969727.dl.dropboxusercontent.com (uc8d343cb9a63f58b4060b969727.dl.dropboxusercontent.com)|162.125.81.15|:443... connected.\n",
            "HTTP request sent, awaiting response... 200 OK\n",
            "Length: 272774548 (260M) [application/binary]\n",
            "Saving to: ‘civil_comments.csv’\n",
            "\n",
            "civil_comments.csv  100%[===================>] 260.14M  12.3MB/s    in 17s     \n",
            "\n",
            "2022-10-30 14:54:42 (15.4 MB/s) - ‘civil_comments.csv’ saved [272774548/272774548]\n",
            "\n",
            "/content/NLP_CTF/data\n",
            "/content/NLP_CTF\n"
          ]
        }
      ],
      "source": [
        "%cd /content/NLP_CTF/data\n",
        "!wget -O GoogleNews-vectors-negative300.bin  'https://www.dropbox.com/s/mlg71vsawice3xd/GoogleNews-vectors-negative300.bin?dl=1'\n",
        "%cd ./civil_comments\n",
        "!wget -O civil_comments.csv 'https://www.dropbox.com/s/xv8zkmcmg74n0ak/civil_comments.csv?dl=1'\n",
        "%cd ..\n",
        "%cd .."
      ]
    },
    {
      "cell_type": "code",
      "source": [
        "!pip install --upgrade gensim"
      ],
      "metadata": {
        "id": "mYANkG8EaSuL"
      },
      "execution_count": null,
      "outputs": []
    },
    {
      "cell_type": "code",
      "execution_count": 4,
      "metadata": {
        "id": "YJeUXNp1Xs4w"
      },
      "outputs": [],
      "source": [
        "from google.colab import files"
      ]
    },
    {
      "cell_type": "markdown",
      "metadata": {
        "id": "CTvBVKALXs4w"
      },
      "source": [
        "# Random Split 1"
      ]
    },
    {
      "cell_type": "code",
      "execution_count": 5,
      "metadata": {
        "id": "jC_KDgk4Xs4w",
        "outputId": "7fee5158-b005-44c7-b0c2-5cc91751e7cd",
        "colab": {
          "base_uri": "https://localhost:8080/"
        }
      },
      "outputs": [
        {
          "output_type": "stream",
          "name": "stdout",
          "text": [
            "/content/NLP_CTF/scripts\n",
            "100% 1010/1010 [00:00<00:00, 100551.79it/s]\n",
            "100% 914/914 [00:00<00:00, 12091.49it/s]\n",
            "100% 2714/2714 [00:00<00:00, 4694.20it/s]\n",
            "100% 89483/89483 [00:14<00:00, 6074.42it/s]\n",
            "100% 89483/89483 [00:14<00:00, 6058.75it/s]\n",
            "/content/NLP_CTF\n"
          ]
        }
      ],
      "source": [
        "%cd scripts\n",
        "!python convert_csv.py\n",
        "%cd .."
      ]
    },
    {
      "cell_type": "code",
      "execution_count": 6,
      "metadata": {
        "id": "BtBvRSTTXs4x",
        "outputId": "fb265de3-552b-4853-dac0-33308aa66764",
        "colab": {
          "base_uri": "https://localhost:8080/",
          "height": 849
        }
      },
      "outputs": [
        {
          "output_type": "stream",
          "name": "stdout",
          "text": [
            "loading word embeddings\n",
            "tcmalloc: large alloc 3600007168 bytes == 0x79d4000 @  0x7fb8ceb33001 0x7fb85e3a81af 0x7fb85e3fec23 0x7fb85e3ffa87 0x7fb85e4a1823 0x58f62c 0x510bf2 0x5b575e 0x58ff2e 0x50d482 0x5b4ee6 0x58ff2e 0x50d482 0x5b4ee6 0x58ff2e 0x50d482 0x5b4ee6 0x6005a3 0x607796 0x60785c 0x60a436 0x64db82 0x64dd2e 0x7fb8ce72ec87 0x5b636a\n",
            "done\n",
            "loading datasets\n",
            "100% 159571/159571 [00:13<00:00, 12061.67it/s]\n",
            "100% 63978/63978 [00:05<00:00, 12782.94it/s]\n",
            "100% 133782/133782 [00:10<00:00, 12850.55it/s]\n",
            "100% 3628/3628 [00:00<00:00, 70971.86it/s]\n",
            "100% 1010/1010 [00:00<00:00, 4395.77it/s]\n",
            "100% 2714/2714 [00:01<00:00, 1834.36it/s]\n",
            "100% 32455/32455 [00:20<00:00, 1611.42it/s]\n",
            "tcmalloc: large alloc 2726223872 bytes == 0x7fb6b7812000 @  0x7fb8ceb13b6b 0x7fb8ceb33379 0x7fb85f090d57 0x7fb85f07ebc3 0x7fb888f896af 0x7fb888f8a020 0x7fb888f8a074 0x7fb88949bdef 0x7fb889d0db8b 0x7fb889a591d3 0x7fb889ce8b8f 0x7fb889a96bf7 0x7fb8b0fec860 0x7fb8b1228447 0x7fb8b122e074 0x7fb8b0eda77f 0x58f795 0x510bf2 0x5b4ee6 0x58ff2e 0x50d482 0x5b4ee6 0x6005a3 0x607796 0x60785c 0x60a436 0x64db82 0x64dd2e 0x7fb8ce72ec87 0x5b636a\n",
            "100% 31926/31926 [00:18<00:00, 1741.83it/s]\n",
            "tcmalloc: large alloc 2681790464 bytes == 0x7fb6b7812000 @  0x7fb8ceb13b6b 0x7fb8ceb33379 0x7fb85f090d57 0x7fb85f07ebc3 0x7fb888f896af 0x7fb888f8a020 0x7fb888f8a074 0x7fb88949bdef 0x7fb889d0db8b 0x7fb889a591d3 0x7fb889ce8b8f 0x7fb889a96bf7 0x7fb8b0fec860 0x7fb8b1228447 0x7fb8b122e074 0x7fb8b0eda77f 0x58f795 0x510bf2 0x5b4ee6 0x58ff2e 0x50d482 0x5b4ee6 0x6005a3 0x607796 0x60785c 0x60a436 0x64db82 0x64dd2e 0x7fb8ce72ec87 0x5b636a\n",
            "done\n",
            "====================Trial 1/3=====================\n",
            "initializing model\n",
            "done\n",
            "Epoch 1/5\n",
            "100% 2494/2494 [00:45<00:00, 54.44it/s]\n",
            "Average training loss: 0.3216845360468795\n",
            "Epoch 2/5\n",
            " 33% 830/2494 [00:13<00:27, 61.12it/s]\n",
            "Traceback (most recent call last):\n",
            "  File \"run.py\", line 92, in <module>\n",
            "    train(train_loader, model, loss_fn, optimizer, verbose=args.verbose)\n",
            "  File \"/content/NLP_CTF/train_eval.py\", line 31, in train\n",
            "    avg_loss += loss.item()\n",
            "KeyboardInterrupt\n"
          ]
        },
        {
          "output_type": "error",
          "ename": "FileNotFoundError",
          "evalue": "ignored",
          "traceback": [
            "\u001b[0;31m---------------------------------------------------------------------------\u001b[0m",
            "\u001b[0;31mFileNotFoundError\u001b[0m                         Traceback (most recent call last)",
            "\u001b[0;32m<ipython-input-6-63267af5dde7>\u001b[0m in \u001b[0;36m<module>\u001b[0;34m\u001b[0m\n\u001b[1;32m      1\u001b[0m \u001b[0mget_ipython\u001b[0m\u001b[0;34m(\u001b[0m\u001b[0;34m)\u001b[0m\u001b[0;34m.\u001b[0m\u001b[0msystem\u001b[0m\u001b[0;34m(\u001b[0m\u001b[0;34m'python run.py baseline -v -t 3 -n baseline_experiment_1'\u001b[0m\u001b[0;34m)\u001b[0m\u001b[0;34m\u001b[0m\u001b[0;34m\u001b[0m\u001b[0m\n\u001b[0;32m----> 2\u001b[0;31m \u001b[0mfiles\u001b[0m\u001b[0;34m.\u001b[0m\u001b[0mdownload\u001b[0m\u001b[0;34m(\u001b[0m\u001b[0;34m'baseline_experiment_1.csv'\u001b[0m\u001b[0;34m)\u001b[0m \u001b[0;31m# Baseline\u001b[0m\u001b[0;34m\u001b[0m\u001b[0;34m\u001b[0m\u001b[0m\n\u001b[0m",
            "\u001b[0;32m/usr/local/lib/python3.7/dist-packages/google/colab/files.py\u001b[0m in \u001b[0;36mdownload\u001b[0;34m(filename)\u001b[0m\n\u001b[1;32m    207\u001b[0m   \u001b[0;32mif\u001b[0m \u001b[0;32mnot\u001b[0m \u001b[0m_os\u001b[0m\u001b[0;34m.\u001b[0m\u001b[0mpath\u001b[0m\u001b[0;34m.\u001b[0m\u001b[0mexists\u001b[0m\u001b[0;34m(\u001b[0m\u001b[0mfilename\u001b[0m\u001b[0;34m)\u001b[0m\u001b[0;34m:\u001b[0m\u001b[0;34m\u001b[0m\u001b[0;34m\u001b[0m\u001b[0m\n\u001b[1;32m    208\u001b[0m     \u001b[0mmsg\u001b[0m \u001b[0;34m=\u001b[0m \u001b[0;34m'Cannot find file: {}'\u001b[0m\u001b[0;34m.\u001b[0m\u001b[0mformat\u001b[0m\u001b[0;34m(\u001b[0m\u001b[0mfilename\u001b[0m\u001b[0;34m)\u001b[0m\u001b[0;34m\u001b[0m\u001b[0;34m\u001b[0m\u001b[0m\n\u001b[0;32m--> 209\u001b[0;31m     \u001b[0;32mraise\u001b[0m \u001b[0mFileNotFoundError\u001b[0m\u001b[0;34m(\u001b[0m\u001b[0mmsg\u001b[0m\u001b[0;34m)\u001b[0m  \u001b[0;31m# pylint: disable=undefined-variable\u001b[0m\u001b[0;34m\u001b[0m\u001b[0;34m\u001b[0m\u001b[0m\n\u001b[0m\u001b[1;32m    210\u001b[0m \u001b[0;34m\u001b[0m\u001b[0m\n\u001b[1;32m    211\u001b[0m   \u001b[0mcomm_manager\u001b[0m \u001b[0;34m=\u001b[0m \u001b[0m_IPython\u001b[0m\u001b[0;34m.\u001b[0m\u001b[0mget_ipython\u001b[0m\u001b[0;34m(\u001b[0m\u001b[0;34m)\u001b[0m\u001b[0;34m.\u001b[0m\u001b[0mkernel\u001b[0m\u001b[0;34m.\u001b[0m\u001b[0mcomm_manager\u001b[0m\u001b[0;34m\u001b[0m\u001b[0;34m\u001b[0m\u001b[0m\n",
            "\u001b[0;31mFileNotFoundError\u001b[0m: Cannot find file: baseline_experiment_1.csv"
          ]
        }
      ],
      "source": [
        "!python run.py baseline -v -t 3 -n baseline_experiment_1\n",
        "files.download('baseline_experiment_1.csv') # Baseline"
      ]
    },
    {
      "cell_type": "code",
      "execution_count": null,
      "metadata": {
        "id": "Uy6lkWBZXs4x"
      },
      "outputs": [],
      "source": [
        "!python run.py blind -v -t 3 -n blind_experiment_1\n",
        "files.download('blind_experiment_1.csv') # Blind"
      ]
    },
    {
      "cell_type": "code",
      "execution_count": null,
      "metadata": {
        "id": "gnY5zX8tXs4x"
      },
      "outputs": [],
      "source": [
        "!python run.py augment -v -t 3 -n augment_experiment_1\n",
        "files.download('augment_experiment_1.csv') # Augment"
      ]
    },
    {
      "cell_type": "code",
      "execution_count": null,
      "metadata": {
        "id": "6Wi7SrAeXs4y"
      },
      "outputs": [],
      "source": [
        "!python run.py CLP -v -l 0.05 -t 3 -n CLP005_experiment_1\n",
        "files.download('CLP005_experiment_1.csv') # CLP lambda = 0.05"
      ]
    },
    {
      "cell_type": "markdown",
      "metadata": {
        "id": "S0PzCc2SXs4y"
      },
      "source": [
        "# Random Split 2"
      ]
    },
    {
      "cell_type": "code",
      "execution_count": null,
      "metadata": {
        "id": "vosJGY5MXs4y"
      },
      "outputs": [],
      "source": [
        "%cd scripts\n",
        "!python convert_csv.py\n",
        "!cp ../data/random_split_data/test_identities.txt ../data/random_split_data/test_identities_2.txt\n",
        "files.download('../data/random_split_data/test_identities_2.txt')\n",
        "%cd .."
      ]
    },
    {
      "cell_type": "code",
      "execution_count": null,
      "metadata": {
        "id": "Qppsq-yoXs4y"
      },
      "outputs": [],
      "source": [
        "!python run.py baseline -v -t 3 -n baseline_experiment_2\n",
        "files.download('baseline_experiment_2.csv') # Baseline"
      ]
    },
    {
      "cell_type": "code",
      "execution_count": null,
      "metadata": {
        "id": "H8BddrxfXs4y"
      },
      "outputs": [],
      "source": [
        "!python run.py blind -v -t 3 -n blind_experiment_2\n",
        "files.download('blind_experiment_2.csv') # Blind"
      ]
    },
    {
      "cell_type": "code",
      "execution_count": null,
      "metadata": {
        "id": "21oQU2ZRXs4y"
      },
      "outputs": [],
      "source": [
        "!python run.py augment -v -t 3 -n augment_experiment_2\n",
        "files.download('augment_experiment_2.csv') # Augment"
      ]
    },
    {
      "cell_type": "code",
      "execution_count": null,
      "metadata": {
        "id": "cQDK1eP7Xs4z"
      },
      "outputs": [],
      "source": [
        "!python run.py CLP -v -l 0.05 -t 3 -n CLP005_experiment_2\n",
        "files.download('CLP005_experiment_2.csv') # CLP lambda = 0.05"
      ]
    },
    {
      "cell_type": "markdown",
      "metadata": {
        "id": "xVkXmuUgXs4z"
      },
      "source": [
        "# Random Split 3"
      ]
    },
    {
      "cell_type": "code",
      "execution_count": null,
      "metadata": {
        "id": "cfMN5xzRXs4z"
      },
      "outputs": [],
      "source": [
        "%cd scripts\n",
        "!python convert_csv.py\n",
        "!cp ../data/random_split_data/test_identities.txt ../data/random_split_data/test_identities_3.txt\n",
        "files.download('../data/random_split_data/test_identities_3.txt')\n",
        "%cd .."
      ]
    },
    {
      "cell_type": "code",
      "execution_count": null,
      "metadata": {
        "id": "BF6kAtsHXs4z"
      },
      "outputs": [],
      "source": [
        "!python run.py baseline -v -t 3 -n baseline_experiment_3\n",
        "files.download('baseline_experiment_3.csv') # Baseline"
      ]
    },
    {
      "cell_type": "code",
      "execution_count": null,
      "metadata": {
        "id": "eq-rmJeTXs4z"
      },
      "outputs": [],
      "source": [
        "!python run.py blind -v -t 3 -n blind_experiment_3\n",
        "files.download('blind_experiment_3.csv') # Blind"
      ]
    },
    {
      "cell_type": "code",
      "execution_count": null,
      "metadata": {
        "id": "01Xzq_JbXs4z"
      },
      "outputs": [],
      "source": [
        "!python run.py augment -v -t 3 -n augment_experiment_3\n",
        "files.download('augment_experiment_3.csv') # Augment"
      ]
    },
    {
      "cell_type": "code",
      "execution_count": null,
      "metadata": {
        "id": "vfRlJZ0sXs4z"
      },
      "outputs": [],
      "source": [
        "!python run.py CLP -v -l 0.05 -t 3 -n CLP005_experiment_3\n",
        "files.download('CLP005_experiment_3.csv') # CLP lambda = 0.05"
      ]
    }
  ],
  "metadata": {
    "kernelspec": {
      "display_name": "Python 3.10.4 ('DL')",
      "language": "python",
      "name": "python3"
    },
    "language_info": {
      "name": "python",
      "version": "3.10.4"
    },
    "orig_nbformat": 4,
    "vscode": {
      "interpreter": {
        "hash": "3b5da4dccc5d959110f70bd428b51197bb0688003461a0e87be372a9c01e32ac"
      }
    },
    "colab": {
      "provenance": [],
      "machine_shape": "hm"
    },
    "accelerator": "GPU",
    "gpuClass": "standard"
  },
  "nbformat": 4,
  "nbformat_minor": 0
}