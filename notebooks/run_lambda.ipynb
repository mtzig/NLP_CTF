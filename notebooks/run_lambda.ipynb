{
  "cells": [
    {
      "cell_type": "markdown",
      "metadata": {
        "id": "view-in-github",
        "colab_type": "text"
      },
      "source": [
        "<a href=\"https://colab.research.google.com/github/mtzig/NLP_CTF/blob/main/notebooks/run_lambda.ipynb\" target=\"_parent\"><img src=\"https://colab.research.google.com/assets/colab-badge.svg\" alt=\"Open In Colab\"/></a>"
      ]
    },
    {
      "cell_type": "markdown",
      "id": "ba293801",
      "metadata": {
        "id": "ba293801"
      },
      "source": [
        "# Setup Environment\n",
        "\n",
        "This notebook is meant to be run in colab"
      ]
    },
    {
      "cell_type": "code",
      "execution_count": 1,
      "id": "41bcc65b",
      "metadata": {
        "id": "41bcc65b"
      },
      "outputs": [],
      "source": [
        "%load_ext autoreload\n",
        "%autoreload 2"
      ]
    },
    {
      "cell_type": "code",
      "execution_count": 2,
      "id": "6bbb4866",
      "metadata": {
        "colab": {
          "base_uri": "https://localhost:8080/"
        },
        "id": "6bbb4866",
        "outputId": "bc065e39-c7fe-4455-93ab-437f8f145fa7"
      },
      "outputs": [
        {
          "output_type": "stream",
          "name": "stdout",
          "text": [
            "Cloning into 'NLP_CTF'...\n",
            "remote: Enumerating objects: 716, done.\u001b[K\n",
            "remote: Counting objects: 100% (156/156), done.\u001b[K\n",
            "remote: Compressing objects: 100% (111/111), done.\u001b[K\n",
            "remote: Total 716 (delta 84), reused 96 (delta 37), pack-reused 560\u001b[K\n",
            "Receiving objects: 100% (716/716), 99.26 MiB | 26.13 MiB/s, done.\n",
            "Resolving deltas: 100% (430/430), done.\n",
            "Checking out files: 100% (68/68), done.\n",
            "/content/NLP_CTF\n"
          ]
        }
      ],
      "source": [
        "!git clone https://github.com/mtzig/NLP_CTF.git\n",
        "%cd /content/NLP_CTF/"
      ]
    },
    {
      "cell_type": "code",
      "execution_count": 3,
      "id": "09725e40",
      "metadata": {
        "id": "09725e40"
      },
      "outputs": [],
      "source": [
        "# !git pull"
      ]
    },
    {
      "cell_type": "markdown",
      "id": "c4e205cb",
      "metadata": {
        "id": "c4e205cb"
      },
      "source": [
        "Manually download files too large to host on github"
      ]
    },
    {
      "cell_type": "code",
      "execution_count": 4,
      "id": "39b4b462",
      "metadata": {
        "colab": {
          "base_uri": "https://localhost:8080/"
        },
        "id": "39b4b462",
        "outputId": "359093d6-ad58-42af-de35-0706fb94cc7a"
      },
      "outputs": [
        {
          "output_type": "stream",
          "name": "stdout",
          "text": [
            "/content/NLP_CTF/data\n",
            "--2022-10-31 04:51:28--  https://docs.google.com/uc?export=download&confirm=t&id=1JXm1N6SHmzIawgH7Aa4Ag-ZVuqLX7ba7\n",
            "Resolving docs.google.com (docs.google.com)... 209.85.145.102, 209.85.145.138, 209.85.145.113, ...\n",
            "Connecting to docs.google.com (docs.google.com)|209.85.145.102|:443... connected.\n",
            "HTTP request sent, awaiting response... 303 See Other\n",
            "Location: https://doc-08-7o-docs.googleusercontent.com/docs/securesc/ha0ro937gcuc7l7deffksulhg5h7mbp1/f1a62c7lslqris8iv2c6d9ksve05h3s2/1667191875000/15857340408018396550/*/1JXm1N6SHmzIawgH7Aa4Ag-ZVuqLX7ba7?e=download&uuid=3bcd3ec2-dccf-4554-9db9-c9f800b2feb5 [following]\n",
            "Warning: wildcards not supported in HTTP.\n",
            "--2022-10-31 04:51:28--  https://doc-08-7o-docs.googleusercontent.com/docs/securesc/ha0ro937gcuc7l7deffksulhg5h7mbp1/f1a62c7lslqris8iv2c6d9ksve05h3s2/1667191875000/15857340408018396550/*/1JXm1N6SHmzIawgH7Aa4Ag-ZVuqLX7ba7?e=download&uuid=3bcd3ec2-dccf-4554-9db9-c9f800b2feb5\n",
            "Resolving doc-08-7o-docs.googleusercontent.com (doc-08-7o-docs.googleusercontent.com)... 108.177.121.132, 2607:f8b0:4001:c19::84\n",
            "Connecting to doc-08-7o-docs.googleusercontent.com (doc-08-7o-docs.googleusercontent.com)|108.177.121.132|:443... connected.\n",
            "HTTP request sent, awaiting response... 200 OK\n",
            "Length: 3644258522 (3.4G) [application/macbinary]\n",
            "Saving to: ‘GoogleNews-vectors-negative300.bin’\n",
            "\n",
            "GoogleNews-vectors- 100%[===================>]   3.39G   103MB/s    in 37s     \n",
            "\n",
            "2022-10-31 04:52:05 (94.9 MB/s) - ‘GoogleNews-vectors-negative300.bin’ saved [3644258522/3644258522]\n",
            "\n",
            "/content/NLP_CTF/data/civil_comments\n",
            "--2022-10-31 04:52:05--  http://wget/\n",
            "Resolving wget (wget)... failed: Name or service not known.\n",
            "wget: unable to resolve host address ‘wget’\n",
            "--2022-10-31 04:52:05--  https://docs.google.com/uc?export=download&confirm=t&id=1pVM0PGHDXrhE4dqQf-offz_Xv8SoPx0X\n",
            "Resolving docs.google.com (docs.google.com)... 209.85.145.100, 209.85.145.138, 209.85.145.139, ...\n",
            "Connecting to docs.google.com (docs.google.com)|209.85.145.100|:443... connected.\n",
            "HTTP request sent, awaiting response... 303 See Other\n",
            "Location: https://doc-08-7o-docs.googleusercontent.com/docs/securesc/ha0ro937gcuc7l7deffksulhg5h7mbp1/fht5f830ne3j58l2uug15pk7841lg5je/1667191875000/15857340408018396550/*/1pVM0PGHDXrhE4dqQf-offz_Xv8SoPx0X?e=download&uuid=3dff3c74-f01d-4db1-a585-edb492e47e98 [following]\n",
            "Warning: wildcards not supported in HTTP.\n",
            "--2022-10-31 04:52:05--  https://doc-08-7o-docs.googleusercontent.com/docs/securesc/ha0ro937gcuc7l7deffksulhg5h7mbp1/fht5f830ne3j58l2uug15pk7841lg5je/1667191875000/15857340408018396550/*/1pVM0PGHDXrhE4dqQf-offz_Xv8SoPx0X?e=download&uuid=3dff3c74-f01d-4db1-a585-edb492e47e98\n",
            "Resolving doc-08-7o-docs.googleusercontent.com (doc-08-7o-docs.googleusercontent.com)... 108.177.121.132, 2607:f8b0:4001:c19::84\n",
            "Connecting to doc-08-7o-docs.googleusercontent.com (doc-08-7o-docs.googleusercontent.com)|108.177.121.132|:443... connected.\n",
            "HTTP request sent, awaiting response... 200 OK\n",
            "Length: 272774548 (260M) [text/csv]\n",
            "Saving to: ‘civil_comments.csv’\n",
            "\n",
            "civil_comments.csv  100%[===================>] 260.14M   184MB/s    in 1.4s    \n",
            "\n",
            "2022-10-31 04:52:07 (184 MB/s) - ‘civil_comments.csv’ saved [272774548/272774548]\n",
            "\n",
            "FINISHED --2022-10-31 04:52:07--\n",
            "Total wall clock time: 1.8s\n",
            "Downloaded: 1 files, 260M in 1.4s (184 MB/s)\n",
            "/content/NLP_CTF/data\n",
            "/content/NLP_CTF\n"
          ]
        }
      ],
      "source": [
        "%cd /content/NLP_CTF/data\n",
        "!wget --load-cookies /tmp/cookies.txt \"https://docs.google.com/uc?export=download&confirm=$(wget --quiet --save-cookies /tmp/cookies.txt --keep-session-cookies --no-check-certificate 'https://docs.google.com/uc?export=download&id=1JXm1N6SHmzIawgH7Aa4Ag-ZVuqLX7ba7' -O- | sed -rn 's/.*confirm=([0-9A-Za-z_]+).*/\\1\\n/p')&id=1JXm1N6SHmzIawgH7Aa4Ag-ZVuqLX7ba7\" -O GoogleNews-vectors-negative300.bin && rm -rf /tmp/cookies.txt\n",
        "%cd ./civil_comments\n",
        "!wget wget --load-cookies /tmp/cookies.txt \"https://docs.google.com/uc?export=download&confirm=$(wget --quiet --save-cookies /tmp/cookies.txt --keep-session-cookies --no-check-certificate 'https://docs.google.com/uc?export=download&id=1pVM0PGHDXrhE4dqQf-offz_Xv8SoPx0X' -O- | sed -rn 's/.*confirm=([0-9A-Za-z_]+).*/\\1\\n/p')&id=1pVM0PGHDXrhE4dqQf-offz_Xv8SoPx0X\" -O civil_comments.csv && rm -rf /tmp/cookies.txt\n",
        "%cd ..\n",
        "%cd .."
      ]
    },
    {
      "cell_type": "code",
      "execution_count": 5,
      "id": "d9a12521",
      "metadata": {
        "colab": {
          "base_uri": "https://localhost:8080/"
        },
        "id": "d9a12521",
        "outputId": "a599edc7-86e3-4321-e978-6dec55e4ff16"
      },
      "outputs": [
        {
          "output_type": "stream",
          "name": "stdout",
          "text": [
            "Looking in indexes: https://pypi.org/simple, https://us-python.pkg.dev/colab-wheels/public/simple/\n",
            "Requirement already satisfied: gensim in /usr/local/lib/python3.7/dist-packages (3.6.0)\n",
            "Collecting gensim\n",
            "  Downloading gensim-4.2.0-cp37-cp37m-manylinux_2_12_x86_64.manylinux2010_x86_64.whl (24.1 MB)\n",
            "\u001b[K     |████████████████████████████████| 24.1 MB 64 kB/s \n",
            "\u001b[?25hRequirement already satisfied: numpy>=1.17.0 in /usr/local/lib/python3.7/dist-packages (from gensim) (1.21.6)\n",
            "Requirement already satisfied: smart-open>=1.8.1 in /usr/local/lib/python3.7/dist-packages (from gensim) (5.2.1)\n",
            "Requirement already satisfied: scipy>=0.18.1 in /usr/local/lib/python3.7/dist-packages (from gensim) (1.7.3)\n",
            "Installing collected packages: gensim\n",
            "  Attempting uninstall: gensim\n",
            "    Found existing installation: gensim 3.6.0\n",
            "    Uninstalling gensim-3.6.0:\n",
            "      Successfully uninstalled gensim-3.6.0\n",
            "Successfully installed gensim-4.2.0\n"
          ]
        }
      ],
      "source": [
        "!pip install --upgrade gensim\n"
      ]
    },
    {
      "cell_type": "code",
      "execution_count": 6,
      "id": "f986a184",
      "metadata": {
        "id": "f986a184"
      },
      "outputs": [],
      "source": [
        "from google.colab import files"
      ]
    },
    {
      "cell_type": "markdown",
      "id": "fc613f1d",
      "metadata": {
        "id": "fc613f1d"
      },
      "source": [
        "# Run experiment"
      ]
    },
    {
      "cell_type": "markdown",
      "id": "e40b8e73",
      "metadata": {
        "id": "e40b8e73"
      },
      "source": [
        "Below is usage statement of our `run.py`"
      ]
    },
    {
      "cell_type": "code",
      "execution_count": null,
      "id": "ec93635a",
      "metadata": {
        "colab": {
          "base_uri": "https://localhost:8080/"
        },
        "id": "ec93635a",
        "outputId": "ddf0d37d-fa12-46e4-835e-c3491ac202ad"
      },
      "outputs": [
        {
          "name": "stdout",
          "output_type": "stream",
          "text": [
            "usage: run.py [-h] [--lambda_clp LAMBDA_CLP] [--nontoxic] [--verbose]\n",
            "              [--trials TRIALS] [--epochs EPOCHS] [--test_name TEST_NAME]\n",
            "              [--device DEVICE]\n",
            "              train_method\n",
            "\n",
            "positional arguments:\n",
            "  train_method          method to train model i.e. baseline, blind, augment,\n",
            "                        CLP\n",
            "\n",
            "optional arguments:\n",
            "  -h, --help            show this help message and exit\n",
            "  --lambda_clp LAMBDA_CLP, -l LAMBDA_CLP\n",
            "                        the lambda value, only applicable if CLP is used,\n",
            "                        defaults to 0.05\n",
            "  --nontoxic, -x        only uses nontoxic comments, only applicable if CLP is\n",
            "                        used\n",
            "  --verbose, -v         Print results\n",
            "  --trials TRIALS, -t TRIALS\n",
            "                        The number of trials to run, defaults to 10\n",
            "  --epochs EPOCHS, -e EPOCHS\n",
            "                        The number of epochs to train model, defaults to 5\n",
            "  --test_name TEST_NAME, -n TEST_NAME\n",
            "                        The name of the test to run (defaults to \"test\"), the\n",
            "                        output files will be saved in the directory\n",
            "                        ./[name].csv\n",
            "  --device DEVICE, -d DEVICE\n",
            "                        The device Pytorch should use cuda, mps or cpu\n"
          ]
        }
      ],
      "source": [
        "!python run.py -h"
      ]
    },
    {
      "cell_type": "markdown",
      "id": "57fb0129",
      "metadata": {
        "id": "57fb0129"
      },
      "source": [
        "# Below will run all experiments we need"
      ]
    },
    {
      "cell_type": "code",
      "execution_count": null,
      "id": "4f8ac8a0",
      "metadata": {
        "id": "4f8ac8a0"
      },
      "outputs": [],
      "source": [
        "!python run.py CLP -v -l 10 -n CLP10_experiment\n",
        "files.download('CLP10_experiment.csv') # CLP lambda = 10"
      ]
    },
    {
      "cell_type": "code",
      "execution_count": null,
      "id": "de362452",
      "metadata": {
        "id": "de362452"
      },
      "outputs": [],
      "source": [
        "!python run.py CLP -v -l 20 -n CLP20_experiment\n",
        "files.download('CLP20_experiment.csv') # CLP lambda = 20"
      ]
    },
    {
      "cell_type": "code",
      "execution_count": null,
      "id": "3b9c2ae6",
      "metadata": {
        "id": "3b9c2ae6"
      },
      "outputs": [],
      "source": [
        "!python run.py CLP -v -l 50 -n CLP50_experiment\n",
        "files.download('CLP50_experiment.csv') # CLP lambda = 50"
      ]
    }
  ],
  "metadata": {
    "kernelspec": {
      "display_name": "Python 3",
      "language": "python",
      "name": "python3"
    },
    "language_info": {
      "codemirror_mode": {
        "name": "ipython",
        "version": 3
      },
      "file_extension": ".py",
      "mimetype": "text/x-python",
      "name": "python",
      "nbconvert_exporter": "python",
      "pygments_lexer": "ipython3",
      "version": "3.8.8"
    },
    "colab": {
      "provenance": [],
      "include_colab_link": true
    },
    "accelerator": "GPU",
    "gpuClass": "premium"
  },
  "nbformat": 4,
  "nbformat_minor": 5
}