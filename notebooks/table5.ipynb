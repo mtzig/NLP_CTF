{
  "cells": [
    {
      "cell_type": "markdown",
      "metadata": {
        "colab_type": "text",
        "id": "view-in-github"
      },
      "source": [
        "<a href=\"https://colab.research.google.com/github/mtzig/NLP_CTF/blob/main/notebooks/table5.ipynb\" target=\"_parent\"><img src=\"https://colab.research.google.com/assets/colab-badge.svg\" alt=\"Open In Colab\"/></a>"
      ]
    },
    {
      "cell_type": "markdown",
      "metadata": {
        "id": "WzmaBbCnHBQH"
      },
      "source": [
        "### Table 5 generator\n",
        "\n",
        "Creates the data for table 5 in the appendix. Based off code in baseline.ipynb\n"
      ]
    },
    {
      "cell_type": "markdown",
      "metadata": {
        "id": "q44vg2-JHBQL"
      },
      "source": [
        "## Colab setup\n",
        "\n",
        "This section is only pertinent if the notebook is run in Colab and not on a local machine. If you're using colab, make sure to run below code to clone the repo"
      ]
    },
    {
      "cell_type": "code",
      "execution_count": 18,
      "metadata": {
        "colab": {
          "base_uri": "https://localhost:8080/"
        },
        "id": "9xMIur5tHBQL",
        "outputId": "d9f8191d-92df-4f6b-e6ce-48af2d703e48"
      },
      "outputs": [
        {
          "name": "stdout",
          "output_type": "stream",
          "text": [
            "Cloning into 'NLP_CTF'...\n",
            "remote: Enumerating objects: 698, done.\u001b[K\n",
            "remote: Counting objects: 100% (138/138), done.\u001b[K\n",
            "remote: Compressing objects: 100% (99/99), done.\u001b[K\n",
            "remote: Total 698 (delta 70), reused 87 (delta 31), pack-reused 560\u001b[K\n",
            "Receiving objects: 100% (698/698), 99.25 MiB | 7.17 MiB/s, done.\n",
            "Resolving deltas: 100% (416/416), done.\n",
            "Checking out files: 100% (66/66), done.\n",
            "/content/NLP_CTF\n"
          ]
        }
      ],
      "source": [
        "!git clone https://github.com/mtzig/NLP_CTF.git\n",
        "%cd /content/NLP_CTF/"
      ]
    },
    {
      "cell_type": "markdown",
      "metadata": {
        "id": "f7zpZoihHBQL"
      },
      "source": [
        "Download Word2Vec Embeddings"
      ]
    },
    {
      "cell_type": "code",
      "execution_count": null,
      "metadata": {
        "colab": {
          "base_uri": "https://localhost:8080/"
        },
        "id": "XpZymiPXHBQM",
        "outputId": "cdecdb14-4ee7-4a65-dfa8-85e7abbfabc5"
      },
      "outputs": [
        {
          "name": "stdout",
          "output_type": "stream",
          "text": [
            "/content/NLP_CTF/data\n",
            "--2022-10-30 22:58:00--  https://www.dropbox.com/s/mlg71vsawice3xd/GoogleNews-vectors-negative300.bin?dl=1\n",
            "Resolving www.dropbox.com (www.dropbox.com)... 162.125.81.18, 2620:100:6023:18::a27d:4312\n",
            "Connecting to www.dropbox.com (www.dropbox.com)|162.125.81.18|:443... connected.\n",
            "HTTP request sent, awaiting response... 302 Found\n",
            "Location: /s/dl/mlg71vsawice3xd/GoogleNews-vectors-negative300.bin [following]\n",
            "--2022-10-30 22:58:01--  https://www.dropbox.com/s/dl/mlg71vsawice3xd/GoogleNews-vectors-negative300.bin\n",
            "Reusing existing connection to www.dropbox.com:443.\n",
            "HTTP request sent, awaiting response... 302 Found\n",
            "Location: https://uc7db1f3056c1239cff0ba03a45b.dl.dropboxusercontent.com/cd/0/get/Bv2_Q0Dz3XlzuGxuIBpfPCrkWiO0fKOy7xfY-y1Cj2ZFWklGgUYKDYtqApAqCCzBsMKOrh_EXO-iBanud288VRrEjd2NHFhAFe-oUNoFTICqMYg1dsI9R_B04u_GcfGwqm6P9fv8o9g-0_0pkeheBDyI6W5ryOSXPGwAOaBHkpM_ZEGMhiAZGhn2EO-Fj6Q9ILM/file?dl=1# [following]\n",
            "--2022-10-30 22:58:01--  https://uc7db1f3056c1239cff0ba03a45b.dl.dropboxusercontent.com/cd/0/get/Bv2_Q0Dz3XlzuGxuIBpfPCrkWiO0fKOy7xfY-y1Cj2ZFWklGgUYKDYtqApAqCCzBsMKOrh_EXO-iBanud288VRrEjd2NHFhAFe-oUNoFTICqMYg1dsI9R_B04u_GcfGwqm6P9fv8o9g-0_0pkeheBDyI6W5ryOSXPGwAOaBHkpM_ZEGMhiAZGhn2EO-Fj6Q9ILM/file?dl=1\n",
            "Resolving uc7db1f3056c1239cff0ba03a45b.dl.dropboxusercontent.com (uc7db1f3056c1239cff0ba03a45b.dl.dropboxusercontent.com)... 162.125.81.15, 2620:100:6031:15::a27d:510f\n",
            "Connecting to uc7db1f3056c1239cff0ba03a45b.dl.dropboxusercontent.com (uc7db1f3056c1239cff0ba03a45b.dl.dropboxusercontent.com)|162.125.81.15|:443... connected.\n",
            "HTTP request sent, awaiting response... 200 OK\n",
            "Length: 3644258522 (3.4G) [application/binary]\n",
            "Saving to: ‘GoogleNews-vectors-negative300.bin’\n",
            "\n",
            "gative300.bin        16%[==>                 ] 577.37M  9.73MB/s    eta 4m 40s "
          ]
        }
      ],
      "source": [
        "%cd /content/NLP_CTF/data\n",
        "!wget -O GoogleNews-vectors-negative300.bin  'https://www.dropbox.com/s/mlg71vsawice3xd/GoogleNews-vectors-negative300.bin?dl=1'\n",
        "%cd ./civil_comments\n",
        "!wget -O civil_comments.csv 'https://www.dropbox.com/s/xv8zkmcmg74n0ak/civil_comments.csv?dl=1'\n",
        "%cd ..\n",
        "%cd .."
      ]
    },
    {
      "cell_type": "code",
      "execution_count": null,
      "metadata": {
        "id": "05UI1FfRHBQM"
      },
      "outputs": [],
      "source": [
        "!pip install --upgrade gensim"
      ]
    },
    {
      "cell_type": "markdown",
      "metadata": {
        "id": "9XiS-_mtHBQM"
      },
      "source": [
        "## Notebook Setup"
      ]
    },
    {
      "cell_type": "markdown",
      "metadata": {},
      "source": []
    },
    {
      "cell_type": "code",
      "execution_count": null,
      "metadata": {
        "id": "9fjohq-YHBQM"
      },
      "outputs": [],
      "source": [
        "%load_ext autoreload\n",
        "%autoreload 2"
      ]
    },
    {
      "cell_type": "code",
      "execution_count": null,
      "metadata": {
        "id": "5ts56xjKHBQM"
      },
      "outputs": [],
      "source": [
        "# %cd .."
      ]
    },
    {
      "cell_type": "code",
      "execution_count": null,
      "metadata": {
        "id": "ywgVBOfQHBQM"
      },
      "outputs": [],
      "source": [
        "import torch\n",
        "from process_data import get_jigsaw_datasets, init_embed_lookup, get_ctf_datasets, get_CivilComments_Datasets\n",
        "from models import CNNClassifier\n",
        "from train_eval import train, evaluate, CTF, get_pred\n",
        "from torch.utils.data import DataLoader\n",
        "from loss import CLP_loss, ERM_loss\n",
        "import pandas as pd\n",
        "from pathlib import Path\n"
      ]
    },
    {
      "cell_type": "code",
      "execution_count": null,
      "metadata": {
        "id": "FcM_GtQMHBQN"
      },
      "outputs": [],
      "source": [
        "if torch.cuda.is_available():\n",
        "    print('Using GPU')\n",
        "    DEVICE = torch.device('cuda')\n",
        "elif torch.backends.mps.is_available() and torch.backends.mps.is_built():\n",
        "    # macbooks can use metal if the right version of pytorch is installed\n",
        "    print('Using Metal')\n",
        "    DEVICE = torch.device('mps')\n",
        "else:\n",
        "    print('Using cpu')\n",
        "    DEVICE = torch.device('cpu')"
      ]
    },
    {
      "cell_type": "markdown",
      "metadata": {
        "id": "N5RC5i8LHBQN"
      },
      "source": [
        "## Data Initialization"
      ]
    },
    {
      "cell_type": "code",
      "execution_count": null,
      "metadata": {
        "id": "i7zF_i2MHBQN"
      },
      "outputs": [],
      "source": [
        "embed_lookup = init_embed_lookup()"
      ]
    },
    {
      "cell_type": "code",
      "execution_count": null,
      "metadata": {
        "id": "woQbKnFFHBQN"
      },
      "outputs": [],
      "source": [
        "train_data = get_jigsaw_datasets(device=DEVICE, data_type='baseline', embed_lookup=embed_lookup)"
      ]
    },
    {
      "cell_type": "code",
      "execution_count": null,
      "metadata": {
        "id": "1Le014QIHBQO"
      },
      "outputs": [],
      "source": [
        "train_loader =  torch.utils.data.DataLoader(train_data, batch_size=64)"
      ]
    },
    {
      "cell_type": "markdown",
      "metadata": {
        "id": "vzUXQL_YHBQO"
      },
      "source": [
        "## Model and Training Stuff Initialization"
      ]
    },
    {
      "cell_type": "code",
      "execution_count": null,
      "metadata": {
        "id": "D7fYiI0dHBQO"
      },
      "outputs": [],
      "source": [
        "pretrained_embed = torch.from_numpy(embed_lookup.vectors)"
      ]
    },
    {
      "cell_type": "code",
      "execution_count": null,
      "metadata": {
        "id": "ciz6UzUAHBQO"
      },
      "outputs": [],
      "source": [
        "model = CNNClassifier(pretrained_embed,device=DEVICE)"
      ]
    },
    {
      "cell_type": "markdown",
      "metadata": {
        "id": "Z6JEha7pHBQO"
      },
      "source": [
        "An epoch is the number of times you go through your datase during training. That is you have trained for 1 epoch when you have seen every sample in your training dataset once.<br>\n",
        "The loss function is the training objective we want our model to minimize.<br>\n",
        "The optimizer is used at every time step i.e. everyime we compute the loss and its gradient. It is used to update the model weights."
      ]
    },
    {
      "cell_type": "code",
      "execution_count": null,
      "metadata": {
        "id": "QeblFLruHBQO"
      },
      "outputs": [],
      "source": [
        "epochs = 5\n",
        "loss_fn = ERM_loss(torch.nn.CrossEntropyLoss())\n",
        "\n",
        "optimizer = torch.optim.AdamW(model.parameters())"
      ]
    },
    {
      "cell_type": "markdown",
      "metadata": {
        "id": "kzduaFMzHBQP"
      },
      "source": [
        "## Training and Evaulation Baseline"
      ]
    },
    {
      "cell_type": "markdown",
      "metadata": {
        "id": "clBsb-ABHBQP"
      },
      "source": [
        "For traing, we train for 10 epochs. <br>\n",
        "In general, you should (or more specifically are required to) train and evaluate using different datasets."
      ]
    },
    {
      "cell_type": "code",
      "execution_count": null,
      "metadata": {
        "id": "4rHNkwAmHBQP"
      },
      "outputs": [],
      "source": [
        "for epoch in range(epochs):\n",
        "    print(f'Epoch {epoch+1}/{epochs}')\n",
        "    train(train_loader, model, loss_fn, optimizer, verbose=True)"
      ]
    },
    {
      "cell_type": "code",
      "execution_count": null,
      "metadata": {
        "id": "V39ushy9HBQP"
      },
      "outputs": [],
      "source": [
        "get_pred('Some people are gay', model, embed_lookup=embed_lookup)\n",
        "get_pred('Some people are straight', model, embed_lookup=embed_lookup)\n",
        "get_pred('Some people are Jewish', model, embed_lookup=embed_lookup)\n",
        "get_pred('Some people are Muslim', model, embed_lookup=embed_lookup)\n",
        "get_pred('Some people are Christian', model, embed_lookup=embed_lookup)"
      ]
    },
    {
      "cell_type": "code",
      "execution_count": null,
      "metadata": {},
      "outputs": [],
      "source": [
        "baseline_data = []\n",
        "baseline_data.append(get_pred('Some people are gay', model, embed_lookup=embed_lookup)[1])\n",
        "baseline_data.append(get_pred('Some people are straight', model, embed_lookup=embed_lookup)[1])\n",
        "baseline_data.append(get_pred('Some people are Jewish', model, embed_lookup=embed_lookup)[1])\n",
        "baseline_data.append(get_pred('Some people are Muslim', model, embed_lookup=embed_lookup)[1])\n",
        "baseline_data.append(get_pred('Some people are Christian', model, embed_lookup=embed_lookup)[1])"
      ]
    },
    {
      "cell_type": "markdown",
      "metadata": {
        "id": "9lvUgFJ_HBQP"
      },
      "source": [
        "## setup train eval for blindness"
      ]
    },
    {
      "cell_type": "code",
      "execution_count": null,
      "metadata": {
        "id": "yegXyQuaHBQP"
      },
      "outputs": [],
      "source": [
        "train_data = get_jigsaw_datasets(device=DEVICE, data_type='blindness', embed_lookup=embed_lookup)\n",
        "train_loader =  torch.utils.data.DataLoader(train_data, batch_size=64)\n",
        "optimizer = torch.optim.AdamW(model.parameters())\n",
        "loss_fn = ERM_loss(torch.nn.CrossEntropyLoss())"
      ]
    },
    {
      "cell_type": "code",
      "execution_count": null,
      "metadata": {
        "id": "O9VdnoWeHBQQ"
      },
      "outputs": [],
      "source": [
        "for epoch in range(epochs):\n",
        "    print(f'Epoch {epoch+1}/{epochs}')\n",
        "    train(train_loader, model, loss_fn, optimizer, verbose=True)"
      ]
    },
    {
      "cell_type": "code",
      "execution_count": null,
      "metadata": {
        "id": "DwxtuI7SHBQQ"
      },
      "outputs": [],
      "source": [
        "get_pred('Some people are gay', model, embed_lookup=embed_lookup)\n",
        "get_pred('Some people are straight', model, embed_lookup=embed_lookup)\n",
        "get_pred('Some people are Jewish', model, embed_lookup=embed_lookup)\n",
        "get_pred('Some people are Muslim', model, embed_lookup=embed_lookup)\n",
        "get_pred('Some people are Christian', model, embed_lookup=embed_lookup)"
      ]
    },
    {
      "cell_type": "code",
      "execution_count": null,
      "metadata": {},
      "outputs": [],
      "source": [
        "blindness_data = []\n",
        "blindness_data.append(get_pred('Some people are gay', model, embed_lookup=embed_lookup)[1])\n",
        "blindness_data.append(get_pred('Some people are straight', model, embed_lookup=embed_lookup)[1])\n",
        "blindness_data.append(get_pred('Some people are Jewish', model, embed_lookup=embed_lookup)[1])\n",
        "blindness_data.append(get_pred('Some people are Muslim', model, embed_lookup=embed_lookup)[1])\n",
        "blindness_data.append(get_pred('Some people are Christian', model, embed_lookup=embed_lookup)[1])\n",
        "\n",
        "\n"
      ]
    },
    {
      "cell_type": "markdown",
      "metadata": {
        "id": "U2dKe0GeHBQQ"
      },
      "source": [
        "## Setup train eval for augment"
      ]
    },
    {
      "cell_type": "code",
      "execution_count": null,
      "metadata": {
        "id": "11LhsVc8HBQQ"
      },
      "outputs": [],
      "source": [
        "train_data = get_jigsaw_datasets(device=DEVICE, data_type='augment', embed_lookup=embed_lookup)\n",
        "train_loader =  torch.utils.data.DataLoader(train_data, batch_size=64)\n",
        "optimizer = torch.optim.AdamW(model.parameters())\n",
        "loss_fn = ERM_loss(torch.nn.CrossEntropyLoss())"
      ]
    },
    {
      "cell_type": "code",
      "execution_count": null,
      "metadata": {
        "id": "M2FQrrhNHBQQ"
      },
      "outputs": [],
      "source": [
        "for epoch in range(epochs):\n",
        "    print(f'Epoch {epoch+1}/{epochs}')\n",
        "    train(train_loader, model, loss_fn, optimizer, verbose=True)"
      ]
    },
    {
      "cell_type": "code",
      "execution_count": null,
      "metadata": {
        "id": "QNhyIwpxHBQR"
      },
      "outputs": [],
      "source": [
        "get_pred('Some people are gay', model, embed_lookup=embed_lookup)\n",
        "get_pred('Some people are straight', model, embed_lookup=embed_lookup)\n",
        "get_pred('Some people are Jewish', model, embed_lookup=embed_lookup)\n",
        "get_pred('Some people are Muslim', model, embed_lookup=embed_lookup)\n",
        "get_pred('Some people are Christian', model, embed_lookup=embed_lookup)"
      ]
    },
    {
      "cell_type": "code",
      "execution_count": null,
      "metadata": {},
      "outputs": [],
      "source": [
        "augment_data = []\n",
        "augment_data.append(get_pred('Some people are gay', model, embed_lookup=embed_lookup)[1])\n",
        "augment_data.append(get_pred('Some people are straight', model, embed_lookup=embed_lookup)[1])\n",
        "augment_data.append(get_pred('Some people are Jewish', model, embed_lookup=embed_lookup)[1])\n",
        "augment_data.append(get_pred('Some people are Muslim', model, embed_lookup=embed_lookup)[1])\n",
        "augment_data.append(get_pred('Some people are Christian', model, embed_lookup=embed_lookup)[1])"
      ]
    },
    {
      "cell_type": "markdown",
      "metadata": {
        "id": "FzxIxqaLHBQR"
      },
      "source": [
        "## Setup train eval for CTF"
      ]
    },
    {
      "cell_type": "code",
      "execution_count": null,
      "metadata": {
        "id": "WE8NPcVjHBQR"
      },
      "outputs": [],
      "source": [
        "train_data, A = get_jigsaw_datasets(device=DEVICE, data_type='CLP', embed_lookup=embed_lookup)\n",
        "train_loader =  torch.utils.data.DataLoader(train_data, batch_size=64)\n",
        "optimizer = torch.optim.AdamW(model.parameters())\n",
        "loss_fn = CLP_loss(torch.nn.CrossEntropyLoss(), A, lmbda=float(5))"
      ]
    },
    {
      "cell_type": "code",
      "execution_count": null,
      "metadata": {
        "id": "5KNeOFpAHBQR"
      },
      "outputs": [],
      "source": [
        "for epoch in range(epochs):\n",
        "    print(f'Epoch {epoch+1}/{epochs}')\n",
        "    train(train_loader, model, loss_fn, optimizer, verbose=True)"
      ]
    },
    {
      "cell_type": "code",
      "execution_count": null,
      "metadata": {
        "id": "ZHvOxr9iHBQR"
      },
      "outputs": [],
      "source": [
        "get_pred('Some people are gay', model, embed_lookup=embed_lookup)\n",
        "get_pred('Some people are straight', model, embed_lookup=embed_lookup)\n",
        "get_pred('Some people are Jewish', model, embed_lookup=embed_lookup)\n",
        "get_pred('Some people are Muslim', model, embed_lookup=embed_lookup)\n",
        "get_pred('Some people are Christian', model, embed_lookup=embed_lookup)"
      ]
    },
    {
      "cell_type": "code",
      "execution_count": null,
      "metadata": {},
      "outputs": [],
      "source": [
        "ctf_data = []\n",
        "ctf_data.append(get_pred('Some people are gay', model, embed_lookup=embed_lookup)[1])\n",
        "ctf_data.append(get_pred('Some people are straight', model, embed_lookup=embed_lookup)[1])\n",
        "ctf_data.append(get_pred('Some people are Jewish', model, embed_lookup=embed_lookup)[1])\n",
        "ctf_data.append(get_pred('Some people are Muslim', model, embed_lookup=embed_lookup)[1])\n",
        "ctf_data.append(get_pred('Some people are Christian', model, embed_lookup=embed_lookup)[1])"
      ]
    },
    {
      "cell_type": "markdown",
      "metadata": {},
      "source": [
        "## Create dataframe"
      ]
    },
    {
      "cell_type": "code",
      "execution_count": null,
      "metadata": {},
      "outputs": [],
      "source": [
        "lst = [baseline_data, blindness_data, augment_data, ctf_data]\n",
        "df = pd.DataFrame(lst, columns =['Some people are gay', 'Some people are straight', 'Some people are Jewish', 'Some people are Muslim', 'Some people are Christian']\n",
        "                  , index=['Baseline', 'Blindness', 'Augment', 'CLP lambda = 5'])\n",
        "df = df.T\n",
        "print(df)\n",
        "\n",
        "df.to_csv(Path(\"./data/table5.csv\"))"
      ]
    }
  ],
  "metadata": {
    "accelerator": "GPU",
    "colab": {
      "include_colab_link": true,
      "provenance": []
    },
    "gpuClass": "standard",
    "kernelspec": {
      "display_name": "Python 3.9.12 ('base')",
      "language": "python",
      "name": "python3"
    },
    "language_info": {
      "codemirror_mode": {
        "name": "ipython",
        "version": 3
      },
      "file_extension": ".py",
      "mimetype": "text/x-python",
      "name": "python",
      "nbconvert_exporter": "python",
      "pygments_lexer": "ipython3",
      "version": "3.9.12"
    },
    "orig_nbformat": 4,
    "vscode": {
      "interpreter": {
        "hash": "642a120c79627041cabaf7004696707442c14ddd51cc7fda1a5975e0f351036f"
      }
    }
  },
  "nbformat": 4,
  "nbformat_minor": 0
}
