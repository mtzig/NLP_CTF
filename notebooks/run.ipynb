{
  "cells": [
    {
      "cell_type": "markdown",
      "metadata": {
        "id": "view-in-github",
        "colab_type": "text"
      },
      "source": [
        "<a href=\"https://colab.research.google.com/github/mtzig/NLP_CTF/blob/main/notebooks/run.ipynb\" target=\"_parent\"><img src=\"https://colab.research.google.com/assets/colab-badge.svg\" alt=\"Open In Colab\"/></a>"
      ]
    },
    {
      "cell_type": "markdown",
      "metadata": {
        "id": "jL3cnoUDdxZ0"
      },
      "source": [
        "# Setup Environment\n",
        "\n",
        "This notebook is meant to be run in colab"
      ]
    },
    {
      "cell_type": "code",
      "execution_count": 1,
      "metadata": {
        "id": "3IVdud_6dxZ1"
      },
      "outputs": [],
      "source": [
        "%load_ext autoreload\n",
        "%autoreload 2"
      ]
    },
    {
      "cell_type": "code",
      "execution_count": 2,
      "metadata": {
        "id": "PhL6tgrBdxZ1",
        "outputId": "39ae6ebd-ed51-49f4-d412-539cff6f31c6",
        "colab": {
          "base_uri": "https://localhost:8080/"
        }
      },
      "outputs": [
        {
          "output_type": "stream",
          "name": "stdout",
          "text": [
            "Cloning into 'NLP_CTF'...\n",
            "remote: Enumerating objects: 402, done.\u001b[K\n",
            "remote: Counting objects: 100% (73/73), done.\u001b[K\n",
            "remote: Compressing objects: 100% (54/54), done.\u001b[K\n",
            "remote: Total 402 (delta 39), reused 48 (delta 19), pack-reused 329\u001b[K\n",
            "Receiving objects: 100% (402/402), 85.03 MiB | 24.84 MiB/s, done.\n",
            "Resolving deltas: 100% (237/237), done.\n",
            "Checking out files: 100% (32/32), done.\n",
            "/content/NLP_CTF\n"
          ]
        }
      ],
      "source": [
        "!git clone https://github.com/mtzig/NLP_CTF.git\n",
        "%cd /content/NLP_CTF/"
      ]
    },
    {
      "cell_type": "code",
      "source": [
        "# !git pull"
      ],
      "metadata": {
        "id": "zXaD-4C9ehpq",
        "outputId": "610f62b0-b40a-4f3f-eb56-d915885d1460",
        "colab": {
          "base_uri": "https://localhost:8080/"
        }
      },
      "execution_count": 14,
      "outputs": [
        {
          "output_type": "stream",
          "name": "stdout",
          "text": [
            "remote: Enumerating objects: 5, done.\u001b[K\n",
            "remote: Counting objects:  20% (1/5)\u001b[K\rremote: Counting objects:  40% (2/5)\u001b[K\rremote: Counting objects:  60% (3/5)\u001b[K\rremote: Counting objects:  80% (4/5)\u001b[K\rremote: Counting objects: 100% (5/5)\u001b[K\rremote: Counting objects: 100% (5/5), done.\u001b[K\n",
            "remote: Compressing objects: 100% (1/1)\u001b[K\rremote: Compressing objects: 100% (1/1), done.\u001b[K\n",
            "remote: Total 3 (delta 2), reused 3 (delta 2), pack-reused 0\u001b[K\n",
            "Unpacking objects:  33% (1/3)   \rUnpacking objects:  66% (2/3)   \rUnpacking objects: 100% (3/3)   \rUnpacking objects: 100% (3/3), done.\n",
            "From https://github.com/mtzig/NLP_CTF\n",
            "   53d7f27..8987a70  main       -> origin/main\n",
            "Updating 53d7f27..8987a70\n",
            "Fast-forward\n",
            " train_eval.py | 2 \u001b[32m+\u001b[m\u001b[31m-\u001b[m\n",
            " 1 file changed, 1 insertion(+), 1 deletion(-)\n"
          ]
        }
      ]
    },
    {
      "cell_type": "markdown",
      "source": [
        "Manually download files too large to host on github"
      ],
      "metadata": {
        "id": "6qqJhCb2h0gK"
      }
    },
    {
      "cell_type": "code",
      "execution_count": 4,
      "metadata": {
        "id": "PYx7sTaTdxZ1",
        "outputId": "a050b9c8-e148-4a83-a407-8623e0897bc1",
        "colab": {
          "base_uri": "https://localhost:8080/"
        }
      },
      "outputs": [
        {
          "output_type": "stream",
          "name": "stdout",
          "text": [
            "/content/NLP_CTF/data\n",
            "--2022-10-21 17:03:48--  https://docs.google.com/uc?export=download&confirm=t&id=1JXm1N6SHmzIawgH7Aa4Ag-ZVuqLX7ba7\n",
            "Resolving docs.google.com (docs.google.com)... 142.250.145.139, 142.250.145.113, 142.250.145.102, ...\n",
            "Connecting to docs.google.com (docs.google.com)|142.250.145.139|:443... connected.\n",
            "HTTP request sent, awaiting response... 303 See Other\n",
            "Location: https://doc-08-7o-docs.googleusercontent.com/docs/securesc/ha0ro937gcuc7l7deffksulhg5h7mbp1/o9j10ji0poujquvgeqmr5bv5vpadfhq3/1666371825000/15857340408018396550/*/1JXm1N6SHmzIawgH7Aa4Ag-ZVuqLX7ba7?e=download&uuid=a0a1268e-679f-4281-8a5e-48dfb80120a8 [following]\n",
            "Warning: wildcards not supported in HTTP.\n",
            "--2022-10-21 17:03:48--  https://doc-08-7o-docs.googleusercontent.com/docs/securesc/ha0ro937gcuc7l7deffksulhg5h7mbp1/o9j10ji0poujquvgeqmr5bv5vpadfhq3/1666371825000/15857340408018396550/*/1JXm1N6SHmzIawgH7Aa4Ag-ZVuqLX7ba7?e=download&uuid=a0a1268e-679f-4281-8a5e-48dfb80120a8\n",
            "Resolving doc-08-7o-docs.googleusercontent.com (doc-08-7o-docs.googleusercontent.com)... 108.177.119.132, 2a00:1450:4013:c00::84\n",
            "Connecting to doc-08-7o-docs.googleusercontent.com (doc-08-7o-docs.googleusercontent.com)|108.177.119.132|:443... connected.\n",
            "HTTP request sent, awaiting response... 200 OK\n",
            "Length: 3644258522 (3.4G) [application/macbinary]\n",
            "Saving to: ‘GoogleNews-vectors-negative300.bin’\n",
            "\n",
            "GoogleNews-vectors- 100%[===================>]   3.39G  97.3MB/s    in 37s     \n",
            "\n",
            "2022-10-21 17:04:25 (93.7 MB/s) - ‘GoogleNews-vectors-negative300.bin’ saved [3644258522/3644258522]\n",
            "\n",
            "/content/NLP_CTF/data/civil_comments\n",
            "--2022-10-21 17:04:26--  http://wget/\n",
            "Resolving wget (wget)... failed: Name or service not known.\n",
            "wget: unable to resolve host address ‘wget’\n",
            "--2022-10-21 17:04:26--  https://docs.google.com/uc?export=download&confirm=t&id=1pVM0PGHDXrhE4dqQf-offz_Xv8SoPx0X\n",
            "Resolving docs.google.com (docs.google.com)... 108.177.119.138, 108.177.119.100, 108.177.119.102, ...\n",
            "Connecting to docs.google.com (docs.google.com)|108.177.119.138|:443... connected.\n",
            "HTTP request sent, awaiting response... 303 See Other\n",
            "Location: https://doc-08-7o-docs.googleusercontent.com/docs/securesc/ha0ro937gcuc7l7deffksulhg5h7mbp1/s01aoerq7sgt26shi0hb0tamnc3p9msg/1666371825000/15857340408018396550/*/1pVM0PGHDXrhE4dqQf-offz_Xv8SoPx0X?e=download&uuid=7acc97fd-5ebc-4f8c-903d-4d48dc353f6b [following]\n",
            "Warning: wildcards not supported in HTTP.\n",
            "--2022-10-21 17:04:26--  https://doc-08-7o-docs.googleusercontent.com/docs/securesc/ha0ro937gcuc7l7deffksulhg5h7mbp1/s01aoerq7sgt26shi0hb0tamnc3p9msg/1666371825000/15857340408018396550/*/1pVM0PGHDXrhE4dqQf-offz_Xv8SoPx0X?e=download&uuid=7acc97fd-5ebc-4f8c-903d-4d48dc353f6b\n",
            "Resolving doc-08-7o-docs.googleusercontent.com (doc-08-7o-docs.googleusercontent.com)... 108.177.119.132, 2a00:1450:4013:c00::84\n",
            "Connecting to doc-08-7o-docs.googleusercontent.com (doc-08-7o-docs.googleusercontent.com)|108.177.119.132|:443... connected.\n",
            "HTTP request sent, awaiting response... 200 OK\n",
            "Length: 272774548 (260M) [text/csv]\n",
            "Saving to: ‘civil_comments.csv’\n",
            "\n",
            "civil_comments.csv  100%[===================>] 260.14M   162MB/s    in 1.6s    \n",
            "\n",
            "2022-10-21 17:04:28 (162 MB/s) - ‘civil_comments.csv’ saved [272774548/272774548]\n",
            "\n",
            "FINISHED --2022-10-21 17:04:28--\n",
            "Total wall clock time: 2.2s\n",
            "Downloaded: 1 files, 260M in 1.6s (162 MB/s)\n",
            "/content/NLP_CTF/data\n",
            "/content/NLP_CTF\n"
          ]
        }
      ],
      "source": [
        "%cd /content/NLP_CTF/data\n",
        "!wget --load-cookies /tmp/cookies.txt \"https://docs.google.com/uc?export=download&confirm=$(wget --quiet --save-cookies /tmp/cookies.txt --keep-session-cookies --no-check-certificate 'https://docs.google.com/uc?export=download&id=1JXm1N6SHmzIawgH7Aa4Ag-ZVuqLX7ba7' -O- | sed -rn 's/.*confirm=([0-9A-Za-z_]+).*/\\1\\n/p')&id=1JXm1N6SHmzIawgH7Aa4Ag-ZVuqLX7ba7\" -O GoogleNews-vectors-negative300.bin && rm -rf /tmp/cookies.txt\n",
        "%cd ./civil_comments\n",
        "!wget wget --load-cookies /tmp/cookies.txt \"https://docs.google.com/uc?export=download&confirm=$(wget --quiet --save-cookies /tmp/cookies.txt --keep-session-cookies --no-check-certificate 'https://docs.google.com/uc?export=download&id=1pVM0PGHDXrhE4dqQf-offz_Xv8SoPx0X' -O- | sed -rn 's/.*confirm=([0-9A-Za-z_]+).*/\\1\\n/p')&id=1pVM0PGHDXrhE4dqQf-offz_Xv8SoPx0X\" -O civil_comments.csv && rm -rf /tmp/cookies.txt\n",
        "%cd ..\n",
        "%cd .."
      ]
    },
    {
      "cell_type": "code",
      "execution_count": 5,
      "metadata": {
        "id": "yV1T8DXSdxZ1",
        "outputId": "e5302708-170a-42ae-b440-a68af70f080e",
        "colab": {
          "base_uri": "https://localhost:8080/"
        }
      },
      "outputs": [
        {
          "output_type": "stream",
          "name": "stdout",
          "text": [
            "Looking in indexes: https://pypi.org/simple, https://us-python.pkg.dev/colab-wheels/public/simple/\n",
            "Requirement already satisfied: gensim in /usr/local/lib/python3.7/dist-packages (3.6.0)\n",
            "Collecting gensim\n",
            "  Downloading gensim-4.2.0-cp37-cp37m-manylinux_2_12_x86_64.manylinux2010_x86_64.whl (24.1 MB)\n",
            "\u001b[K     |████████████████████████████████| 24.1 MB 1.4 MB/s \n",
            "\u001b[?25hRequirement already satisfied: numpy>=1.17.0 in /usr/local/lib/python3.7/dist-packages (from gensim) (1.21.6)\n",
            "Requirement already satisfied: smart-open>=1.8.1 in /usr/local/lib/python3.7/dist-packages (from gensim) (5.2.1)\n",
            "Requirement already satisfied: scipy>=0.18.1 in /usr/local/lib/python3.7/dist-packages (from gensim) (1.7.3)\n",
            "Installing collected packages: gensim\n",
            "  Attempting uninstall: gensim\n",
            "    Found existing installation: gensim 3.6.0\n",
            "    Uninstalling gensim-3.6.0:\n",
            "      Successfully uninstalled gensim-3.6.0\n",
            "Successfully installed gensim-4.2.0\n"
          ]
        }
      ],
      "source": [
        "!pip install --upgrade gensim\n"
      ]
    },
    {
      "cell_type": "code",
      "source": [
        "from google.colab import files"
      ],
      "metadata": {
        "id": "KNDrDszse39A"
      },
      "execution_count": 6,
      "outputs": []
    },
    {
      "cell_type": "markdown",
      "source": [
        "# Run experiment"
      ],
      "metadata": {
        "id": "9Owo4AXIeGr5"
      }
    },
    {
      "cell_type": "markdown",
      "source": [
        "below runs baseline, verbose (displays more output during experiment), 2 trials, saves csv as baseline_experiment.csv"
      ],
      "metadata": {
        "id": "SnY0dyEXgDKX"
      }
    },
    {
      "cell_type": "code",
      "source": [
        "!python run.py baseline -v -t 2 -n baseline_experiment"
      ],
      "metadata": {
        "id": "9oINCMi_d-Bk"
      },
      "execution_count": null,
      "outputs": []
    },
    {
      "cell_type": "markdown",
      "source": [
        "After running experiment, we can download (this command only works on chrome with third party cookies enabled)\n",
        "\n"
      ],
      "metadata": {
        "id": "PqjTb1XLetuq"
      }
    },
    {
      "cell_type": "code",
      "source": [
        "files.download('baseline_experiment.csv') "
      ],
      "metadata": {
        "id": "pNl9gt2Ue4zU",
        "outputId": "ec1a96f2-0a6b-4cc9-cac1-a02cb3241ff6",
        "colab": {
          "base_uri": "https://localhost:8080/",
          "height": 17
        }
      },
      "execution_count": 16,
      "outputs": [
        {
          "output_type": "display_data",
          "data": {
            "text/plain": [
              "<IPython.core.display.Javascript object>"
            ],
            "application/javascript": [
              "\n",
              "    async function download(id, filename, size) {\n",
              "      if (!google.colab.kernel.accessAllowed) {\n",
              "        return;\n",
              "      }\n",
              "      const div = document.createElement('div');\n",
              "      const label = document.createElement('label');\n",
              "      label.textContent = `Downloading \"${filename}\": `;\n",
              "      div.appendChild(label);\n",
              "      const progress = document.createElement('progress');\n",
              "      progress.max = size;\n",
              "      div.appendChild(progress);\n",
              "      document.body.appendChild(div);\n",
              "\n",
              "      const buffers = [];\n",
              "      let downloaded = 0;\n",
              "\n",
              "      const channel = await google.colab.kernel.comms.open(id);\n",
              "      // Send a message to notify the kernel that we're ready.\n",
              "      channel.send({})\n",
              "\n",
              "      for await (const message of channel.messages) {\n",
              "        // Send a message to notify the kernel that we're ready.\n",
              "        channel.send({})\n",
              "        if (message.buffers) {\n",
              "          for (const buffer of message.buffers) {\n",
              "            buffers.push(buffer);\n",
              "            downloaded += buffer.byteLength;\n",
              "            progress.value = downloaded;\n",
              "          }\n",
              "        }\n",
              "      }\n",
              "      const blob = new Blob(buffers, {type: 'application/binary'});\n",
              "      const a = document.createElement('a');\n",
              "      a.href = window.URL.createObjectURL(blob);\n",
              "      a.download = filename;\n",
              "      div.appendChild(a);\n",
              "      a.click();\n",
              "      div.remove();\n",
              "    }\n",
              "  "
            ]
          },
          "metadata": {}
        },
        {
          "output_type": "display_data",
          "data": {
            "text/plain": [
              "<IPython.core.display.Javascript object>"
            ],
            "application/javascript": [
              "download(\"download_fcc69421-696a-4525-af0d-c9945062e26d\", \"baseline_experiment.csv\", 338)"
            ]
          },
          "metadata": {}
        }
      ]
    }
  ],
  "metadata": {
    "kernelspec": {
      "display_name": "Python 3.10.4 ('DL')",
      "language": "python",
      "name": "python3"
    },
    "language_info": {
      "name": "python",
      "version": "3.10.4"
    },
    "orig_nbformat": 4,
    "vscode": {
      "interpreter": {
        "hash": "3b5da4dccc5d959110f70bd428b51197bb0688003461a0e87be372a9c01e32ac"
      }
    },
    "colab": {
      "provenance": [],
      "include_colab_link": true
    },
    "accelerator": "GPU"
  },
  "nbformat": 4,
  "nbformat_minor": 0
}